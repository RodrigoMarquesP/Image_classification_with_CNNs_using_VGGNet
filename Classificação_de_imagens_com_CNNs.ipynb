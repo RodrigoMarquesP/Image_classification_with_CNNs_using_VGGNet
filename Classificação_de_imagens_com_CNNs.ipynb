{
  "nbformat": 4,
  "nbformat_minor": 0,
  "metadata": {
    "colab": {
      "name": "Classificação_de_imagens_com_CNNs",
      "provenance": [],
      "collapsed_sections": [],
      "authorship_tag": "ABX9TyPpEqD8wj1ACiKTcSh5FIhF",
      "include_colab_link": true
    },
    "kernelspec": {
      "name": "python3",
      "display_name": "Python 3"
    },
    "accelerator": "GPU"
  },
  "cells": [
    {
      "cell_type": "markdown",
      "metadata": {
        "id": "view-in-github",
        "colab_type": "text"
      },
      "source": [
        "<a href=\"https://colab.research.google.com/github/RodrigoMarquesP/Image_classification_with_CNNs_using_VGGNet/blob/main/Classifica%C3%A7%C3%A3o_de_imagens_com_CNNs.ipynb\" target=\"_parent\"><img src=\"https://colab.research.google.com/assets/colab-badge.svg\" alt=\"Open In Colab\"/></a>"
      ]
    },
    {
      "cell_type": "markdown",
      "metadata": {
        "id": "LCnMRbMkh6Iy"
      },
      "source": [
        "Obs: O texto se atém ao máximo à língua portuguesa, mas para manter os termos mais frequentemente encontrados na literatura e comunidade, utilizaremos as palavras **input/output** para **entrada/saída** da rede respectivamente, bem como usaremos **dataset** para falar sobre o **conjunto de dados**."
      ]
    },
    {
      "cell_type": "markdown",
      "metadata": {
        "id": "N6E0fgETSZcT"
      },
      "source": [
        "# ***Afinal, por que classificar imagens?***\n",
        "\n",
        "A classificação de imagens é o primeiro passo para a visão computacional: para humanos e máquinas, rotular as percepções é necessário para compreender o ambiente, e então tomar decisões e ações sob ele.\n",
        "\n",
        "\n",
        "<p align=\"center\">\n",
        "<img src=\"https://raw.githubusercontent.com/RodrigoMarquesP/Image_classification_with_CNNs_using_VGGNet/main/files/Observacao.jpg\">\n",
        "</p>\n",
        "\n",
        "Ao fornecer visão a um computador, juntamente com a habilidade para \"compreendê-la\", qualquer tarefa visual pode ser automatizada, facilmente superando as capacidades humanas. Já existem vários registros na área médica de tarefas de reconhecimento visual em que inteligências artificiais se saem melhor. Este artigo mostra alguns deles:\n",
        "\n",
        "*   [Computer Vision Is Transforming Medicine](https://www.linkedin.com/pulse/how-computer-vision-transforming-medicine-margaretta-colangelo/)\n",
        "\n",
        "Definitivamente, não é apenas na área médica! Gaste apenas um minuto pesquisando na área que mais gostar, e você encontrará aplicações visuais de IA revolucionando-a.\n",
        "\n",
        "\n",
        "\n",
        "\n",
        "\n",
        "\n"
      ]
    },
    {
      "cell_type": "markdown",
      "metadata": {
        "id": "FDDhyQ75ncOw"
      },
      "source": [
        "# ***Como classificar uma imagem***\n",
        "\n",
        "A abordagem do deep learning é treinar uma rede para compreender as diferenças entre algumas classes de imagens.\n",
        "\n",
        "Para tal, existem várias diferentes arquiteturas de rede neural, incluindo a mais simples de todas: algumas camadas densas [tf.keras.layers.Dense](https://www.tensorflow.org/api_docs/python/tf/keras/layers/Dense) com ativação softmax do output para obter as probabilidades diretas de cada classe. Mesmo funcionando, essa abordagem traz consigo diversos problemas:\n",
        "\n",
        "\n",
        "*   Treino demorado;\n",
        "*   Baixa performance;\n",
        "*   Muito enviesado ao dataset;\n",
        "*   Ignora relações espaciais;\n",
        "*   Não consegue distinguir entre características diferentes;\n",
        "\n",
        "&rarr; Para resumir: Uma rede neural padrão não pode resolver problemas reais de visão computacional."
      ]
    },
    {
      "cell_type": "markdown",
      "metadata": {
        "id": "Vq4TznTWM-OW"
      },
      "source": [
        "# ***Rede Neural Convolucional (Convolutional Neural Network - CNN)***\n",
        "\n",
        "O núcleo dos algoritmos modernos de visão computacional é a **Rede Neural Convolucional** ou **CNN**. A razão para isso é o modo como ela \"compreende\" cada imagem: não apenas um vetor de números, mas várias características hierárquicas e espaciais.\n",
        "\n",
        "\n",
        "<p align=\"center\">\n",
        "<img src=\"https://raw.githubusercontent.com/RodrigoMarquesP/Image_classification_with_CNNs_using_VGGNet/main/files/feature_levels.png\">\n",
        "</p>\n",
        "\n",
        "Sim, isso faz toda a diferença. A rede não irá simplesmente extrair a distribuição dos dados, mas a distribuição de suas característica e suas relações espaciais, o que é bem mais próximo do que os humanos fazem.\n",
        "\n",
        "<p align=\"center\">\n",
        "<img src=\"https://raw.githubusercontent.com/RodrigoMarquesP/Image_classification_with_CNNs_using_VGGNet/main/files/almost_human.gif\">\n",
        "</p>\n",
        "\n",
        "Portanto, se duas imagens compartilham várias características, elas provavelmente pertencem à mesma classe. Isso permite que a rede lide muito bem com vários possíveis problemas:\n",
        "\n",
        "\n",
        "*   Variação de ângulo;\n",
        "*   Condições de iluminação;\n",
        "*   Variações de tamanho;\n",
        "*   Deformação;\n",
        "*   Oclusão;\n",
        "*   Fundo variado e confuso;\n",
        "*   Variações intra-classe;\n"
      ]
    },
    {
      "cell_type": "markdown",
      "metadata": {
        "id": "olJuvpAgLx-G"
      },
      "source": [
        "## ***A operação de convolução***\n",
        "\n",
        "Lembre-se da ideia chave: compreender características ao invés de apenas pixels. Mas como uma rede faz isso? Ela utiliza da operação convolucional, que é implementado através da camada [tf.keras.layers.Conv2D](https://www.tensorflow.org/api_docs/python/tf/keras/layers/Conv2D).\n",
        "\n",
        "Primeiramente, ao invés de conectar todo input a um neurônio da camada, conectamos apenas uma parcela, chamada *patch*:\n",
        "\n",
        "<p align=\"center\">\n",
        "<img src=\"https://raw.githubusercontent.com/RodrigoMarquesP/Image_classification_with_CNNs_using_VGGNet/main/files/pacote.jpg\">\n",
        "</p>\n",
        "\n",
        "Os pacotes são capturados por uma janela deslizante que se desloca de *n* em *n* pixels para selecionar os demais pacotes. '*n*' é um parâmetro da camada.\n",
        "\n",
        "Isso permite que cada neurônio capture apenas uma única parte da imagem, e através dos pesos associados a ele, transformar este míni-imagem numa representação de alguma característica. A característica a ser reconhecida depende dos pesos, e por conta disso, o conjunto de pesos é chamado de filtro. Um único filtro aplicado a todos os pacotes é chamado de **operação convolucional** e tem como produto um **mapa de característica** ou **feature map**.\n",
        "\n",
        "Aplicar diferentes filtros captura diferentes características, como pontos claros, pontos escuros, linhas horizontais, linhas verticais, etc. Ao fazer isso, geramos um **mapa de característica** para cada característica desejada: um volume de imagens ou um cubo de dados.\n",
        "\n",
        "Logo, a dimensão do output da camada convolucional será (**n**, **m**, **f**), sendo **n**x**m** a dimensão da imagem, e **f** o número de características desejadas.\n",
        "\n",
        "### *Função de ativação*\n",
        "\n",
        "Para lidar com dados não lineares, precisamos de ativações não lineares. A mais usada é a ReLu ('rectified linear unit' ou unidade retificadora linear). Essa ativação retorna o próprio número caso este seja positivo, e zero caso seja negativo.\n",
        "\n",
        "<p align=\"center\">\n",
        "<img src=\"https://raw.githubusercontent.com/RodrigoMarquesP/Image_classification_with_CNNs_using_VGGNet/main/files/relu.png\" width=500>\n",
        "</p>\n",
        "\n"
      ]
    },
    {
      "cell_type": "markdown",
      "metadata": {
        "id": "lTD7NlxUMCiP"
      },
      "source": [
        "## ***A operação de \"pooling\" ou agrupamento***\n",
        "\n",
        "Para lidar com variações de tamanho, a operação de agrupamento é responsável por reduzir a dimensionalidade de seu input, comprimindo as representações das características. Essa operação requer uma ordem de redimensionamento, ex.:\n",
        "\n",
        "*   Se a ordem for 4, o **mapa de característica** será particionado de 4 em 4 pixels, onde cada partição será transformada em apenas um pixel após a operação.\n",
        "\n",
        "Uma operação de pooling muito utilizada é a **Max Pooling**: para cada partição, considere a maior. Isso é implementado pela camada [tf.keras.layers.MaxPool2D](https://www.tensorflow.org/api_docs/python/tf/keras/layers/MaxPool2D).\n",
        "\n",
        "<p align=\"center\">\n",
        "<img src=\"https://raw.githubusercontent.com/RodrigoMarquesP/Image_classification_with_CNNs_using_VGGNet/main/files/pooling.png\" width=500>\n",
        "</p>\n"
      ]
    },
    {
      "cell_type": "markdown",
      "metadata": {
        "id": "utluV-BiYmEd"
      },
      "source": [
        "## ***Melhoramentos***\n",
        "\n",
        "Podemos treinar mais rapidamente e até obter melhores resultados aplicando algumas melhorias a nossa rede. Neste projeto em específico usarei duas:\n",
        "\n",
        "*   [tf.keras.layers.BatchNormalization](https://www.tensorflow.org/api_docs/python/tf/keras/layers/BatchNormalization)\n",
        "*   [tf.keras.layers.Dropout](https://www.tensorflow.org/api_docs/python/tf/keras/layers/Dropout)\n",
        "\n",
        "\n",
        "\n"
      ]
    },
    {
      "cell_type": "markdown",
      "metadata": {
        "id": "w3jdifdXaA73"
      },
      "source": [
        "### *Batch Normalization*\n",
        "\n",
        "Enquanto treinamos nossa rede, a distribuição dos dados muda ao longo das camadas e ao longo do processo de treinamento. Podemos normalizar o dataset, mas dentro da rede isso será bem diferente. Para resolver isso podemos normalizar os valores internamente. A normalização dos valores internos da rede proporciona um treinamento mais rápido, menos ruidoso, e diminui as chances de sobreajuste (overfitting).\n",
        " \n",
        "A camada normalização de pacote (batch normalization) é essa solução de normalização interna. Ela normaliza seu input com média zero e desvio padrão igual a um (μ=0,σ=1). Ela pode ser colocada ao longo da sequência em muitos lugares como veremos abaixo.\n",
        "\n",
        "\n",
        "<p align=\"center\">\n",
        "<img src=\"https://raw.githubusercontent.com/RodrigoMarquesP/Image_classification_with_CNNs_using_VGGNet/main/files/normalizacao_batch.png\" width=500>\n",
        "</p>\n",
        "\n"
      ]
    },
    {
      "cell_type": "markdown",
      "metadata": {
        "id": "Ay36A2tQaCiN"
      },
      "source": [
        "### *Dropout*\n",
        "\n",
        "Durante o treinamento, uma camada pode aprender tentando corrigir os erros das camadas anteriores, o que resulta em camadas não operando como deveriam. Isso significa que a rede está memorizando os dados, isto é, super-ajustando (overfitting).\n",
        " \n",
        "Uma técnica muito usado para evitar isso é a **camada de dropout**. Ela determina que os neurônios de uma camada tem uma probabilidade de serem desativados durante o treinamento:\n",
        "\n",
        "<p align=\"center\">\n",
        "<img src=\"https://raw.githubusercontent.com/RodrigoMarquesP/Image_classification_with_CNNs_using_VGGNet/main/files/dropout.gif\" width=500>\n",
        "</p>\n",
        "\n",
        "\n",
        "As consequências são:\n",
        "\n",
        "1.   Como sempre existem alguns neurônios desativados, o restante deles precisa tomar responsabilidade pelos resultados da rede;\n",
        "2.   Como os neurônios inativos sempre mudam, cada neurônio acaba por tomar responsabilidade pelo resultado;\n",
        "\n",
        "Usar camadas de dropout requer maior tempo de treinamento mas ajuda a rede a ser mais generalista (não sobreajustar).\n",
        "\n",
        "\n",
        "\n"
      ]
    },
    {
      "cell_type": "markdown",
      "metadata": {
        "id": "RRsBqSJoMHSz"
      },
      "source": [
        "## ***Entrega de resultados***\n",
        "\n",
        "<p align=\"center\">\n",
        "<img src=\"https://raw.githubusercontent.com/RodrigoMarquesP/Image_classification_with_CNNs_using_VGGNet/main/files/deliver_results.gif\">\n",
        "</p>\n",
        "\n",
        "As operações de convolução e pooling podem ser repetidas (CONV->POOL->CONV->POOL->...CONV->POOL->) para formar o que é chamado de porção de **aprendizado de características**. No entanto, como utilizar essas representações das características da imagem para prever sua classe?\n",
        " \n",
        "Agora que estamos atuando sob as características ao invés de apenas pixels, podemos usar camadas densas para gerar a distribuição de probabilidade de cada classe. A [ativação softmax](https://www.tensorflow.org/api_docs/python/tf/keras/activations/softmax) da última camada densa nos dará um número entre 0 e 1 para cada classe, sendo a probabilidade prevista para a mesma. Logo, podemos tomar o argmax (posição do valor mais alto) como a classe prevista pela rede."
      ]
    },
    {
      "cell_type": "markdown",
      "metadata": {
        "id": "27UZQBDlM_im"
      },
      "source": [
        "# ***Implementação***\n",
        "\n",
        "Antes mesmo de começar o projeto, vá até a opção de Ambiente de execução na barra de opções e altere o ambiente de execução para GPU, o que acelera as operações computacionais. Depois disso, vamos importar e configurar nossos pacotes:"
      ]
    },
    {
      "cell_type": "code",
      "metadata": {
        "id": "q5VsdLEAMWU7"
      },
      "source": [
        "# Especificando a versão do tensorflow\n",
        "%tensorflow_version 2.x\n",
        "\n",
        "import tensorflow as tf\n",
        "import numpy as np\n",
        "import matplotlib.pyplot as plt\n",
        "from sklearn.metrics import classification_report\n",
        "\n",
        "# Configurando o formato das figuras\n",
        "%matplotlib inline\n",
        "%config InlineBackend.figure_format = 'svg'\n",
        "\n",
        "# Mudando o estilo das figuras\n",
        "plt.style.use('fivethirtyeight')"
      ],
      "execution_count": 1,
      "outputs": []
    },
    {
      "cell_type": "markdown",
      "metadata": {
        "id": "tSJ-_G3zbsFJ"
      },
      "source": [
        "## ***O dataset: fashion MNIST***\n",
        "\n",
        "**Fashion MNIST** é um dataset padrão para deep learning em visão computacional. **MNIST** é um dataset muito conhecido de dígitos escritos a mão, e o **Fashion MNIST** é sua \"versão com roupas\".\n",
        " \n",
        "Ele contém 70 mil imagens de 10 diferentes classes, onde 60 mil são para treinamento e 10 mil para teste. As classes são:\n",
        "\n",
        "Label | Classe \n",
        "--- | --- \n",
        "0 | Camiseta/top\n",
        "1 | Calça\n",
        "2 | Suéter\n",
        "3 | Vestido\n",
        "4 | Casaco\n",
        "5 | Sandália\n",
        "6 | Camisa\n",
        "7 | Tênis\n",
        "8 | Bolsa\n",
        "9 | Bota\n",
        "\n",
        "E se parecem com isso:\n",
        "\n",
        "<p align=\"center\">\n",
        "<img src=\"https://raw.githubusercontent.com/RodrigoMarquesP/Image_classification_with_CNNs_using_VGGNet/main/files/dataset_view.png\" width=400>\n",
        "</p>\n",
        "\n",
        "Podemos carregar o dataset diretamente de [tf.keras.datasets](https://www.tensorflow.org/api_docs/python/tf/keras/datasets):\n",
        "\n"
      ]
    },
    {
      "cell_type": "code",
      "metadata": {
        "id": "ZSU02WkpwI0T",
        "outputId": "6b1739fe-5593-42f0-fea4-cb2e9d058a68",
        "colab": {
          "base_uri": "https://localhost:8080/",
          "height": 650
        }
      },
      "source": [
        "(X_treino, y_treino), (X_teste, y_teste) = tf.keras.datasets.fashion_mnist.load_data()\n",
        "\n",
        "# Podemos observar a imagem e seu array correspondente\n",
        "plt.imshow(X_treino[0], cmap=plt.cm.binary)\n",
        "print(X_treino[0][10:][:5])  # uma fatia da imagem"
      ],
      "execution_count": 2,
      "outputs": [
        {
          "output_type": "stream",
          "text": [
            "Downloading data from https://storage.googleapis.com/tensorflow/tf-keras-datasets/train-labels-idx1-ubyte.gz\n",
            "32768/29515 [=================================] - 0s 0us/step\n",
            "Downloading data from https://storage.googleapis.com/tensorflow/tf-keras-datasets/train-images-idx3-ubyte.gz\n",
            "26427392/26421880 [==============================] - 0s 0us/step\n",
            "Downloading data from https://storage.googleapis.com/tensorflow/tf-keras-datasets/t10k-labels-idx1-ubyte.gz\n",
            "8192/5148 [===============================================] - 0s 0us/step\n",
            "Downloading data from https://storage.googleapis.com/tensorflow/tf-keras-datasets/t10k-images-idx3-ubyte.gz\n",
            "4423680/4422102 [==============================] - 0s 0us/step\n",
            "[[  0   0   0   0   0   0   0   0   0   0   0   0   0 193 228 218 213 198\n",
            "  180 212 210 211 213 223 220 243 202   0]\n",
            " [  0   0   0   0   0   0   0   0   0   1   3   0  12 219 220 212 218 192\n",
            "  169 227 208 218 224 212 226 197 209  52]\n",
            " [  0   0   0   0   0   0   0   0   0   0   6   0  99 244 222 220 218 203\n",
            "  198 221 215 213 222 220 245 119 167  56]\n",
            " [  0   0   0   0   0   0   0   0   0   4   0   0  55 236 228 230 228 240\n",
            "  232 213 218 223 234 217 217 209  92   0]\n",
            " [  0   0   1   4   6   7   2   0   0   0   0   0 237 226 217 223 222 219\n",
            "  222 221 216 223 229 215 218 255  77   0]]\n"
          ],
          "name": "stdout"
        },
        {
          "output_type": "display_data",
          "data": {
            "text/plain": [
              "<Figure size 432x288 with 1 Axes>"
            ],
            "image/svg+xml": "<?xml version=\"1.0\" encoding=\"utf-8\" standalone=\"no\"?>\n<!DOCTYPE svg PUBLIC \"-//W3C//DTD SVG 1.1//EN\"\n  \"http://www.w3.org/Graphics/SVG/1.1/DTD/svg11.dtd\">\n<!-- Created with matplotlib (https://matplotlib.org/) -->\n<svg height=\"245.018125pt\" version=\"1.1\" viewBox=\"0 0 248.065 245.018125\" width=\"248.065pt\" xmlns=\"http://www.w3.org/2000/svg\" xmlns:xlink=\"http://www.w3.org/1999/xlink\">\n <defs>\n  <style type=\"text/css\">\n*{stroke-linecap:butt;stroke-linejoin:round;}\n  </style>\n </defs>\n <g id=\"figure_1\">\n  <g id=\"patch_1\">\n   <path d=\"M 0 245.018125 \nL 248.065 245.018125 \nL 248.065 0 \nL 0 0 \nz\n\" style=\"fill:none;\"/>\n  </g>\n  <g id=\"axes_1\">\n   <g id=\"patch_2\">\n    <path d=\"M 23.425 224.64 \nL 240.865 224.64 \nL 240.865 7.2 \nL 23.425 7.2 \nz\n\" style=\"fill:#f0f0f0;\"/>\n   </g>\n   <g clip-path=\"url(#pe6cfab15d6)\">\n    <image height=\"218\" id=\"image8e2b27873c\" transform=\"scale(1 -1)translate(0 -218)\" width=\"218\" x=\"23.425\" xlink:href=\"data:image/png;base64,\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\" y=\"-6.64\"/>\n   </g>\n   <g id=\"matplotlib.axis_1\">\n    <g id=\"xtick_1\">\n     <g id=\"line2d_1\">\n      <path clip-path=\"url(#pe6cfab15d6)\" d=\"M 27.307857 224.64 \nL 27.307857 7.2 \n\" style=\"fill:none;stroke:#cbcbcb;\"/>\n     </g>\n     <g id=\"line2d_2\"/>\n     <g id=\"text_1\">\n      <!-- 0 -->\n      <defs>\n       <path d=\"M 31.78125 66.40625 \nQ 24.171875 66.40625 20.328125 58.90625 \nQ 16.5 51.421875 16.5 36.375 \nQ 16.5 21.390625 20.328125 13.890625 \nQ 24.171875 6.390625 31.78125 6.390625 \nQ 39.453125 6.390625 43.28125 13.890625 \nQ 47.125 21.390625 47.125 36.375 \nQ 47.125 51.421875 43.28125 58.90625 \nQ 39.453125 66.40625 31.78125 66.40625 \nz\nM 31.78125 74.21875 \nQ 44.046875 74.21875 50.515625 64.515625 \nQ 56.984375 54.828125 56.984375 36.375 \nQ 56.984375 17.96875 50.515625 8.265625 \nQ 44.046875 -1.421875 31.78125 -1.421875 \nQ 19.53125 -1.421875 13.0625 8.265625 \nQ 6.59375 17.96875 6.59375 36.375 \nQ 6.59375 54.828125 13.0625 64.515625 \nQ 19.53125 74.21875 31.78125 74.21875 \nz\n\" id=\"DejaVuSans-48\"/>\n      </defs>\n      <g transform=\"translate(24.126607 235.738437)scale(0.1 -0.1)\">\n       <use xlink:href=\"#DejaVuSans-48\"/>\n      </g>\n     </g>\n    </g>\n    <g id=\"xtick_2\">\n     <g id=\"line2d_3\">\n      <path clip-path=\"url(#pe6cfab15d6)\" d=\"M 66.136429 224.64 \nL 66.136429 7.2 \n\" style=\"fill:none;stroke:#cbcbcb;\"/>\n     </g>\n     <g id=\"line2d_4\"/>\n     <g id=\"text_2\">\n      <!-- 5 -->\n      <defs>\n       <path d=\"M 10.796875 72.90625 \nL 49.515625 72.90625 \nL 49.515625 64.59375 \nL 19.828125 64.59375 \nL 19.828125 46.734375 \nQ 21.96875 47.46875 24.109375 47.828125 \nQ 26.265625 48.1875 28.421875 48.1875 \nQ 40.625 48.1875 47.75 41.5 \nQ 54.890625 34.8125 54.890625 23.390625 \nQ 54.890625 11.625 47.5625 5.09375 \nQ 40.234375 -1.421875 26.90625 -1.421875 \nQ 22.3125 -1.421875 17.546875 -0.640625 \nQ 12.796875 0.140625 7.71875 1.703125 \nL 7.71875 11.625 \nQ 12.109375 9.234375 16.796875 8.0625 \nQ 21.484375 6.890625 26.703125 6.890625 \nQ 35.15625 6.890625 40.078125 11.328125 \nQ 45.015625 15.765625 45.015625 23.390625 \nQ 45.015625 31 40.078125 35.4375 \nQ 35.15625 39.890625 26.703125 39.890625 \nQ 22.75 39.890625 18.8125 39.015625 \nQ 14.890625 38.140625 10.796875 36.28125 \nz\n\" id=\"DejaVuSans-53\"/>\n      </defs>\n      <g transform=\"translate(62.955179 235.738437)scale(0.1 -0.1)\">\n       <use xlink:href=\"#DejaVuSans-53\"/>\n      </g>\n     </g>\n    </g>\n    <g id=\"xtick_3\">\n     <g id=\"line2d_5\">\n      <path clip-path=\"url(#pe6cfab15d6)\" d=\"M 104.965 224.64 \nL 104.965 7.2 \n\" style=\"fill:none;stroke:#cbcbcb;\"/>\n     </g>\n     <g id=\"line2d_6\"/>\n     <g id=\"text_3\">\n      <!-- 10 -->\n      <defs>\n       <path d=\"M 12.40625 8.296875 \nL 28.515625 8.296875 \nL 28.515625 63.921875 \nL 10.984375 60.40625 \nL 10.984375 69.390625 \nL 28.421875 72.90625 \nL 38.28125 72.90625 \nL 38.28125 8.296875 \nL 54.390625 8.296875 \nL 54.390625 0 \nL 12.40625 0 \nz\n\" id=\"DejaVuSans-49\"/>\n      </defs>\n      <g transform=\"translate(98.6025 235.738437)scale(0.1 -0.1)\">\n       <use xlink:href=\"#DejaVuSans-49\"/>\n       <use x=\"63.623047\" xlink:href=\"#DejaVuSans-48\"/>\n      </g>\n     </g>\n    </g>\n    <g id=\"xtick_4\">\n     <g id=\"line2d_7\">\n      <path clip-path=\"url(#pe6cfab15d6)\" d=\"M 143.793571 224.64 \nL 143.793571 7.2 \n\" style=\"fill:none;stroke:#cbcbcb;\"/>\n     </g>\n     <g id=\"line2d_8\"/>\n     <g id=\"text_4\">\n      <!-- 15 -->\n      <g transform=\"translate(137.431071 235.738437)scale(0.1 -0.1)\">\n       <use xlink:href=\"#DejaVuSans-49\"/>\n       <use x=\"63.623047\" xlink:href=\"#DejaVuSans-53\"/>\n      </g>\n     </g>\n    </g>\n    <g id=\"xtick_5\">\n     <g id=\"line2d_9\">\n      <path clip-path=\"url(#pe6cfab15d6)\" d=\"M 182.622143 224.64 \nL 182.622143 7.2 \n\" style=\"fill:none;stroke:#cbcbcb;\"/>\n     </g>\n     <g id=\"line2d_10\"/>\n     <g id=\"text_5\">\n      <!-- 20 -->\n      <defs>\n       <path d=\"M 19.1875 8.296875 \nL 53.609375 8.296875 \nL 53.609375 0 \nL 7.328125 0 \nL 7.328125 8.296875 \nQ 12.9375 14.109375 22.625 23.890625 \nQ 32.328125 33.6875 34.8125 36.53125 \nQ 39.546875 41.84375 41.421875 45.53125 \nQ 43.3125 49.21875 43.3125 52.78125 \nQ 43.3125 58.59375 39.234375 62.25 \nQ 35.15625 65.921875 28.609375 65.921875 \nQ 23.96875 65.921875 18.8125 64.3125 \nQ 13.671875 62.703125 7.8125 59.421875 \nL 7.8125 69.390625 \nQ 13.765625 71.78125 18.9375 73 \nQ 24.125 74.21875 28.421875 74.21875 \nQ 39.75 74.21875 46.484375 68.546875 \nQ 53.21875 62.890625 53.21875 53.421875 \nQ 53.21875 48.921875 51.53125 44.890625 \nQ 49.859375 40.875 45.40625 35.40625 \nQ 44.1875 33.984375 37.640625 27.21875 \nQ 31.109375 20.453125 19.1875 8.296875 \nz\n\" id=\"DejaVuSans-50\"/>\n      </defs>\n      <g transform=\"translate(176.259643 235.738437)scale(0.1 -0.1)\">\n       <use xlink:href=\"#DejaVuSans-50\"/>\n       <use x=\"63.623047\" xlink:href=\"#DejaVuSans-48\"/>\n      </g>\n     </g>\n    </g>\n    <g id=\"xtick_6\">\n     <g id=\"line2d_11\">\n      <path clip-path=\"url(#pe6cfab15d6)\" d=\"M 221.450714 224.64 \nL 221.450714 7.2 \n\" style=\"fill:none;stroke:#cbcbcb;\"/>\n     </g>\n     <g id=\"line2d_12\"/>\n     <g id=\"text_6\">\n      <!-- 25 -->\n      <g transform=\"translate(215.088214 235.738437)scale(0.1 -0.1)\">\n       <use xlink:href=\"#DejaVuSans-50\"/>\n       <use x=\"63.623047\" xlink:href=\"#DejaVuSans-53\"/>\n      </g>\n     </g>\n    </g>\n   </g>\n   <g id=\"matplotlib.axis_2\">\n    <g id=\"ytick_1\">\n     <g id=\"line2d_13\">\n      <path clip-path=\"url(#pe6cfab15d6)\" d=\"M 23.425 11.082857 \nL 240.865 11.082857 \n\" style=\"fill:none;stroke:#cbcbcb;\"/>\n     </g>\n     <g id=\"line2d_14\"/>\n     <g id=\"text_7\">\n      <!-- 0 -->\n      <g transform=\"translate(13.5625 14.882076)scale(0.1 -0.1)\">\n       <use xlink:href=\"#DejaVuSans-48\"/>\n      </g>\n     </g>\n    </g>\n    <g id=\"ytick_2\">\n     <g id=\"line2d_15\">\n      <path clip-path=\"url(#pe6cfab15d6)\" d=\"M 23.425 49.911429 \nL 240.865 49.911429 \n\" style=\"fill:none;stroke:#cbcbcb;\"/>\n     </g>\n     <g id=\"line2d_16\"/>\n     <g id=\"text_8\">\n      <!-- 5 -->\n      <g transform=\"translate(13.5625 53.710647)scale(0.1 -0.1)\">\n       <use xlink:href=\"#DejaVuSans-53\"/>\n      </g>\n     </g>\n    </g>\n    <g id=\"ytick_3\">\n     <g id=\"line2d_17\">\n      <path clip-path=\"url(#pe6cfab15d6)\" d=\"M 23.425 88.74 \nL 240.865 88.74 \n\" style=\"fill:none;stroke:#cbcbcb;\"/>\n     </g>\n     <g id=\"line2d_18\"/>\n     <g id=\"text_9\">\n      <!-- 10 -->\n      <g transform=\"translate(7.2 92.539219)scale(0.1 -0.1)\">\n       <use xlink:href=\"#DejaVuSans-49\"/>\n       <use x=\"63.623047\" xlink:href=\"#DejaVuSans-48\"/>\n      </g>\n     </g>\n    </g>\n    <g id=\"ytick_4\">\n     <g id=\"line2d_19\">\n      <path clip-path=\"url(#pe6cfab15d6)\" d=\"M 23.425 127.568571 \nL 240.865 127.568571 \n\" style=\"fill:none;stroke:#cbcbcb;\"/>\n     </g>\n     <g id=\"line2d_20\"/>\n     <g id=\"text_10\">\n      <!-- 15 -->\n      <g transform=\"translate(7.2 131.36779)scale(0.1 -0.1)\">\n       <use xlink:href=\"#DejaVuSans-49\"/>\n       <use x=\"63.623047\" xlink:href=\"#DejaVuSans-53\"/>\n      </g>\n     </g>\n    </g>\n    <g id=\"ytick_5\">\n     <g id=\"line2d_21\">\n      <path clip-path=\"url(#pe6cfab15d6)\" d=\"M 23.425 166.397143 \nL 240.865 166.397143 \n\" style=\"fill:none;stroke:#cbcbcb;\"/>\n     </g>\n     <g id=\"line2d_22\"/>\n     <g id=\"text_11\">\n      <!-- 20 -->\n      <g transform=\"translate(7.2 170.196362)scale(0.1 -0.1)\">\n       <use xlink:href=\"#DejaVuSans-50\"/>\n       <use x=\"63.623047\" xlink:href=\"#DejaVuSans-48\"/>\n      </g>\n     </g>\n    </g>\n    <g id=\"ytick_6\">\n     <g id=\"line2d_23\">\n      <path clip-path=\"url(#pe6cfab15d6)\" d=\"M 23.425 205.225714 \nL 240.865 205.225714 \n\" style=\"fill:none;stroke:#cbcbcb;\"/>\n     </g>\n     <g id=\"line2d_24\"/>\n     <g id=\"text_12\">\n      <!-- 25 -->\n      <g transform=\"translate(7.2 209.024933)scale(0.1 -0.1)\">\n       <use xlink:href=\"#DejaVuSans-50\"/>\n       <use x=\"63.623047\" xlink:href=\"#DejaVuSans-53\"/>\n      </g>\n     </g>\n    </g>\n   </g>\n   <g id=\"patch_3\">\n    <path d=\"M 23.425 224.64 \nL 23.425 7.2 \n\" style=\"fill:none;stroke:#f0f0f0;stroke-linecap:square;stroke-linejoin:miter;stroke-width:3;\"/>\n   </g>\n   <g id=\"patch_4\">\n    <path d=\"M 240.865 224.64 \nL 240.865 7.2 \n\" style=\"fill:none;stroke:#f0f0f0;stroke-linecap:square;stroke-linejoin:miter;stroke-width:3;\"/>\n   </g>\n   <g id=\"patch_5\">\n    <path d=\"M 23.425 224.64 \nL 240.865 224.64 \n\" style=\"fill:none;stroke:#f0f0f0;stroke-linecap:square;stroke-linejoin:miter;stroke-width:3;\"/>\n   </g>\n   <g id=\"patch_6\">\n    <path d=\"M 23.425 7.2 \nL 240.865 7.2 \n\" style=\"fill:none;stroke:#f0f0f0;stroke-linecap:square;stroke-linejoin:miter;stroke-width:3;\"/>\n   </g>\n  </g>\n </g>\n <defs>\n  <clipPath id=\"pe6cfab15d6\">\n   <rect height=\"217.44\" width=\"217.44\" x=\"23.425\" y=\"7.2\"/>\n  </clipPath>\n </defs>\n</svg>\n"
          },
          "metadata": {
            "tags": [],
            "needs_background": "light"
          }
        }
      ]
    },
    {
      "cell_type": "markdown",
      "metadata": {
        "id": "zZxbQRi5gcCM"
      },
      "source": [
        "## ***Pré-processamento dos dados***\n",
        "\n",
        "O dataset já está limpo e balanceado. Portanto não precisamos trabalhar nesses tópicos. Porém, podemos ver que os dados estão na escala de (0, 255). Tal magnitude pode divergir o processo de treino, o que pode ser facilmente resolvido normalizando os dados. Outra preparação necessária é mudar o tipo dos dados para float32 ao invés de float64 (o padrão) devido aos requisitos do TensorFlow."
      ]
    },
    {
      "cell_type": "code",
      "metadata": {
        "id": "_9oFvfBIli-g"
      },
      "source": [
        "X_treino = (X_treino/255.).astype(\"float32\")\n",
        "X_teste = (X_teste/255.).astype(\"float32\")"
      ],
      "execution_count": 3,
      "outputs": []
    },
    {
      "cell_type": "markdown",
      "metadata": {
        "id": "pfvWgCuWoMhO"
      },
      "source": [
        "Para injetar nossos dados na rede, precisamos que estes estejam no formato quadridimensional que o TensorFlow requer:\n",
        "\n",
        "```\n",
        "(Número de instâncias, largura, altura, canais)\n",
        "```\n",
        "\n",
        "O que em nosso caso é:\n",
        "\n",
        "```\n",
        "(Número de instâncias, 28, 28, 1)\n",
        "```\n"
      ]
    },
    {
      "cell_type": "code",
      "metadata": {
        "id": "mqjtjZ1doXc2"
      },
      "source": [
        "X_treino = X_treino.reshape((X_treino.shape[0], 28, 28, 1))\n",
        "X_teste = X_teste.reshape((X_teste.shape[0], 28, 28, 1))"
      ],
      "execution_count": 4,
      "outputs": []
    },
    {
      "cell_type": "markdown",
      "metadata": {
        "id": "_XtJmJDKpEVu"
      },
      "source": [
        "## ***O modelo***\n",
        "\n",
        "Agora devemos reunir tudo que falamos sobre e construir o modelo. Esse projeto usará uma versão adaptada da arquitetura VGGNet, desenhada por [Adrian Rosebrook](https://www.linkedin.com/in/adrian-rosebrock-59b8732a/). Vejamos como ela se parece:\n",
        "\n",
        "<p align=\"center\">\n",
        "<img src=\"https://raw.githubusercontent.com/RodrigoMarquesP/Image_classification_with_CNNs_using_VGGNet/main/files/model_architecture.png\" width=1000>\n",
        "</p>\n",
        "\n",
        "Por simplicidade e melhor entendimento, construiremos o modelo com o [tf.keras.Sequential](https://www.tensorflow.org/api_docs/python/tf/keras/Sequential):\n",
        "\n",
        "\n",
        "\n",
        "\n",
        "\n"
      ]
    },
    {
      "cell_type": "code",
      "metadata": {
        "id": "Ix6Cs9rNlrTx"
      },
      "source": [
        "modelo = tf.keras.Sequential()\n",
        "\n",
        "# Primeiro conjunto de convoluções e poolings\n",
        "modelo.add(tf.keras.layers.Conv2D(32, (3, 3), padding=\"same\", activation='relu', input_shape=(28, 28, 1)))\n",
        "modelo.add(tf.keras.layers.BatchNormalization(axis=1))\n",
        "modelo.add(tf.keras.layers.Conv2D(32, (3, 3), padding=\"same\", activation='relu'))\n",
        "modelo.add(tf.keras.layers.BatchNormalization(axis=1))\n",
        "modelo.add(tf.keras.layers.MaxPooling2D(pool_size=(2, 2)))\n",
        "modelo.add(tf.keras.layers.Dropout(0.25))\n",
        "\n",
        "# Segundo conjunto de convoluções e poolings\n",
        "modelo.add(tf.keras.layers.Conv2D(64, (3, 3), padding=\"same\", activation='relu'))\n",
        "modelo.add(tf.keras.layers.BatchNormalization(axis=1))\n",
        "modelo.add(tf.keras.layers.Conv2D(64, (3, 3), padding=\"same\", activation='relu'))\n",
        "modelo.add(tf.keras.layers.BatchNormalization(axis=1))\n",
        "modelo.add(tf.keras.layers.MaxPooling2D(pool_size=(2, 2)))\n",
        "modelo.add(tf.keras.layers.Dropout(0.25))\n",
        "\n",
        "# Conjunto de classificação\n",
        "modelo.add(tf.keras.layers.Flatten())\n",
        "modelo.add(tf.keras.layers.Dense(512, activation='relu'))\n",
        "modelo.add(tf.keras.layers.BatchNormalization())\n",
        "modelo.add(tf.keras.layers.Dropout(0.5))\n",
        "modelo.add(tf.keras.layers.Dense(10, activation='softmax'))  # 10 neuronios pois temos 10 classes"
      ],
      "execution_count": 5,
      "outputs": []
    },
    {
      "cell_type": "markdown",
      "metadata": {
        "id": "1I3zv90qg-0y"
      },
      "source": [
        "Vamos dar uma olhada na estrutura do modelo."
      ]
    },
    {
      "cell_type": "code",
      "metadata": {
        "id": "zeZl9TEWgwQU",
        "outputId": "60aa0479-5e15-4280-a1b9-afc54b887f82",
        "colab": {
          "base_uri": "https://localhost:8080/"
        }
      },
      "source": [
        "modelo.summary()"
      ],
      "execution_count": 6,
      "outputs": [
        {
          "output_type": "stream",
          "text": [
            "Model: \"sequential\"\n",
            "_________________________________________________________________\n",
            "Layer (type)                 Output Shape              Param #   \n",
            "=================================================================\n",
            "conv2d (Conv2D)              (None, 28, 28, 32)        320       \n",
            "_________________________________________________________________\n",
            "batch_normalization (BatchNo (None, 28, 28, 32)        112       \n",
            "_________________________________________________________________\n",
            "conv2d_1 (Conv2D)            (None, 28, 28, 32)        9248      \n",
            "_________________________________________________________________\n",
            "batch_normalization_1 (Batch (None, 28, 28, 32)        112       \n",
            "_________________________________________________________________\n",
            "max_pooling2d (MaxPooling2D) (None, 14, 14, 32)        0         \n",
            "_________________________________________________________________\n",
            "dropout (Dropout)            (None, 14, 14, 32)        0         \n",
            "_________________________________________________________________\n",
            "conv2d_2 (Conv2D)            (None, 14, 14, 64)        18496     \n",
            "_________________________________________________________________\n",
            "batch_normalization_2 (Batch (None, 14, 14, 64)        56        \n",
            "_________________________________________________________________\n",
            "conv2d_3 (Conv2D)            (None, 14, 14, 64)        36928     \n",
            "_________________________________________________________________\n",
            "batch_normalization_3 (Batch (None, 14, 14, 64)        56        \n",
            "_________________________________________________________________\n",
            "max_pooling2d_1 (MaxPooling2 (None, 7, 7, 64)          0         \n",
            "_________________________________________________________________\n",
            "dropout_1 (Dropout)          (None, 7, 7, 64)          0         \n",
            "_________________________________________________________________\n",
            "flatten (Flatten)            (None, 3136)              0         \n",
            "_________________________________________________________________\n",
            "dense (Dense)                (None, 512)               1606144   \n",
            "_________________________________________________________________\n",
            "batch_normalization_4 (Batch (None, 512)               2048      \n",
            "_________________________________________________________________\n",
            "dropout_2 (Dropout)          (None, 512)               0         \n",
            "_________________________________________________________________\n",
            "dense_1 (Dense)              (None, 10)                5130      \n",
            "=================================================================\n",
            "Total params: 1,678,650\n",
            "Trainable params: 1,677,458\n",
            "Non-trainable params: 1,192\n",
            "_________________________________________________________________\n"
          ],
          "name": "stdout"
        }
      ]
    },
    {
      "cell_type": "markdown",
      "metadata": {
        "id": "niKFITEShRcR"
      },
      "source": [
        "Agora já podemos compilar nosso modelo, escolhendo nosso otimizador e função de perda (loss function):\n",
        "\n",
        "\n",
        "*   Como mantivemos os labels (y_treino e y_teste) com valores inteiros, precisamos utilizar a função de perda [sparse_categorical_crossentropy](https://www.tensorflow.org/api_docs/python/tf/keras/losses/sparse_categorical_crossentropy)\n",
        "*   Um bom otimizador a ser tentado é o [Adam](https://www.tensorflow.org/api_docs/python/tf/keras/optimizers/Adam), mas sinta-se livre para utilizar outro. Você pode encontrar a lista completa de possíveis otimizadores no [site do TensorFlow](https://www.tensorflow.org/api_docs/python/tf/keras/optimizers/)."
      ]
    },
    {
      "cell_type": "code",
      "metadata": {
        "id": "DTlM1pxQizE1"
      },
      "source": [
        "modelo.compile(optimizer='adam',\n",
        "              loss=tf.keras.losses.sparse_categorical_crossentropy,\n",
        "              metrics=['accuracy'])"
      ],
      "execution_count": 7,
      "outputs": []
    },
    {
      "cell_type": "markdown",
      "metadata": {
        "id": "_wpKygMVjjLJ"
      },
      "source": [
        "O último passo é o treinamento da rede em si, chamado de ajuste do modelo, ou \"model fitting\"."
      ]
    },
    {
      "cell_type": "code",
      "metadata": {
        "id": "CYIDze4rl8Vd",
        "outputId": "19b3177f-2dbb-48fb-dbfc-a928b691f32d",
        "colab": {
          "base_uri": "https://localhost:8080/"
        }
      },
      "source": [
        "historico = modelo.fit(X_treino, y_treino, epochs=20, validation_split=0.2)"
      ],
      "execution_count": 8,
      "outputs": [
        {
          "output_type": "stream",
          "text": [
            "Epoch 1/20\n",
            "1500/1500 [==============================] - 8s 5ms/step - loss: 0.5028 - accuracy: 0.8266 - val_loss: 0.4793 - val_accuracy: 0.8379\n",
            "Epoch 2/20\n",
            "1500/1500 [==============================] - 7s 5ms/step - loss: 0.3280 - accuracy: 0.8805 - val_loss: 0.2786 - val_accuracy: 0.9019\n",
            "Epoch 3/20\n",
            "1500/1500 [==============================] - 7s 5ms/step - loss: 0.2906 - accuracy: 0.8960 - val_loss: 0.2329 - val_accuracy: 0.9153\n",
            "Epoch 4/20\n",
            "1500/1500 [==============================] - 7s 5ms/step - loss: 0.2715 - accuracy: 0.9027 - val_loss: 0.2773 - val_accuracy: 0.9082\n",
            "Epoch 5/20\n",
            "1500/1500 [==============================] - 8s 5ms/step - loss: 0.2492 - accuracy: 0.9112 - val_loss: 0.2285 - val_accuracy: 0.9194\n",
            "Epoch 6/20\n",
            "1500/1500 [==============================] - 7s 5ms/step - loss: 0.2326 - accuracy: 0.9156 - val_loss: 0.2223 - val_accuracy: 0.9190\n",
            "Epoch 7/20\n",
            "1500/1500 [==============================] - 7s 5ms/step - loss: 0.2193 - accuracy: 0.9204 - val_loss: 0.2026 - val_accuracy: 0.9287\n",
            "Epoch 8/20\n",
            "1500/1500 [==============================] - 7s 5ms/step - loss: 0.2040 - accuracy: 0.9248 - val_loss: 0.2095 - val_accuracy: 0.9269\n",
            "Epoch 9/20\n",
            "1500/1500 [==============================] - 8s 5ms/step - loss: 0.1950 - accuracy: 0.9289 - val_loss: 0.1930 - val_accuracy: 0.9313\n",
            "Epoch 10/20\n",
            "1500/1500 [==============================] - 8s 5ms/step - loss: 0.1855 - accuracy: 0.9322 - val_loss: 0.1898 - val_accuracy: 0.9292\n",
            "Epoch 11/20\n",
            "1500/1500 [==============================] - 8s 5ms/step - loss: 0.1738 - accuracy: 0.9374 - val_loss: 0.1844 - val_accuracy: 0.9341\n",
            "Epoch 12/20\n",
            "1500/1500 [==============================] - 7s 5ms/step - loss: 0.1677 - accuracy: 0.9378 - val_loss: 0.2144 - val_accuracy: 0.9295\n",
            "Epoch 13/20\n",
            "1500/1500 [==============================] - 7s 5ms/step - loss: 0.1593 - accuracy: 0.9416 - val_loss: 0.1951 - val_accuracy: 0.9318\n",
            "Epoch 14/20\n",
            "1500/1500 [==============================] - 8s 5ms/step - loss: 0.1503 - accuracy: 0.9452 - val_loss: 0.1851 - val_accuracy: 0.9340\n",
            "Epoch 15/20\n",
            "1500/1500 [==============================] - 8s 5ms/step - loss: 0.1419 - accuracy: 0.9474 - val_loss: 0.1878 - val_accuracy: 0.9349\n",
            "Epoch 16/20\n",
            "1500/1500 [==============================] - 8s 5ms/step - loss: 0.1378 - accuracy: 0.9500 - val_loss: 0.1874 - val_accuracy: 0.9356\n",
            "Epoch 17/20\n",
            "1500/1500 [==============================] - 7s 5ms/step - loss: 0.1314 - accuracy: 0.9524 - val_loss: 0.1751 - val_accuracy: 0.9408\n",
            "Epoch 18/20\n",
            "1500/1500 [==============================] - 8s 5ms/step - loss: 0.1276 - accuracy: 0.9535 - val_loss: 0.1741 - val_accuracy: 0.9403\n",
            "Epoch 19/20\n",
            "1500/1500 [==============================] - 8s 5ms/step - loss: 0.1228 - accuracy: 0.9545 - val_loss: 0.1898 - val_accuracy: 0.9398\n",
            "Epoch 20/20\n",
            "1500/1500 [==============================] - 7s 5ms/step - loss: 0.1163 - accuracy: 0.9568 - val_loss: 0.1890 - val_accuracy: 0.9388\n"
          ],
          "name": "stdout"
        }
      ]
    },
    {
      "cell_type": "markdown",
      "metadata": {
        "id": "AmdnuNJynRkz"
      },
      "source": [
        "## ***Avaliação dos resultados***\n",
        "\n",
        "Para observar a performance do treinamento, podemos plotar a lista 'historico' retornada pela função fit()."
      ]
    },
    {
      "cell_type": "code",
      "metadata": {
        "id": "kfiiUyLNoUk-",
        "outputId": "4df98abc-83a2-44bc-bcd2-01edfc332caa",
        "colab": {
          "base_uri": "https://localhost:8080/",
          "height": 444
        }
      },
      "source": [
        "loss = historico.history['loss']\n",
        "acc = historico.history['accuracy']\n",
        "\n",
        "fig, ax = plt.subplots(1, 2, figsize=(10, 5))\n",
        "ax[0].plot(loss, lw=1)\n",
        "ax[0].set_xlabel('Épocas (Epochs)')\n",
        "ax[0].set_ylabel('Perda (Loss)')\n",
        "ax[1].plot(acc, lw=1)\n",
        "ax[1].set_xlabel('Épocas (Epochs)')\n",
        "ax[1].set_ylabel('Acurácia')\n",
        "plt.show();"
      ],
      "execution_count": 9,
      "outputs": [
        {
          "output_type": "display_data",
          "data": {
            "text/plain": [
              "<Figure size 720x360 with 2 Axes>"
            ],
            "image/svg+xml": "<?xml version=\"1.0\" encoding=\"utf-8\" standalone=\"no\"?>\n<!DOCTYPE svg PUBLIC \"-//W3C//DTD SVG 1.1//EN\"\n  \"http://www.w3.org/Graphics/SVG/1.1/DTD/svg11.dtd\">\n<!-- Created with matplotlib (https://matplotlib.org/) -->\n<svg height=\"316.975625pt\" version=\"1.1\" viewBox=\"0 0 682.179375 316.975625\" width=\"682.179375pt\" xmlns=\"http://www.w3.org/2000/svg\" xmlns:xlink=\"http://www.w3.org/1999/xlink\">\n <defs>\n  <style type=\"text/css\">\n*{stroke-linecap:butt;stroke-linejoin:round;}\n  </style>\n </defs>\n <g id=\"figure_1\">\n  <g id=\"patch_1\">\n   <path d=\"M 0 316.975625 \nL 682.179375 316.975625 \nL 682.179375 0 \nL 0 0 \nz\n\" style=\"fill:none;\"/>\n  </g>\n  <g id=\"axes_1\">\n   <g id=\"patch_2\">\n    <path d=\"M 48.579375 279 \nL 333.306648 279 \nL 333.306648 7.2 \nL 48.579375 7.2 \nz\n\" style=\"fill:#f0f0f0;\"/>\n   </g>\n   <g id=\"matplotlib.axis_1\">\n    <g id=\"xtick_1\">\n     <g id=\"line2d_1\">\n      <path clip-path=\"url(#pc525a9df05)\" d=\"M 61.521524 279 \nL 61.521524 7.2 \n\" style=\"fill:none;stroke:#cbcbcb;\"/>\n     </g>\n     <g id=\"line2d_2\"/>\n     <g id=\"text_1\">\n      <!-- 0.0 -->\n      <defs>\n       <path d=\"M 31.78125 66.40625 \nQ 24.171875 66.40625 20.328125 58.90625 \nQ 16.5 51.421875 16.5 36.375 \nQ 16.5 21.390625 20.328125 13.890625 \nQ 24.171875 6.390625 31.78125 6.390625 \nQ 39.453125 6.390625 43.28125 13.890625 \nQ 47.125 21.390625 47.125 36.375 \nQ 47.125 51.421875 43.28125 58.90625 \nQ 39.453125 66.40625 31.78125 66.40625 \nz\nM 31.78125 74.21875 \nQ 44.046875 74.21875 50.515625 64.515625 \nQ 56.984375 54.828125 56.984375 36.375 \nQ 56.984375 17.96875 50.515625 8.265625 \nQ 44.046875 -1.421875 31.78125 -1.421875 \nQ 19.53125 -1.421875 13.0625 8.265625 \nQ 6.59375 17.96875 6.59375 36.375 \nQ 6.59375 54.828125 13.0625 64.515625 \nQ 19.53125 74.21875 31.78125 74.21875 \nz\n\" id=\"DejaVuSans-48\"/>\n       <path d=\"M 10.6875 12.40625 \nL 21 12.40625 \nL 21 0 \nL 10.6875 0 \nz\n\" id=\"DejaVuSans-46\"/>\n      </defs>\n      <g transform=\"translate(53.569961 290.098438)scale(0.1 -0.1)\">\n       <use xlink:href=\"#DejaVuSans-48\"/>\n       <use x=\"63.623047\" xlink:href=\"#DejaVuSans-46\"/>\n       <use x=\"95.410156\" xlink:href=\"#DejaVuSans-48\"/>\n      </g>\n     </g>\n    </g>\n    <g id=\"xtick_2\">\n     <g id=\"line2d_3\">\n      <path clip-path=\"url(#pc525a9df05)\" d=\"M 95.57981 279 \nL 95.57981 7.2 \n\" style=\"fill:none;stroke:#cbcbcb;\"/>\n     </g>\n     <g id=\"line2d_4\"/>\n     <g id=\"text_2\">\n      <!-- 2.5 -->\n      <defs>\n       <path d=\"M 19.1875 8.296875 \nL 53.609375 8.296875 \nL 53.609375 0 \nL 7.328125 0 \nL 7.328125 8.296875 \nQ 12.9375 14.109375 22.625 23.890625 \nQ 32.328125 33.6875 34.8125 36.53125 \nQ 39.546875 41.84375 41.421875 45.53125 \nQ 43.3125 49.21875 43.3125 52.78125 \nQ 43.3125 58.59375 39.234375 62.25 \nQ 35.15625 65.921875 28.609375 65.921875 \nQ 23.96875 65.921875 18.8125 64.3125 \nQ 13.671875 62.703125 7.8125 59.421875 \nL 7.8125 69.390625 \nQ 13.765625 71.78125 18.9375 73 \nQ 24.125 74.21875 28.421875 74.21875 \nQ 39.75 74.21875 46.484375 68.546875 \nQ 53.21875 62.890625 53.21875 53.421875 \nQ 53.21875 48.921875 51.53125 44.890625 \nQ 49.859375 40.875 45.40625 35.40625 \nQ 44.1875 33.984375 37.640625 27.21875 \nQ 31.109375 20.453125 19.1875 8.296875 \nz\n\" id=\"DejaVuSans-50\"/>\n       <path d=\"M 10.796875 72.90625 \nL 49.515625 72.90625 \nL 49.515625 64.59375 \nL 19.828125 64.59375 \nL 19.828125 46.734375 \nQ 21.96875 47.46875 24.109375 47.828125 \nQ 26.265625 48.1875 28.421875 48.1875 \nQ 40.625 48.1875 47.75 41.5 \nQ 54.890625 34.8125 54.890625 23.390625 \nQ 54.890625 11.625 47.5625 5.09375 \nQ 40.234375 -1.421875 26.90625 -1.421875 \nQ 22.3125 -1.421875 17.546875 -0.640625 \nQ 12.796875 0.140625 7.71875 1.703125 \nL 7.71875 11.625 \nQ 12.109375 9.234375 16.796875 8.0625 \nQ 21.484375 6.890625 26.703125 6.890625 \nQ 35.15625 6.890625 40.078125 11.328125 \nQ 45.015625 15.765625 45.015625 23.390625 \nQ 45.015625 31 40.078125 35.4375 \nQ 35.15625 39.890625 26.703125 39.890625 \nQ 22.75 39.890625 18.8125 39.015625 \nQ 14.890625 38.140625 10.796875 36.28125 \nz\n\" id=\"DejaVuSans-53\"/>\n      </defs>\n      <g transform=\"translate(87.628247 290.098438)scale(0.1 -0.1)\">\n       <use xlink:href=\"#DejaVuSans-50\"/>\n       <use x=\"63.623047\" xlink:href=\"#DejaVuSans-46\"/>\n       <use x=\"95.410156\" xlink:href=\"#DejaVuSans-53\"/>\n      </g>\n     </g>\n    </g>\n    <g id=\"xtick_3\">\n     <g id=\"line2d_5\">\n      <path clip-path=\"url(#pc525a9df05)\" d=\"M 129.638096 279 \nL 129.638096 7.2 \n\" style=\"fill:none;stroke:#cbcbcb;\"/>\n     </g>\n     <g id=\"line2d_6\"/>\n     <g id=\"text_3\">\n      <!-- 5.0 -->\n      <g transform=\"translate(121.686534 290.098438)scale(0.1 -0.1)\">\n       <use xlink:href=\"#DejaVuSans-53\"/>\n       <use x=\"63.623047\" xlink:href=\"#DejaVuSans-46\"/>\n       <use x=\"95.410156\" xlink:href=\"#DejaVuSans-48\"/>\n      </g>\n     </g>\n    </g>\n    <g id=\"xtick_4\">\n     <g id=\"line2d_7\">\n      <path clip-path=\"url(#pc525a9df05)\" d=\"M 163.696382 279 \nL 163.696382 7.2 \n\" style=\"fill:none;stroke:#cbcbcb;\"/>\n     </g>\n     <g id=\"line2d_8\"/>\n     <g id=\"text_4\">\n      <!-- 7.5 -->\n      <defs>\n       <path d=\"M 8.203125 72.90625 \nL 55.078125 72.90625 \nL 55.078125 68.703125 \nL 28.609375 0 \nL 18.3125 0 \nL 43.21875 64.59375 \nL 8.203125 64.59375 \nz\n\" id=\"DejaVuSans-55\"/>\n      </defs>\n      <g transform=\"translate(155.74482 290.098438)scale(0.1 -0.1)\">\n       <use xlink:href=\"#DejaVuSans-55\"/>\n       <use x=\"63.623047\" xlink:href=\"#DejaVuSans-46\"/>\n       <use x=\"95.410156\" xlink:href=\"#DejaVuSans-53\"/>\n      </g>\n     </g>\n    </g>\n    <g id=\"xtick_5\">\n     <g id=\"line2d_9\">\n      <path clip-path=\"url(#pc525a9df05)\" d=\"M 197.754669 279 \nL 197.754669 7.2 \n\" style=\"fill:none;stroke:#cbcbcb;\"/>\n     </g>\n     <g id=\"line2d_10\"/>\n     <g id=\"text_5\">\n      <!-- 10.0 -->\n      <defs>\n       <path d=\"M 12.40625 8.296875 \nL 28.515625 8.296875 \nL 28.515625 63.921875 \nL 10.984375 60.40625 \nL 10.984375 69.390625 \nL 28.421875 72.90625 \nL 38.28125 72.90625 \nL 38.28125 8.296875 \nL 54.390625 8.296875 \nL 54.390625 0 \nL 12.40625 0 \nz\n\" id=\"DejaVuSans-49\"/>\n      </defs>\n      <g transform=\"translate(186.621856 290.098438)scale(0.1 -0.1)\">\n       <use xlink:href=\"#DejaVuSans-49\"/>\n       <use x=\"63.623047\" xlink:href=\"#DejaVuSans-48\"/>\n       <use x=\"127.246094\" xlink:href=\"#DejaVuSans-46\"/>\n       <use x=\"159.033203\" xlink:href=\"#DejaVuSans-48\"/>\n      </g>\n     </g>\n    </g>\n    <g id=\"xtick_6\">\n     <g id=\"line2d_11\">\n      <path clip-path=\"url(#pc525a9df05)\" d=\"M 231.812955 279 \nL 231.812955 7.2 \n\" style=\"fill:none;stroke:#cbcbcb;\"/>\n     </g>\n     <g id=\"line2d_12\"/>\n     <g id=\"text_6\">\n      <!-- 12.5 -->\n      <g transform=\"translate(220.680142 290.098438)scale(0.1 -0.1)\">\n       <use xlink:href=\"#DejaVuSans-49\"/>\n       <use x=\"63.623047\" xlink:href=\"#DejaVuSans-50\"/>\n       <use x=\"127.246094\" xlink:href=\"#DejaVuSans-46\"/>\n       <use x=\"159.033203\" xlink:href=\"#DejaVuSans-53\"/>\n      </g>\n     </g>\n    </g>\n    <g id=\"xtick_7\">\n     <g id=\"line2d_13\">\n      <path clip-path=\"url(#pc525a9df05)\" d=\"M 265.871241 279 \nL 265.871241 7.2 \n\" style=\"fill:none;stroke:#cbcbcb;\"/>\n     </g>\n     <g id=\"line2d_14\"/>\n     <g id=\"text_7\">\n      <!-- 15.0 -->\n      <g transform=\"translate(254.738429 290.098438)scale(0.1 -0.1)\">\n       <use xlink:href=\"#DejaVuSans-49\"/>\n       <use x=\"63.623047\" xlink:href=\"#DejaVuSans-53\"/>\n       <use x=\"127.246094\" xlink:href=\"#DejaVuSans-46\"/>\n       <use x=\"159.033203\" xlink:href=\"#DejaVuSans-48\"/>\n      </g>\n     </g>\n    </g>\n    <g id=\"xtick_8\">\n     <g id=\"line2d_15\">\n      <path clip-path=\"url(#pc525a9df05)\" d=\"M 299.929527 279 \nL 299.929527 7.2 \n\" style=\"fill:none;stroke:#cbcbcb;\"/>\n     </g>\n     <g id=\"line2d_16\"/>\n     <g id=\"text_8\">\n      <!-- 17.5 -->\n      <g transform=\"translate(288.796715 290.098438)scale(0.1 -0.1)\">\n       <use xlink:href=\"#DejaVuSans-49\"/>\n       <use x=\"63.623047\" xlink:href=\"#DejaVuSans-55\"/>\n       <use x=\"127.246094\" xlink:href=\"#DejaVuSans-46\"/>\n       <use x=\"159.033203\" xlink:href=\"#DejaVuSans-53\"/>\n      </g>\n     </g>\n    </g>\n    <g id=\"text_9\">\n     <!-- Épocas (Epochs) -->\n     <defs>\n      <path d=\"M 9.8125 72.90625 \nL 55.90625 72.90625 \nL 55.90625 64.59375 \nL 19.671875 64.59375 \nL 19.671875 43.015625 \nL 54.390625 43.015625 \nL 54.390625 34.71875 \nL 19.671875 34.71875 \nL 19.671875 8.296875 \nL 56.78125 8.296875 \nL 56.78125 0 \nL 9.8125 0 \nz\nM 35.4375 92.515625 \nL 44.46875 92.515625 \nL 33.34375 79.625 \nL 25.859375 79.625 \nz\n\" id=\"DejaVuSans-201\"/>\n      <path d=\"M 18.109375 8.203125 \nL 18.109375 -20.796875 \nL 9.078125 -20.796875 \nL 9.078125 54.6875 \nL 18.109375 54.6875 \nL 18.109375 46.390625 \nQ 20.953125 51.265625 25.265625 53.625 \nQ 29.59375 56 35.59375 56 \nQ 45.5625 56 51.78125 48.09375 \nQ 58.015625 40.1875 58.015625 27.296875 \nQ 58.015625 14.40625 51.78125 6.484375 \nQ 45.5625 -1.421875 35.59375 -1.421875 \nQ 29.59375 -1.421875 25.265625 0.953125 \nQ 20.953125 3.328125 18.109375 8.203125 \nz\nM 48.6875 27.296875 \nQ 48.6875 37.203125 44.609375 42.84375 \nQ 40.53125 48.484375 33.40625 48.484375 \nQ 26.265625 48.484375 22.1875 42.84375 \nQ 18.109375 37.203125 18.109375 27.296875 \nQ 18.109375 17.390625 22.1875 11.75 \nQ 26.265625 6.109375 33.40625 6.109375 \nQ 40.53125 6.109375 44.609375 11.75 \nQ 48.6875 17.390625 48.6875 27.296875 \nz\n\" id=\"DejaVuSans-112\"/>\n      <path d=\"M 30.609375 48.390625 \nQ 23.390625 48.390625 19.1875 42.75 \nQ 14.984375 37.109375 14.984375 27.296875 \nQ 14.984375 17.484375 19.15625 11.84375 \nQ 23.34375 6.203125 30.609375 6.203125 \nQ 37.796875 6.203125 41.984375 11.859375 \nQ 46.1875 17.53125 46.1875 27.296875 \nQ 46.1875 37.015625 41.984375 42.703125 \nQ 37.796875 48.390625 30.609375 48.390625 \nz\nM 30.609375 56 \nQ 42.328125 56 49.015625 48.375 \nQ 55.71875 40.765625 55.71875 27.296875 \nQ 55.71875 13.875 49.015625 6.21875 \nQ 42.328125 -1.421875 30.609375 -1.421875 \nQ 18.84375 -1.421875 12.171875 6.21875 \nQ 5.515625 13.875 5.515625 27.296875 \nQ 5.515625 40.765625 12.171875 48.375 \nQ 18.84375 56 30.609375 56 \nz\n\" id=\"DejaVuSans-111\"/>\n      <path d=\"M 48.78125 52.59375 \nL 48.78125 44.1875 \nQ 44.96875 46.296875 41.140625 47.34375 \nQ 37.3125 48.390625 33.40625 48.390625 \nQ 24.65625 48.390625 19.8125 42.84375 \nQ 14.984375 37.3125 14.984375 27.296875 \nQ 14.984375 17.28125 19.8125 11.734375 \nQ 24.65625 6.203125 33.40625 6.203125 \nQ 37.3125 6.203125 41.140625 7.25 \nQ 44.96875 8.296875 48.78125 10.40625 \nL 48.78125 2.09375 \nQ 45.015625 0.34375 40.984375 -0.53125 \nQ 36.96875 -1.421875 32.421875 -1.421875 \nQ 20.0625 -1.421875 12.78125 6.34375 \nQ 5.515625 14.109375 5.515625 27.296875 \nQ 5.515625 40.671875 12.859375 48.328125 \nQ 20.21875 56 33.015625 56 \nQ 37.15625 56 41.109375 55.140625 \nQ 45.0625 54.296875 48.78125 52.59375 \nz\n\" id=\"DejaVuSans-99\"/>\n      <path d=\"M 34.28125 27.484375 \nQ 23.390625 27.484375 19.1875 25 \nQ 14.984375 22.515625 14.984375 16.5 \nQ 14.984375 11.71875 18.140625 8.90625 \nQ 21.296875 6.109375 26.703125 6.109375 \nQ 34.1875 6.109375 38.703125 11.40625 \nQ 43.21875 16.703125 43.21875 25.484375 \nL 43.21875 27.484375 \nz\nM 52.203125 31.203125 \nL 52.203125 0 \nL 43.21875 0 \nL 43.21875 8.296875 \nQ 40.140625 3.328125 35.546875 0.953125 \nQ 30.953125 -1.421875 24.3125 -1.421875 \nQ 15.921875 -1.421875 10.953125 3.296875 \nQ 6 8.015625 6 15.921875 \nQ 6 25.140625 12.171875 29.828125 \nQ 18.359375 34.515625 30.609375 34.515625 \nL 43.21875 34.515625 \nL 43.21875 35.40625 \nQ 43.21875 41.609375 39.140625 45 \nQ 35.0625 48.390625 27.6875 48.390625 \nQ 23 48.390625 18.546875 47.265625 \nQ 14.109375 46.140625 10.015625 43.890625 \nL 10.015625 52.203125 \nQ 14.9375 54.109375 19.578125 55.046875 \nQ 24.21875 56 28.609375 56 \nQ 40.484375 56 46.34375 49.84375 \nQ 52.203125 43.703125 52.203125 31.203125 \nz\n\" id=\"DejaVuSans-97\"/>\n      <path d=\"M 44.28125 53.078125 \nL 44.28125 44.578125 \nQ 40.484375 46.53125 36.375 47.5 \nQ 32.28125 48.484375 27.875 48.484375 \nQ 21.1875 48.484375 17.84375 46.4375 \nQ 14.5 44.390625 14.5 40.28125 \nQ 14.5 37.15625 16.890625 35.375 \nQ 19.28125 33.59375 26.515625 31.984375 \nL 29.59375 31.296875 \nQ 39.15625 29.25 43.1875 25.515625 \nQ 47.21875 21.78125 47.21875 15.09375 \nQ 47.21875 7.46875 41.1875 3.015625 \nQ 35.15625 -1.421875 24.609375 -1.421875 \nQ 20.21875 -1.421875 15.453125 -0.5625 \nQ 10.6875 0.296875 5.421875 2 \nL 5.421875 11.28125 \nQ 10.40625 8.6875 15.234375 7.390625 \nQ 20.0625 6.109375 24.8125 6.109375 \nQ 31.15625 6.109375 34.5625 8.28125 \nQ 37.984375 10.453125 37.984375 14.40625 \nQ 37.984375 18.0625 35.515625 20.015625 \nQ 33.0625 21.96875 24.703125 23.78125 \nL 21.578125 24.515625 \nQ 13.234375 26.265625 9.515625 29.90625 \nQ 5.8125 33.546875 5.8125 39.890625 \nQ 5.8125 47.609375 11.28125 51.796875 \nQ 16.75 56 26.8125 56 \nQ 31.78125 56 36.171875 55.265625 \nQ 40.578125 54.546875 44.28125 53.078125 \nz\n\" id=\"DejaVuSans-115\"/>\n      <path id=\"DejaVuSans-32\"/>\n      <path d=\"M 31 75.875 \nQ 24.46875 64.65625 21.28125 53.65625 \nQ 18.109375 42.671875 18.109375 31.390625 \nQ 18.109375 20.125 21.3125 9.0625 \nQ 24.515625 -2 31 -13.1875 \nL 23.1875 -13.1875 \nQ 15.875 -1.703125 12.234375 9.375 \nQ 8.59375 20.453125 8.59375 31.390625 \nQ 8.59375 42.28125 12.203125 53.3125 \nQ 15.828125 64.359375 23.1875 75.875 \nz\n\" id=\"DejaVuSans-40\"/>\n      <path d=\"M 9.8125 72.90625 \nL 55.90625 72.90625 \nL 55.90625 64.59375 \nL 19.671875 64.59375 \nL 19.671875 43.015625 \nL 54.390625 43.015625 \nL 54.390625 34.71875 \nL 19.671875 34.71875 \nL 19.671875 8.296875 \nL 56.78125 8.296875 \nL 56.78125 0 \nL 9.8125 0 \nz\n\" id=\"DejaVuSans-69\"/>\n      <path d=\"M 54.890625 33.015625 \nL 54.890625 0 \nL 45.90625 0 \nL 45.90625 32.71875 \nQ 45.90625 40.484375 42.875 44.328125 \nQ 39.84375 48.1875 33.796875 48.1875 \nQ 26.515625 48.1875 22.3125 43.546875 \nQ 18.109375 38.921875 18.109375 30.90625 \nL 18.109375 0 \nL 9.078125 0 \nL 9.078125 75.984375 \nL 18.109375 75.984375 \nL 18.109375 46.1875 \nQ 21.34375 51.125 25.703125 53.5625 \nQ 30.078125 56 35.796875 56 \nQ 45.21875 56 50.046875 50.171875 \nQ 54.890625 44.34375 54.890625 33.015625 \nz\n\" id=\"DejaVuSans-104\"/>\n      <path d=\"M 8.015625 75.875 \nL 15.828125 75.875 \nQ 23.140625 64.359375 26.78125 53.3125 \nQ 30.421875 42.28125 30.421875 31.390625 \nQ 30.421875 20.453125 26.78125 9.375 \nQ 23.140625 -1.703125 15.828125 -13.1875 \nL 8.015625 -13.1875 \nQ 14.5 -2 17.703125 9.0625 \nQ 20.90625 20.125 20.90625 31.390625 \nQ 20.90625 42.671875 17.703125 53.65625 \nQ 14.5 64.65625 8.015625 75.875 \nz\n\" id=\"DejaVuSans-41\"/>\n     </defs>\n     <g transform=\"translate(141.482386 307.28)scale(0.12 -0.12)\">\n      <use xlink:href=\"#DejaVuSans-201\"/>\n      <use x=\"63.183594\" xlink:href=\"#DejaVuSans-112\"/>\n      <use x=\"126.660156\" xlink:href=\"#DejaVuSans-111\"/>\n      <use x=\"187.841797\" xlink:href=\"#DejaVuSans-99\"/>\n      <use x=\"242.822266\" xlink:href=\"#DejaVuSans-97\"/>\n      <use x=\"304.101562\" xlink:href=\"#DejaVuSans-115\"/>\n      <use x=\"356.201172\" xlink:href=\"#DejaVuSans-32\"/>\n      <use x=\"387.988281\" xlink:href=\"#DejaVuSans-40\"/>\n      <use x=\"427.001953\" xlink:href=\"#DejaVuSans-69\"/>\n      <use x=\"490.185547\" xlink:href=\"#DejaVuSans-112\"/>\n      <use x=\"553.662109\" xlink:href=\"#DejaVuSans-111\"/>\n      <use x=\"614.84375\" xlink:href=\"#DejaVuSans-99\"/>\n      <use x=\"669.824219\" xlink:href=\"#DejaVuSans-104\"/>\n      <use x=\"733.203125\" xlink:href=\"#DejaVuSans-115\"/>\n      <use x=\"785.302734\" xlink:href=\"#DejaVuSans-41\"/>\n     </g>\n    </g>\n   </g>\n   <g id=\"matplotlib.axis_2\">\n    <g id=\"ytick_1\">\n     <g id=\"line2d_17\">\n      <path clip-path=\"url(#pc525a9df05)\" d=\"M 48.579375 277.074316 \nL 333.306648 277.074316 \n\" style=\"fill:none;stroke:#cbcbcb;\"/>\n     </g>\n     <g id=\"line2d_18\"/>\n     <g id=\"text_10\">\n      <!-- 0.10 -->\n      <g transform=\"translate(22.81375 280.873535)scale(0.1 -0.1)\">\n       <use xlink:href=\"#DejaVuSans-48\"/>\n       <use x=\"63.623047\" xlink:href=\"#DejaVuSans-46\"/>\n       <use x=\"95.410156\" xlink:href=\"#DejaVuSans-49\"/>\n       <use x=\"159.033203\" xlink:href=\"#DejaVuSans-48\"/>\n      </g>\n     </g>\n    </g>\n    <g id=\"ytick_2\">\n     <g id=\"line2d_19\">\n      <path clip-path=\"url(#pc525a9df05)\" d=\"M 48.579375 245.107866 \nL 333.306648 245.107866 \n\" style=\"fill:none;stroke:#cbcbcb;\"/>\n     </g>\n     <g id=\"line2d_20\"/>\n     <g id=\"text_11\">\n      <!-- 0.15 -->\n      <g transform=\"translate(22.81375 248.907085)scale(0.1 -0.1)\">\n       <use xlink:href=\"#DejaVuSans-48\"/>\n       <use x=\"63.623047\" xlink:href=\"#DejaVuSans-46\"/>\n       <use x=\"95.410156\" xlink:href=\"#DejaVuSans-49\"/>\n       <use x=\"159.033203\" xlink:href=\"#DejaVuSans-53\"/>\n      </g>\n     </g>\n    </g>\n    <g id=\"ytick_3\">\n     <g id=\"line2d_21\">\n      <path clip-path=\"url(#pc525a9df05)\" d=\"M 48.579375 213.141416 \nL 333.306648 213.141416 \n\" style=\"fill:none;stroke:#cbcbcb;\"/>\n     </g>\n     <g id=\"line2d_22\"/>\n     <g id=\"text_12\">\n      <!-- 0.20 -->\n      <g transform=\"translate(22.81375 216.940635)scale(0.1 -0.1)\">\n       <use xlink:href=\"#DejaVuSans-48\"/>\n       <use x=\"63.623047\" xlink:href=\"#DejaVuSans-46\"/>\n       <use x=\"95.410156\" xlink:href=\"#DejaVuSans-50\"/>\n       <use x=\"159.033203\" xlink:href=\"#DejaVuSans-48\"/>\n      </g>\n     </g>\n    </g>\n    <g id=\"ytick_4\">\n     <g id=\"line2d_23\">\n      <path clip-path=\"url(#pc525a9df05)\" d=\"M 48.579375 181.174966 \nL 333.306648 181.174966 \n\" style=\"fill:none;stroke:#cbcbcb;\"/>\n     </g>\n     <g id=\"line2d_24\"/>\n     <g id=\"text_13\">\n      <!-- 0.25 -->\n      <g transform=\"translate(22.81375 184.974185)scale(0.1 -0.1)\">\n       <use xlink:href=\"#DejaVuSans-48\"/>\n       <use x=\"63.623047\" xlink:href=\"#DejaVuSans-46\"/>\n       <use x=\"95.410156\" xlink:href=\"#DejaVuSans-50\"/>\n       <use x=\"159.033203\" xlink:href=\"#DejaVuSans-53\"/>\n      </g>\n     </g>\n    </g>\n    <g id=\"ytick_5\">\n     <g id=\"line2d_25\">\n      <path clip-path=\"url(#pc525a9df05)\" d=\"M 48.579375 149.208516 \nL 333.306648 149.208516 \n\" style=\"fill:none;stroke:#cbcbcb;\"/>\n     </g>\n     <g id=\"line2d_26\"/>\n     <g id=\"text_14\">\n      <!-- 0.30 -->\n      <defs>\n       <path d=\"M 40.578125 39.3125 \nQ 47.65625 37.796875 51.625 33 \nQ 55.609375 28.21875 55.609375 21.1875 \nQ 55.609375 10.40625 48.1875 4.484375 \nQ 40.765625 -1.421875 27.09375 -1.421875 \nQ 22.515625 -1.421875 17.65625 -0.515625 \nQ 12.796875 0.390625 7.625 2.203125 \nL 7.625 11.71875 \nQ 11.71875 9.328125 16.59375 8.109375 \nQ 21.484375 6.890625 26.8125 6.890625 \nQ 36.078125 6.890625 40.9375 10.546875 \nQ 45.796875 14.203125 45.796875 21.1875 \nQ 45.796875 27.640625 41.28125 31.265625 \nQ 36.765625 34.90625 28.71875 34.90625 \nL 20.21875 34.90625 \nL 20.21875 43.015625 \nL 29.109375 43.015625 \nQ 36.375 43.015625 40.234375 45.921875 \nQ 44.09375 48.828125 44.09375 54.296875 \nQ 44.09375 59.90625 40.109375 62.90625 \nQ 36.140625 65.921875 28.71875 65.921875 \nQ 24.65625 65.921875 20.015625 65.03125 \nQ 15.375 64.15625 9.8125 62.3125 \nL 9.8125 71.09375 \nQ 15.4375 72.65625 20.34375 73.4375 \nQ 25.25 74.21875 29.59375 74.21875 \nQ 40.828125 74.21875 47.359375 69.109375 \nQ 53.90625 64.015625 53.90625 55.328125 \nQ 53.90625 49.265625 50.4375 45.09375 \nQ 46.96875 40.921875 40.578125 39.3125 \nz\n\" id=\"DejaVuSans-51\"/>\n      </defs>\n      <g transform=\"translate(22.81375 153.007734)scale(0.1 -0.1)\">\n       <use xlink:href=\"#DejaVuSans-48\"/>\n       <use x=\"63.623047\" xlink:href=\"#DejaVuSans-46\"/>\n       <use x=\"95.410156\" xlink:href=\"#DejaVuSans-51\"/>\n       <use x=\"159.033203\" xlink:href=\"#DejaVuSans-48\"/>\n      </g>\n     </g>\n    </g>\n    <g id=\"ytick_6\">\n     <g id=\"line2d_27\">\n      <path clip-path=\"url(#pc525a9df05)\" d=\"M 48.579375 117.242066 \nL 333.306648 117.242066 \n\" style=\"fill:none;stroke:#cbcbcb;\"/>\n     </g>\n     <g id=\"line2d_28\"/>\n     <g id=\"text_15\">\n      <!-- 0.35 -->\n      <g transform=\"translate(22.81375 121.041284)scale(0.1 -0.1)\">\n       <use xlink:href=\"#DejaVuSans-48\"/>\n       <use x=\"63.623047\" xlink:href=\"#DejaVuSans-46\"/>\n       <use x=\"95.410156\" xlink:href=\"#DejaVuSans-51\"/>\n       <use x=\"159.033203\" xlink:href=\"#DejaVuSans-53\"/>\n      </g>\n     </g>\n    </g>\n    <g id=\"ytick_7\">\n     <g id=\"line2d_29\">\n      <path clip-path=\"url(#pc525a9df05)\" d=\"M 48.579375 85.275616 \nL 333.306648 85.275616 \n\" style=\"fill:none;stroke:#cbcbcb;\"/>\n     </g>\n     <g id=\"line2d_30\"/>\n     <g id=\"text_16\">\n      <!-- 0.40 -->\n      <defs>\n       <path d=\"M 37.796875 64.3125 \nL 12.890625 25.390625 \nL 37.796875 25.390625 \nz\nM 35.203125 72.90625 \nL 47.609375 72.90625 \nL 47.609375 25.390625 \nL 58.015625 25.390625 \nL 58.015625 17.1875 \nL 47.609375 17.1875 \nL 47.609375 0 \nL 37.796875 0 \nL 37.796875 17.1875 \nL 4.890625 17.1875 \nL 4.890625 26.703125 \nz\n\" id=\"DejaVuSans-52\"/>\n      </defs>\n      <g transform=\"translate(22.81375 89.074834)scale(0.1 -0.1)\">\n       <use xlink:href=\"#DejaVuSans-48\"/>\n       <use x=\"63.623047\" xlink:href=\"#DejaVuSans-46\"/>\n       <use x=\"95.410156\" xlink:href=\"#DejaVuSans-52\"/>\n       <use x=\"159.033203\" xlink:href=\"#DejaVuSans-48\"/>\n      </g>\n     </g>\n    </g>\n    <g id=\"ytick_8\">\n     <g id=\"line2d_31\">\n      <path clip-path=\"url(#pc525a9df05)\" d=\"M 48.579375 53.309165 \nL 333.306648 53.309165 \n\" style=\"fill:none;stroke:#cbcbcb;\"/>\n     </g>\n     <g id=\"line2d_32\"/>\n     <g id=\"text_17\">\n      <!-- 0.45 -->\n      <g transform=\"translate(22.81375 57.108384)scale(0.1 -0.1)\">\n       <use xlink:href=\"#DejaVuSans-48\"/>\n       <use x=\"63.623047\" xlink:href=\"#DejaVuSans-46\"/>\n       <use x=\"95.410156\" xlink:href=\"#DejaVuSans-52\"/>\n       <use x=\"159.033203\" xlink:href=\"#DejaVuSans-53\"/>\n      </g>\n     </g>\n    </g>\n    <g id=\"ytick_9\">\n     <g id=\"line2d_33\">\n      <path clip-path=\"url(#pc525a9df05)\" d=\"M 48.579375 21.342715 \nL 333.306648 21.342715 \n\" style=\"fill:none;stroke:#cbcbcb;\"/>\n     </g>\n     <g id=\"line2d_34\"/>\n     <g id=\"text_18\">\n      <!-- 0.50 -->\n      <g transform=\"translate(22.81375 25.141934)scale(0.1 -0.1)\">\n       <use xlink:href=\"#DejaVuSans-48\"/>\n       <use x=\"63.623047\" xlink:href=\"#DejaVuSans-46\"/>\n       <use x=\"95.410156\" xlink:href=\"#DejaVuSans-53\"/>\n       <use x=\"159.033203\" xlink:href=\"#DejaVuSans-48\"/>\n      </g>\n     </g>\n    </g>\n    <g id=\"text_19\">\n     <!-- Perda (Loss) -->\n     <defs>\n      <path d=\"M 19.671875 64.796875 \nL 19.671875 37.40625 \nL 32.078125 37.40625 \nQ 38.96875 37.40625 42.71875 40.96875 \nQ 46.484375 44.53125 46.484375 51.125 \nQ 46.484375 57.671875 42.71875 61.234375 \nQ 38.96875 64.796875 32.078125 64.796875 \nz\nM 9.8125 72.90625 \nL 32.078125 72.90625 \nQ 44.34375 72.90625 50.609375 67.359375 \nQ 56.890625 61.8125 56.890625 51.125 \nQ 56.890625 40.328125 50.609375 34.8125 \nQ 44.34375 29.296875 32.078125 29.296875 \nL 19.671875 29.296875 \nL 19.671875 0 \nL 9.8125 0 \nz\n\" id=\"DejaVuSans-80\"/>\n      <path d=\"M 56.203125 29.59375 \nL 56.203125 25.203125 \nL 14.890625 25.203125 \nQ 15.484375 15.921875 20.484375 11.0625 \nQ 25.484375 6.203125 34.421875 6.203125 \nQ 39.59375 6.203125 44.453125 7.46875 \nQ 49.3125 8.734375 54.109375 11.28125 \nL 54.109375 2.78125 \nQ 49.265625 0.734375 44.1875 -0.34375 \nQ 39.109375 -1.421875 33.890625 -1.421875 \nQ 20.796875 -1.421875 13.15625 6.1875 \nQ 5.515625 13.8125 5.515625 26.8125 \nQ 5.515625 40.234375 12.765625 48.109375 \nQ 20.015625 56 32.328125 56 \nQ 43.359375 56 49.78125 48.890625 \nQ 56.203125 41.796875 56.203125 29.59375 \nz\nM 47.21875 32.234375 \nQ 47.125 39.59375 43.09375 43.984375 \nQ 39.0625 48.390625 32.421875 48.390625 \nQ 24.90625 48.390625 20.390625 44.140625 \nQ 15.875 39.890625 15.1875 32.171875 \nz\n\" id=\"DejaVuSans-101\"/>\n      <path d=\"M 41.109375 46.296875 \nQ 39.59375 47.171875 37.8125 47.578125 \nQ 36.03125 48 33.890625 48 \nQ 26.265625 48 22.1875 43.046875 \nQ 18.109375 38.09375 18.109375 28.8125 \nL 18.109375 0 \nL 9.078125 0 \nL 9.078125 54.6875 \nL 18.109375 54.6875 \nL 18.109375 46.1875 \nQ 20.953125 51.171875 25.484375 53.578125 \nQ 30.03125 56 36.53125 56 \nQ 37.453125 56 38.578125 55.875 \nQ 39.703125 55.765625 41.0625 55.515625 \nz\n\" id=\"DejaVuSans-114\"/>\n      <path d=\"M 45.40625 46.390625 \nL 45.40625 75.984375 \nL 54.390625 75.984375 \nL 54.390625 0 \nL 45.40625 0 \nL 45.40625 8.203125 \nQ 42.578125 3.328125 38.25 0.953125 \nQ 33.9375 -1.421875 27.875 -1.421875 \nQ 17.96875 -1.421875 11.734375 6.484375 \nQ 5.515625 14.40625 5.515625 27.296875 \nQ 5.515625 40.1875 11.734375 48.09375 \nQ 17.96875 56 27.875 56 \nQ 33.9375 56 38.25 53.625 \nQ 42.578125 51.265625 45.40625 46.390625 \nz\nM 14.796875 27.296875 \nQ 14.796875 17.390625 18.875 11.75 \nQ 22.953125 6.109375 30.078125 6.109375 \nQ 37.203125 6.109375 41.296875 11.75 \nQ 45.40625 17.390625 45.40625 27.296875 \nQ 45.40625 37.203125 41.296875 42.84375 \nQ 37.203125 48.484375 30.078125 48.484375 \nQ 22.953125 48.484375 18.875 42.84375 \nQ 14.796875 37.203125 14.796875 27.296875 \nz\n\" id=\"DejaVuSans-100\"/>\n      <path d=\"M 9.8125 72.90625 \nL 19.671875 72.90625 \nL 19.671875 8.296875 \nL 55.171875 8.296875 \nL 55.171875 0 \nL 9.8125 0 \nz\n\" id=\"DejaVuSans-76\"/>\n     </defs>\n     <g transform=\"translate(16.318125 179.789063)rotate(-90)scale(0.12 -0.12)\">\n      <use xlink:href=\"#DejaVuSans-80\"/>\n      <use x=\"56.677734\" xlink:href=\"#DejaVuSans-101\"/>\n      <use x=\"118.201172\" xlink:href=\"#DejaVuSans-114\"/>\n      <use x=\"157.564453\" xlink:href=\"#DejaVuSans-100\"/>\n      <use x=\"221.041016\" xlink:href=\"#DejaVuSans-97\"/>\n      <use x=\"282.320312\" xlink:href=\"#DejaVuSans-32\"/>\n      <use x=\"314.107422\" xlink:href=\"#DejaVuSans-40\"/>\n      <use x=\"353.121094\" xlink:href=\"#DejaVuSans-76\"/>\n      <use x=\"407.083984\" xlink:href=\"#DejaVuSans-111\"/>\n      <use x=\"468.265625\" xlink:href=\"#DejaVuSans-115\"/>\n      <use x=\"520.365234\" xlink:href=\"#DejaVuSans-115\"/>\n      <use x=\"572.464844\" xlink:href=\"#DejaVuSans-41\"/>\n     </g>\n    </g>\n   </g>\n   <g id=\"line2d_35\">\n    <path clip-path=\"url(#pc525a9df05)\" d=\"M 61.521524 19.554545 \nL 75.144838 131.292493 \nL 88.768153 155.206851 \nL 102.391467 167.4378 \nL 116.014782 181.695764 \nL 129.638096 192.330345 \nL 143.261411 200.827935 \nL 156.884725 210.613368 \nL 170.50804 216.309742 \nL 184.131354 222.407526 \nL 197.754669 229.899482 \nL 211.377983 233.76815 \nL 225.001298 239.14573 \nL 238.624612 244.946679 \nL 252.247927 250.302262 \nL 265.871241 252.879056 \nL 279.494556 257.0089 \nL 293.11787 259.413069 \nL 306.741184 262.510433 \nL 320.364499 266.645455 \n\" style=\"fill:none;stroke:#008fd5;\"/>\n   </g>\n   <g id=\"patch_3\">\n    <path d=\"M 48.579375 279 \nL 48.579375 7.2 \n\" style=\"fill:none;stroke:#f0f0f0;stroke-linecap:square;stroke-linejoin:miter;stroke-width:3;\"/>\n   </g>\n   <g id=\"patch_4\">\n    <path d=\"M 333.306648 279 \nL 333.306648 7.2 \n\" style=\"fill:none;stroke:#f0f0f0;stroke-linecap:square;stroke-linejoin:miter;stroke-width:3;\"/>\n   </g>\n   <g id=\"patch_5\">\n    <path d=\"M 48.579375 279 \nL 333.306648 279 \n\" style=\"fill:none;stroke:#f0f0f0;stroke-linecap:square;stroke-linejoin:miter;stroke-width:3;\"/>\n   </g>\n   <g id=\"patch_6\">\n    <path d=\"M 48.579375 7.2 \nL 333.306648 7.2 \n\" style=\"fill:none;stroke:#f0f0f0;stroke-linecap:square;stroke-linejoin:miter;stroke-width:3;\"/>\n   </g>\n  </g>\n  <g id=\"axes_2\">\n   <g id=\"patch_7\">\n    <path d=\"M 390.252102 279 \nL 674.979375 279 \nL 674.979375 7.2 \nL 390.252102 7.2 \nz\n\" style=\"fill:#f0f0f0;\"/>\n   </g>\n   <g id=\"matplotlib.axis_3\">\n    <g id=\"xtick_9\">\n     <g id=\"line2d_36\">\n      <path clip-path=\"url(#pbb904a2cc7)\" d=\"M 403.194251 279 \nL 403.194251 7.2 \n\" style=\"fill:none;stroke:#cbcbcb;\"/>\n     </g>\n     <g id=\"line2d_37\"/>\n     <g id=\"text_20\">\n      <!-- 0.0 -->\n      <g transform=\"translate(395.242689 290.098438)scale(0.1 -0.1)\">\n       <use xlink:href=\"#DejaVuSans-48\"/>\n       <use x=\"63.623047\" xlink:href=\"#DejaVuSans-46\"/>\n       <use x=\"95.410156\" xlink:href=\"#DejaVuSans-48\"/>\n      </g>\n     </g>\n    </g>\n    <g id=\"xtick_10\">\n     <g id=\"line2d_38\">\n      <path clip-path=\"url(#pbb904a2cc7)\" d=\"M 437.252537 279 \nL 437.252537 7.2 \n\" style=\"fill:none;stroke:#cbcbcb;\"/>\n     </g>\n     <g id=\"line2d_39\"/>\n     <g id=\"text_21\">\n      <!-- 2.5 -->\n      <g transform=\"translate(429.300975 290.098438)scale(0.1 -0.1)\">\n       <use xlink:href=\"#DejaVuSans-50\"/>\n       <use x=\"63.623047\" xlink:href=\"#DejaVuSans-46\"/>\n       <use x=\"95.410156\" xlink:href=\"#DejaVuSans-53\"/>\n      </g>\n     </g>\n    </g>\n    <g id=\"xtick_11\">\n     <g id=\"line2d_40\">\n      <path clip-path=\"url(#pbb904a2cc7)\" d=\"M 471.310823 279 \nL 471.310823 7.2 \n\" style=\"fill:none;stroke:#cbcbcb;\"/>\n     </g>\n     <g id=\"line2d_41\"/>\n     <g id=\"text_22\">\n      <!-- 5.0 -->\n      <g transform=\"translate(463.359261 290.098438)scale(0.1 -0.1)\">\n       <use xlink:href=\"#DejaVuSans-53\"/>\n       <use x=\"63.623047\" xlink:href=\"#DejaVuSans-46\"/>\n       <use x=\"95.410156\" xlink:href=\"#DejaVuSans-48\"/>\n      </g>\n     </g>\n    </g>\n    <g id=\"xtick_12\">\n     <g id=\"line2d_42\">\n      <path clip-path=\"url(#pbb904a2cc7)\" d=\"M 505.36911 279 \nL 505.36911 7.2 \n\" style=\"fill:none;stroke:#cbcbcb;\"/>\n     </g>\n     <g id=\"line2d_43\"/>\n     <g id=\"text_23\">\n      <!-- 7.5 -->\n      <g transform=\"translate(497.417547 290.098438)scale(0.1 -0.1)\">\n       <use xlink:href=\"#DejaVuSans-55\"/>\n       <use x=\"63.623047\" xlink:href=\"#DejaVuSans-46\"/>\n       <use x=\"95.410156\" xlink:href=\"#DejaVuSans-53\"/>\n      </g>\n     </g>\n    </g>\n    <g id=\"xtick_13\">\n     <g id=\"line2d_44\">\n      <path clip-path=\"url(#pbb904a2cc7)\" d=\"M 539.427396 279 \nL 539.427396 7.2 \n\" style=\"fill:none;stroke:#cbcbcb;\"/>\n     </g>\n     <g id=\"line2d_45\"/>\n     <g id=\"text_24\">\n      <!-- 10.0 -->\n      <g transform=\"translate(528.294583 290.098438)scale(0.1 -0.1)\">\n       <use xlink:href=\"#DejaVuSans-49\"/>\n       <use x=\"63.623047\" xlink:href=\"#DejaVuSans-48\"/>\n       <use x=\"127.246094\" xlink:href=\"#DejaVuSans-46\"/>\n       <use x=\"159.033203\" xlink:href=\"#DejaVuSans-48\"/>\n      </g>\n     </g>\n    </g>\n    <g id=\"xtick_14\">\n     <g id=\"line2d_46\">\n      <path clip-path=\"url(#pbb904a2cc7)\" d=\"M 573.485682 279 \nL 573.485682 7.2 \n\" style=\"fill:none;stroke:#cbcbcb;\"/>\n     </g>\n     <g id=\"line2d_47\"/>\n     <g id=\"text_25\">\n      <!-- 12.5 -->\n      <g transform=\"translate(562.35287 290.098438)scale(0.1 -0.1)\">\n       <use xlink:href=\"#DejaVuSans-49\"/>\n       <use x=\"63.623047\" xlink:href=\"#DejaVuSans-50\"/>\n       <use x=\"127.246094\" xlink:href=\"#DejaVuSans-46\"/>\n       <use x=\"159.033203\" xlink:href=\"#DejaVuSans-53\"/>\n      </g>\n     </g>\n    </g>\n    <g id=\"xtick_15\">\n     <g id=\"line2d_48\">\n      <path clip-path=\"url(#pbb904a2cc7)\" d=\"M 607.543968 279 \nL 607.543968 7.2 \n\" style=\"fill:none;stroke:#cbcbcb;\"/>\n     </g>\n     <g id=\"line2d_49\"/>\n     <g id=\"text_26\">\n      <!-- 15.0 -->\n      <g transform=\"translate(596.411156 290.098438)scale(0.1 -0.1)\">\n       <use xlink:href=\"#DejaVuSans-49\"/>\n       <use x=\"63.623047\" xlink:href=\"#DejaVuSans-53\"/>\n       <use x=\"127.246094\" xlink:href=\"#DejaVuSans-46\"/>\n       <use x=\"159.033203\" xlink:href=\"#DejaVuSans-48\"/>\n      </g>\n     </g>\n    </g>\n    <g id=\"xtick_16\">\n     <g id=\"line2d_50\">\n      <path clip-path=\"url(#pbb904a2cc7)\" d=\"M 641.602255 279 \nL 641.602255 7.2 \n\" style=\"fill:none;stroke:#cbcbcb;\"/>\n     </g>\n     <g id=\"line2d_51\"/>\n     <g id=\"text_27\">\n      <!-- 17.5 -->\n      <g transform=\"translate(630.469442 290.098438)scale(0.1 -0.1)\">\n       <use xlink:href=\"#DejaVuSans-49\"/>\n       <use x=\"63.623047\" xlink:href=\"#DejaVuSans-55\"/>\n       <use x=\"127.246094\" xlink:href=\"#DejaVuSans-46\"/>\n       <use x=\"159.033203\" xlink:href=\"#DejaVuSans-53\"/>\n      </g>\n     </g>\n    </g>\n    <g id=\"text_28\">\n     <!-- Épocas (Epochs) -->\n     <g transform=\"translate(483.155114 307.28)scale(0.12 -0.12)\">\n      <use xlink:href=\"#DejaVuSans-201\"/>\n      <use x=\"63.183594\" xlink:href=\"#DejaVuSans-112\"/>\n      <use x=\"126.660156\" xlink:href=\"#DejaVuSans-111\"/>\n      <use x=\"187.841797\" xlink:href=\"#DejaVuSans-99\"/>\n      <use x=\"242.822266\" xlink:href=\"#DejaVuSans-97\"/>\n      <use x=\"304.101562\" xlink:href=\"#DejaVuSans-115\"/>\n      <use x=\"356.201172\" xlink:href=\"#DejaVuSans-32\"/>\n      <use x=\"387.988281\" xlink:href=\"#DejaVuSans-40\"/>\n      <use x=\"427.001953\" xlink:href=\"#DejaVuSans-69\"/>\n      <use x=\"490.185547\" xlink:href=\"#DejaVuSans-112\"/>\n      <use x=\"553.662109\" xlink:href=\"#DejaVuSans-111\"/>\n      <use x=\"614.84375\" xlink:href=\"#DejaVuSans-99\"/>\n      <use x=\"669.824219\" xlink:href=\"#DejaVuSans-104\"/>\n      <use x=\"733.203125\" xlink:href=\"#DejaVuSans-115\"/>\n      <use x=\"785.302734\" xlink:href=\"#DejaVuSans-41\"/>\n     </g>\n    </g>\n   </g>\n   <g id=\"matplotlib.axis_4\">\n    <g id=\"ytick_10\">\n     <g id=\"line2d_52\">\n      <path clip-path=\"url(#pbb904a2cc7)\" d=\"M 390.252102 241.145714 \nL 674.979375 241.145714 \n\" style=\"fill:none;stroke:#cbcbcb;\"/>\n     </g>\n     <g id=\"line2d_53\"/>\n     <g id=\"text_29\">\n      <!-- 0.84 -->\n      <defs>\n       <path d=\"M 31.78125 34.625 \nQ 24.75 34.625 20.71875 30.859375 \nQ 16.703125 27.09375 16.703125 20.515625 \nQ 16.703125 13.921875 20.71875 10.15625 \nQ 24.75 6.390625 31.78125 6.390625 \nQ 38.8125 6.390625 42.859375 10.171875 \nQ 46.921875 13.96875 46.921875 20.515625 \nQ 46.921875 27.09375 42.890625 30.859375 \nQ 38.875 34.625 31.78125 34.625 \nz\nM 21.921875 38.8125 \nQ 15.578125 40.375 12.03125 44.71875 \nQ 8.5 49.078125 8.5 55.328125 \nQ 8.5 64.0625 14.71875 69.140625 \nQ 20.953125 74.21875 31.78125 74.21875 \nQ 42.671875 74.21875 48.875 69.140625 \nQ 55.078125 64.0625 55.078125 55.328125 \nQ 55.078125 49.078125 51.53125 44.71875 \nQ 48 40.375 41.703125 38.8125 \nQ 48.828125 37.15625 52.796875 32.3125 \nQ 56.78125 27.484375 56.78125 20.515625 \nQ 56.78125 9.90625 50.3125 4.234375 \nQ 43.84375 -1.421875 31.78125 -1.421875 \nQ 19.734375 -1.421875 13.25 4.234375 \nQ 6.78125 9.90625 6.78125 20.515625 \nQ 6.78125 27.484375 10.78125 32.3125 \nQ 14.796875 37.15625 21.921875 38.8125 \nz\nM 18.3125 54.390625 \nQ 18.3125 48.734375 21.84375 45.5625 \nQ 25.390625 42.390625 31.78125 42.390625 \nQ 38.140625 42.390625 41.71875 45.5625 \nQ 45.3125 48.734375 45.3125 54.390625 \nQ 45.3125 60.0625 41.71875 63.234375 \nQ 38.140625 66.40625 31.78125 66.40625 \nQ 25.390625 66.40625 21.84375 63.234375 \nQ 18.3125 60.0625 18.3125 54.390625 \nz\n\" id=\"DejaVuSans-56\"/>\n      </defs>\n      <g transform=\"translate(364.486477 244.944933)scale(0.1 -0.1)\">\n       <use xlink:href=\"#DejaVuSans-48\"/>\n       <use x=\"63.623047\" xlink:href=\"#DejaVuSans-46\"/>\n       <use x=\"95.410156\" xlink:href=\"#DejaVuSans-56\"/>\n       <use x=\"159.033203\" xlink:href=\"#DejaVuSans-52\"/>\n      </g>\n     </g>\n    </g>\n    <g id=\"ytick_11\">\n     <g id=\"line2d_54\">\n      <path clip-path=\"url(#pbb904a2cc7)\" d=\"M 390.252102 203.192545 \nL 674.979375 203.192545 \n\" style=\"fill:none;stroke:#cbcbcb;\"/>\n     </g>\n     <g id=\"line2d_55\"/>\n     <g id=\"text_30\">\n      <!-- 0.86 -->\n      <defs>\n       <path d=\"M 33.015625 40.375 \nQ 26.375 40.375 22.484375 35.828125 \nQ 18.609375 31.296875 18.609375 23.390625 \nQ 18.609375 15.53125 22.484375 10.953125 \nQ 26.375 6.390625 33.015625 6.390625 \nQ 39.65625 6.390625 43.53125 10.953125 \nQ 47.40625 15.53125 47.40625 23.390625 \nQ 47.40625 31.296875 43.53125 35.828125 \nQ 39.65625 40.375 33.015625 40.375 \nz\nM 52.59375 71.296875 \nL 52.59375 62.3125 \nQ 48.875 64.0625 45.09375 64.984375 \nQ 41.3125 65.921875 37.59375 65.921875 \nQ 27.828125 65.921875 22.671875 59.328125 \nQ 17.53125 52.734375 16.796875 39.40625 \nQ 19.671875 43.65625 24.015625 45.921875 \nQ 28.375 48.1875 33.59375 48.1875 \nQ 44.578125 48.1875 50.953125 41.515625 \nQ 57.328125 34.859375 57.328125 23.390625 \nQ 57.328125 12.15625 50.6875 5.359375 \nQ 44.046875 -1.421875 33.015625 -1.421875 \nQ 20.359375 -1.421875 13.671875 8.265625 \nQ 6.984375 17.96875 6.984375 36.375 \nQ 6.984375 53.65625 15.1875 63.9375 \nQ 23.390625 74.21875 37.203125 74.21875 \nQ 40.921875 74.21875 44.703125 73.484375 \nQ 48.484375 72.75 52.59375 71.296875 \nz\n\" id=\"DejaVuSans-54\"/>\n      </defs>\n      <g transform=\"translate(364.486477 206.991763)scale(0.1 -0.1)\">\n       <use xlink:href=\"#DejaVuSans-48\"/>\n       <use x=\"63.623047\" xlink:href=\"#DejaVuSans-46\"/>\n       <use x=\"95.410156\" xlink:href=\"#DejaVuSans-56\"/>\n       <use x=\"159.033203\" xlink:href=\"#DejaVuSans-54\"/>\n      </g>\n     </g>\n    </g>\n    <g id=\"ytick_12\">\n     <g id=\"line2d_56\">\n      <path clip-path=\"url(#pbb904a2cc7)\" d=\"M 390.252102 165.239375 \nL 674.979375 165.239375 \n\" style=\"fill:none;stroke:#cbcbcb;\"/>\n     </g>\n     <g id=\"line2d_57\"/>\n     <g id=\"text_31\">\n      <!-- 0.88 -->\n      <g transform=\"translate(364.486477 169.038594)scale(0.1 -0.1)\">\n       <use xlink:href=\"#DejaVuSans-48\"/>\n       <use x=\"63.623047\" xlink:href=\"#DejaVuSans-46\"/>\n       <use x=\"95.410156\" xlink:href=\"#DejaVuSans-56\"/>\n       <use x=\"159.033203\" xlink:href=\"#DejaVuSans-56\"/>\n      </g>\n     </g>\n    </g>\n    <g id=\"ytick_13\">\n     <g id=\"line2d_58\">\n      <path clip-path=\"url(#pbb904a2cc7)\" d=\"M 390.252102 127.286206 \nL 674.979375 127.286206 \n\" style=\"fill:none;stroke:#cbcbcb;\"/>\n     </g>\n     <g id=\"line2d_59\"/>\n     <g id=\"text_32\">\n      <!-- 0.90 -->\n      <defs>\n       <path d=\"M 10.984375 1.515625 \nL 10.984375 10.5 \nQ 14.703125 8.734375 18.5 7.8125 \nQ 22.3125 6.890625 25.984375 6.890625 \nQ 35.75 6.890625 40.890625 13.453125 \nQ 46.046875 20.015625 46.78125 33.40625 \nQ 43.953125 29.203125 39.59375 26.953125 \nQ 35.25 24.703125 29.984375 24.703125 \nQ 19.046875 24.703125 12.671875 31.3125 \nQ 6.296875 37.9375 6.296875 49.421875 \nQ 6.296875 60.640625 12.9375 67.421875 \nQ 19.578125 74.21875 30.609375 74.21875 \nQ 43.265625 74.21875 49.921875 64.515625 \nQ 56.59375 54.828125 56.59375 36.375 \nQ 56.59375 19.140625 48.40625 8.859375 \nQ 40.234375 -1.421875 26.421875 -1.421875 \nQ 22.703125 -1.421875 18.890625 -0.6875 \nQ 15.09375 0.046875 10.984375 1.515625 \nz\nM 30.609375 32.421875 \nQ 37.25 32.421875 41.125 36.953125 \nQ 45.015625 41.5 45.015625 49.421875 \nQ 45.015625 57.28125 41.125 61.84375 \nQ 37.25 66.40625 30.609375 66.40625 \nQ 23.96875 66.40625 20.09375 61.84375 \nQ 16.21875 57.28125 16.21875 49.421875 \nQ 16.21875 41.5 20.09375 36.953125 \nQ 23.96875 32.421875 30.609375 32.421875 \nz\n\" id=\"DejaVuSans-57\"/>\n      </defs>\n      <g transform=\"translate(364.486477 131.085425)scale(0.1 -0.1)\">\n       <use xlink:href=\"#DejaVuSans-48\"/>\n       <use x=\"63.623047\" xlink:href=\"#DejaVuSans-46\"/>\n       <use x=\"95.410156\" xlink:href=\"#DejaVuSans-57\"/>\n       <use x=\"159.033203\" xlink:href=\"#DejaVuSans-48\"/>\n      </g>\n     </g>\n    </g>\n    <g id=\"ytick_14\">\n     <g id=\"line2d_60\">\n      <path clip-path=\"url(#pbb904a2cc7)\" d=\"M 390.252102 89.333036 \nL 674.979375 89.333036 \n\" style=\"fill:none;stroke:#cbcbcb;\"/>\n     </g>\n     <g id=\"line2d_61\"/>\n     <g id=\"text_33\">\n      <!-- 0.92 -->\n      <g transform=\"translate(364.486477 93.132255)scale(0.1 -0.1)\">\n       <use xlink:href=\"#DejaVuSans-48\"/>\n       <use x=\"63.623047\" xlink:href=\"#DejaVuSans-46\"/>\n       <use x=\"95.410156\" xlink:href=\"#DejaVuSans-57\"/>\n       <use x=\"159.033203\" xlink:href=\"#DejaVuSans-50\"/>\n      </g>\n     </g>\n    </g>\n    <g id=\"ytick_15\">\n     <g id=\"line2d_62\">\n      <path clip-path=\"url(#pbb904a2cc7)\" d=\"M 390.252102 51.379867 \nL 674.979375 51.379867 \n\" style=\"fill:none;stroke:#cbcbcb;\"/>\n     </g>\n     <g id=\"line2d_63\"/>\n     <g id=\"text_34\">\n      <!-- 0.94 -->\n      <g transform=\"translate(364.486477 55.179086)scale(0.1 -0.1)\">\n       <use xlink:href=\"#DejaVuSans-48\"/>\n       <use x=\"63.623047\" xlink:href=\"#DejaVuSans-46\"/>\n       <use x=\"95.410156\" xlink:href=\"#DejaVuSans-57\"/>\n       <use x=\"159.033203\" xlink:href=\"#DejaVuSans-52\"/>\n      </g>\n     </g>\n    </g>\n    <g id=\"ytick_16\">\n     <g id=\"line2d_64\">\n      <path clip-path=\"url(#pbb904a2cc7)\" d=\"M 390.252102 13.426698 \nL 674.979375 13.426698 \n\" style=\"fill:none;stroke:#cbcbcb;\"/>\n     </g>\n     <g id=\"line2d_65\"/>\n     <g id=\"text_35\">\n      <!-- 0.96 -->\n      <g transform=\"translate(364.486477 17.225916)scale(0.1 -0.1)\">\n       <use xlink:href=\"#DejaVuSans-48\"/>\n       <use x=\"63.623047\" xlink:href=\"#DejaVuSans-46\"/>\n       <use x=\"95.410156\" xlink:href=\"#DejaVuSans-57\"/>\n       <use x=\"159.033203\" xlink:href=\"#DejaVuSans-54\"/>\n      </g>\n     </g>\n    </g>\n    <g id=\"text_36\">\n     <!-- Acurácia -->\n     <defs>\n      <path d=\"M 34.1875 63.1875 \nL 20.796875 26.90625 \nL 47.609375 26.90625 \nz\nM 28.609375 72.90625 \nL 39.796875 72.90625 \nL 67.578125 0 \nL 57.328125 0 \nL 50.6875 18.703125 \nL 17.828125 18.703125 \nL 11.1875 0 \nL 0.78125 0 \nz\n\" id=\"DejaVuSans-65\"/>\n      <path d=\"M 8.5 21.578125 \nL 8.5 54.6875 \nL 17.484375 54.6875 \nL 17.484375 21.921875 \nQ 17.484375 14.15625 20.5 10.265625 \nQ 23.53125 6.390625 29.59375 6.390625 \nQ 36.859375 6.390625 41.078125 11.03125 \nQ 45.3125 15.671875 45.3125 23.6875 \nL 45.3125 54.6875 \nL 54.296875 54.6875 \nL 54.296875 0 \nL 45.3125 0 \nL 45.3125 8.40625 \nQ 42.046875 3.421875 37.71875 1 \nQ 33.40625 -1.421875 27.6875 -1.421875 \nQ 18.265625 -1.421875 13.375 4.4375 \nQ 8.5 10.296875 8.5 21.578125 \nz\nM 31.109375 56 \nz\n\" id=\"DejaVuSans-117\"/>\n      <path d=\"M 34.28125 27.484375 \nQ 23.390625 27.484375 19.1875 25 \nQ 14.984375 22.515625 14.984375 16.5 \nQ 14.984375 11.71875 18.140625 8.90625 \nQ 21.296875 6.109375 26.703125 6.109375 \nQ 34.1875 6.109375 38.703125 11.40625 \nQ 43.21875 16.703125 43.21875 25.484375 \nL 43.21875 27.484375 \nz\nM 52.203125 31.203125 \nL 52.203125 0 \nL 43.21875 0 \nL 43.21875 8.296875 \nQ 40.140625 3.328125 35.546875 0.953125 \nQ 30.953125 -1.421875 24.3125 -1.421875 \nQ 15.921875 -1.421875 10.953125 3.296875 \nQ 6 8.015625 6 15.921875 \nQ 6 25.140625 12.171875 29.828125 \nQ 18.359375 34.515625 30.609375 34.515625 \nL 43.21875 34.515625 \nL 43.21875 35.40625 \nQ 43.21875 41.609375 39.140625 45 \nQ 35.0625 48.390625 27.6875 48.390625 \nQ 23 48.390625 18.546875 47.265625 \nQ 14.109375 46.140625 10.015625 43.890625 \nL 10.015625 52.203125 \nQ 14.9375 54.109375 19.578125 55.046875 \nQ 24.21875 56 28.609375 56 \nQ 40.484375 56 46.34375 49.84375 \nQ 52.203125 43.703125 52.203125 31.203125 \nz\nM 35.78125 79.984375 \nL 45.5 79.984375 \nL 29.59375 61.625 \nL 22.109375 61.625 \nz\n\" id=\"DejaVuSans-225\"/>\n      <path d=\"M 9.421875 54.6875 \nL 18.40625 54.6875 \nL 18.40625 0 \nL 9.421875 0 \nz\nM 9.421875 75.984375 \nL 18.40625 75.984375 \nL 18.40625 64.59375 \nL 9.421875 64.59375 \nz\n\" id=\"DejaVuSans-105\"/>\n     </defs>\n     <g transform=\"translate(357.990852 168.987188)rotate(-90)scale(0.12 -0.12)\">\n      <use xlink:href=\"#DejaVuSans-65\"/>\n      <use x=\"66.658203\" xlink:href=\"#DejaVuSans-99\"/>\n      <use x=\"121.638672\" xlink:href=\"#DejaVuSans-117\"/>\n      <use x=\"185.017578\" xlink:href=\"#DejaVuSans-114\"/>\n      <use x=\"226.130859\" xlink:href=\"#DejaVuSans-225\"/>\n      <use x=\"287.410156\" xlink:href=\"#DejaVuSans-99\"/>\n      <use x=\"342.390625\" xlink:href=\"#DejaVuSans-105\"/>\n      <use x=\"370.173828\" xlink:href=\"#DejaVuSans-97\"/>\n     </g>\n    </g>\n   </g>\n   <g id=\"line2d_66\">\n    <path clip-path=\"url(#pbb904a2cc7)\" d=\"M 403.194251 266.645455 \nL 416.817566 164.290511 \nL 430.44088 134.955964 \nL 444.064194 122.146679 \nL 457.687509 106.095684 \nL 471.310823 97.753876 \nL 484.934138 88.621434 \nL 498.557452 80.160975 \nL 512.180767 72.53085 \nL 525.804081 66.244803 \nL 539.427396 56.361203 \nL 553.05071 55.491506 \nL 566.674025 48.414825 \nL 580.297339 41.456683 \nL 593.920654 37.424225 \nL 607.543968 32.44278 \nL 621.167283 27.896353 \nL 634.790597 25.721941 \nL 648.413912 23.824307 \nL 662.037226 19.554545 \n\" style=\"fill:none;stroke:#008fd5;\"/>\n   </g>\n   <g id=\"patch_8\">\n    <path d=\"M 390.252102 279 \nL 390.252102 7.2 \n\" style=\"fill:none;stroke:#f0f0f0;stroke-linecap:square;stroke-linejoin:miter;stroke-width:3;\"/>\n   </g>\n   <g id=\"patch_9\">\n    <path d=\"M 674.979375 279 \nL 674.979375 7.2 \n\" style=\"fill:none;stroke:#f0f0f0;stroke-linecap:square;stroke-linejoin:miter;stroke-width:3;\"/>\n   </g>\n   <g id=\"patch_10\">\n    <path d=\"M 390.252102 279 \nL 674.979375 279 \n\" style=\"fill:none;stroke:#f0f0f0;stroke-linecap:square;stroke-linejoin:miter;stroke-width:3;\"/>\n   </g>\n   <g id=\"patch_11\">\n    <path d=\"M 390.252102 7.2 \nL 674.979375 7.2 \n\" style=\"fill:none;stroke:#f0f0f0;stroke-linecap:square;stroke-linejoin:miter;stroke-width:3;\"/>\n   </g>\n  </g>\n </g>\n <defs>\n  <clipPath id=\"pc525a9df05\">\n   <rect height=\"271.8\" width=\"284.727273\" x=\"48.579375\" y=\"7.2\"/>\n  </clipPath>\n  <clipPath id=\"pbb904a2cc7\">\n   <rect height=\"271.8\" width=\"284.727273\" x=\"390.252102\" y=\"7.2\"/>\n  </clipPath>\n </defs>\n</svg>\n"
          },
          "metadata": {
            "tags": [],
            "needs_background": "light"
          }
        }
      ]
    },
    {
      "cell_type": "markdown",
      "metadata": {
        "id": "vFalO0u-oE9y"
      },
      "source": [
        "Aparentemente, nossa rede aprendeu bem sua tarefa. No entanto, precisamos avaliar seus resultados em um conjunto de imagens que ela nunca viu antes: o conjunto de testes. Para tal, precisamos prever as classes do conjunto *X_teste* e comparar essas previsões com *y_teste*."
      ]
    },
    {
      "cell_type": "code",
      "metadata": {
        "id": "eWToB1i2xEtx",
        "outputId": "1fc6dbe1-fe23-4be3-e5ea-3b2f379cb220",
        "colab": {
          "base_uri": "https://localhost:8080/"
        }
      },
      "source": [
        "y_pred = modelo.predict(X_teste)\n",
        "\n",
        "# Como cada previsão é um vetor de probabilidades,\n",
        "# precisamos pegar o argmax para termos as classes previstas de fato\n",
        "y_pred = np.argmax(y_pred, axis=1)\n",
        "\n",
        "# Podemos visualizr melhor a performance usando 'classification_report'\n",
        "categorias_nomeadas = ['Camiseta/top',\n",
        "                       'Calça',\n",
        "                       'Suéter',\n",
        "                       'Vestido',\n",
        "                       'Casaco',\n",
        "                       'Sandália',\n",
        "                       'Camisa',\n",
        "                       'Tênis',\n",
        "                       'Bolsa',\n",
        "                       'Bota']\n",
        "\n",
        "print(classification_report(y_teste, y_pred, target_names=categorias_nomeadas))\n"
      ],
      "execution_count": 10,
      "outputs": [
        {
          "output_type": "stream",
          "text": [
            "              precision    recall  f1-score   support\n",
            "\n",
            "Camiseta/top       0.91      0.88      0.89      1000\n",
            "       Calça       0.99      0.99      0.99      1000\n",
            "      Suéter       0.93      0.88      0.90      1000\n",
            "     Vestido       0.94      0.95      0.95      1000\n",
            "      Casaco       0.86      0.93      0.90      1000\n",
            "    Sandália       0.99      0.99      0.99      1000\n",
            "      Camisa       0.81      0.80      0.81      1000\n",
            "       Tênis       0.96      0.98      0.97      1000\n",
            "       Bolsa       0.99      0.99      0.99      1000\n",
            "        Bota       0.99      0.96      0.97      1000\n",
            "\n",
            "    accuracy                           0.94     10000\n",
            "   macro avg       0.94      0.94      0.94     10000\n",
            "weighted avg       0.94      0.94      0.94     10000\n",
            "\n"
          ],
          "name": "stdout"
        }
      ]
    },
    {
      "cell_type": "markdown",
      "metadata": {
        "id": "rQcAqxI4128R"
      },
      "source": [
        "Alcançamos 94% de acurácia, o que significa que em 94% do tempo, nossa rede neural consegue dizer que roupa ela vê na imagem. A rede aprendeu de fato a identificar nossas classes, INCRÍVEL.\n",
        "\n",
        "Não é o céu, mas é bem perto, então celebremos.\n",
        "\n",
        "<p align=\"center\">\n",
        "<img src=\"https://raw.githubusercontent.com/RodrigoMarquesP/Image_classification_with_CNNs_using_VGGNet/main/files/celebration.gif\">\n",
        "</p>"
      ]
    }
  ]
}