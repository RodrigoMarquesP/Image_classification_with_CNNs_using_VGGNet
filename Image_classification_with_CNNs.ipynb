{
  "nbformat": 4,
  "nbformat_minor": 0,
  "metadata": {
    "colab": {
      "name": "Image_classification_with_CNNs",
      "provenance": [],
      "collapsed_sections": [],
      "authorship_tag": "ABX9TyPEXW70YMsQ/MsPlfBV1nSA",
      "include_colab_link": true
    },
    "kernelspec": {
      "name": "python3",
      "display_name": "Python 3"
    },
    "accelerator": "GPU"
  },
  "cells": [
    {
      "cell_type": "markdown",
      "metadata": {
        "id": "view-in-github",
        "colab_type": "text"
      },
      "source": [
        "<a href=\"https://colab.research.google.com/github/RodrigoMarquesP/Image_classification_with_CNNs_using_VGGNet/blob/main/Image_classification_with_CNNs.ipynb\" target=\"_parent\"><img src=\"https://colab.research.google.com/assets/colab-badge.svg\" alt=\"Open In Colab\"/></a>"
      ]
    },
    {
      "cell_type": "markdown",
      "metadata": {
        "id": "N6E0fgETSZcT"
      },
      "source": [
        "# ***Why classify images anyway?***\n",
        "\n",
        "Image classification is the first step into computer vision: for humans or machines, labeling its perceptions is necessary for understanding the environment, as well as taking decisions and actions in it.\n",
        "\n",
        "<p align=\"center\">\n",
        "<img src=\"https://raw.githubusercontent.com/RodrigoMarquesP/Image_classification_with_CNNs_using_VGGNet/main/files/Observation.jpg\">\n",
        "</p>\n",
        "\n",
        "By giving vision to a computer, with the ability to \"comprehend\" it, any visual task can be automated, easily overcoming human capabilities. There are already lots of registries in the medical field of visual recognition tasks made better by artificial-intelligences. This article shows some of them:\n",
        "\n",
        "*   [Computer Vision Is Transforming Medicine](https://www.linkedin.com/pulse/how-computer-vision-transforming-medicine-margaretta-colangelo/)\n",
        "\n",
        "\n",
        "Definitely, it is not just in the medical area! Take just one minute of search in any field you like, and you will found AI visual applications revolutionizing it.\n",
        "\n",
        "\n",
        "\n",
        "\n",
        "\n",
        "\n"
      ]
    },
    {
      "cell_type": "markdown",
      "metadata": {
        "id": "FDDhyQ75ncOw"
      },
      "source": [
        "# ***How to classify an image***\n",
        "\n",
        "The deep learning approach is to train a network for understanding the differences between some classes of images.\n",
        "\n",
        "For doing so, there are a lot of different neural network architectures, including the most simple one: some [tf.keras.layers.Dense](https://www.tensorflow.org/api_docs/python/tf/keras/layers/Dense) layers with softmax output for the direct probability of each class. Even working, this approach brings many issues:\n",
        "\n",
        "\n",
        "*   Slow training;\n",
        "*   Low performance;\n",
        "*   Very biased to the dataset;\n",
        "*   Ignores spatial relations;\n",
        "*   Can't distinguish between different features.\n",
        "\n",
        "&rarr; To summarize: a standard network can't solve real-world computer vision problems.\n"
      ]
    },
    {
      "cell_type": "markdown",
      "metadata": {
        "id": "Vq4TznTWM-OW"
      },
      "source": [
        "# ***Convolutional Neural Network - CNN***\n",
        "\n",
        "The core of modern computer vision algorithms often is the **Convolutional Neural Network** or **CNN**. The reason for it is the way it \"comprehends\" each image: not just an array of numbers, but a bunch of hierarchical and spatial features.\n",
        "\n",
        "<p align=\"center\">\n",
        "<img src=\"https://raw.githubusercontent.com/RodrigoMarquesP/Image_classification_with_CNNs_using_VGGNet/main/files/feature_levels.png\">\n",
        "</p>\n",
        "\n",
        "Yes, it makes all the difference. The network won't simply extract the distribution of the data but the distribution of its features and their spatial relations, which is way closer to what humans do.\n",
        "\n",
        "<p align=\"center\">\n",
        "<img src=\"https://raw.githubusercontent.com/RodrigoMarquesP/Image_classification_with_CNNs_using_VGGNet/main/files/almost_human.gif\">\n",
        "</p>\n",
        "\n",
        "Therefore, if two images share a lot of features, they're probably the same class. It allows the network to deal well with many possible problems:\n",
        "\n",
        "*   Viewpoint variation;\n",
        "*   Illumination conditions;\n",
        "*   Scale variation;\n",
        "*   Deformation;\n",
        "*   Occlusion;\n",
        "*   Background clutter;\n",
        "*   Intra-class variation;\n"
      ]
    },
    {
      "cell_type": "markdown",
      "metadata": {
        "id": "olJuvpAgLx-G"
      },
      "source": [
        "## ***The convolution operation***\n",
        "\n",
        "Remember the key idea: comprehend features instead of just pixels. But how does a network do it? It uses the convolutional operation, which is implemented by [tf.keras.layers.Conv2D](https://www.tensorflow.org/api_docs/python/tf/keras/layers/Conv2D).\n",
        "\n",
        "First of all, instead of connecting every input to a neuron, we connect just a patch:\n",
        "\n",
        "<p align=\"center\">\n",
        "<img src=\"https://raw.githubusercontent.com/RodrigoMarquesP/Image_classification_with_CNNs_using_VGGNet/main/files/patch.jpg\">\n",
        "</p>\n",
        "\n",
        "The patches are selected by a sliding window that takes n-pixels steps to capture the next patches. '*n*' is a parameter of the layer.\n",
        "\n",
        "This allows each neuron to capture a single part of the image, and through the weights, transform it into a feature representation. The captured feature depends on the weights, and because of that, the set of weights is called a filter. A single filter applied to all patches is called **convolution operation** and generates a **feature map**.\n",
        "\n",
        "Passing through different filters capture different features, such as white spots, black spots, horizontal lines, vertical lines, etc. By doing so, we generate a feature map for each desired feature: a volume of images or a data cube.\n",
        "\n",
        "Thus, the size of the convolutional layer output will be (**n**, **m**, **f**), being **n**x**m** the size of the image, and **f** the number of features.\n",
        "\n",
        "\n",
        "\n",
        "### *Activation Function*\n",
        "\n",
        "To deal with non-linear data, we must have non-linear activations. The most used is the ReLu (rectified linear unit). This activation returns the number itself if it is positive, and zero if it is negative.\n",
        "\n",
        "\n",
        "<p align=\"center\">\n",
        "<img src=\"https://raw.githubusercontent.com/RodrigoMarquesP/Image_classification_with_CNNs_using_VGGNet/main/files/relu.png\" width=500>\n",
        "</p>\n",
        "\n",
        "\n",
        "\n"
      ]
    },
    {
      "cell_type": "markdown",
      "metadata": {
        "id": "lTD7NlxUMCiP"
      },
      "source": [
        "## ***The pooling operation***\n",
        "\n",
        "To deal with size differences, the pooling operation is responsible for reducing the dimensionality of its input, compressing the feature representations. This operation requires an order of resizing, ex:\n",
        "\n",
        "*   If the order is 4, the feature map will be partitioned in 4-pixels pieces, where each piece will be transformed in just one pixel after the operation.\n",
        "\n",
        "A widely used pooling operation is the **Max Pooling**: for each patch, get the higher. It is implemented by [tf.keras.layers.MaxPool2D](https://www.tensorflow.org/api_docs/python/tf/keras/layers/MaxPool2D).\n",
        "\n",
        "<p align=\"center\">\n",
        "<img src=\"https://raw.githubusercontent.com/RodrigoMarquesP/Image_classification_with_CNNs_using_VGGNet/main/files/pooling.png\" width=500>\n",
        "</p>\n"
      ]
    },
    {
      "cell_type": "markdown",
      "metadata": {
        "id": "utluV-BiYmEd"
      },
      "source": [
        "## ***Improvements***\n",
        "\n",
        "We can train faster and even have better results applying some improvements to our network. In this specific project i will use two:\n",
        "\n",
        "\n",
        "*   [tf.keras.layers.BatchNormalization](https://www.tensorflow.org/api_docs/python/tf/keras/layers/BatchNormalization)\n",
        "*   [tf.keras.layers.Dropout](https://www.tensorflow.org/api_docs/python/tf/keras/layers/Dropout)\n",
        "\n",
        "\n",
        "\n"
      ]
    },
    {
      "cell_type": "markdown",
      "metadata": {
        "id": "w3jdifdXaA73"
      },
      "source": [
        "### *Batch Normalization*\n",
        "\n",
        "As we train our network, the data distribution changes along layers and along the training process. We can normalize the dataset, but inside the network it will be very different. To solve it we can normalize the values internally. The normalization of the internal values of the network provides faster training, makes it less noisy, and lower the chances of overfitting.\n",
        "\n",
        "The Batch Normalization layer is this internal normalization solution. It normalizes its inputs with mean zero and standard deviation equals to one(μ=0,σ=1). It can be placed along the sequence in many places as we will see below.\n",
        "\n",
        "<p align=\"center\">\n",
        "<img src=\"https://raw.githubusercontent.com/RodrigoMarquesP/Image_classification_with_CNNs_using_VGGNet/main/files/batch_normalization.png\" width=500>\n",
        "</p>\n",
        "\n"
      ]
    },
    {
      "cell_type": "markdown",
      "metadata": {
        "id": "Ay36A2tQaCiN"
      },
      "source": [
        "### *Dropout*\n",
        "\n",
        "During training, a layer can learn to correct the errors of previous layers, which result in layers don't working as they supposed to. This means that the network is memorizing the data, it is, overfitting.\n",
        "\n",
        "A widely used technique to bypass it is the **dropout layer**. It determines that the neurons of a layer have a probability of being turned off during training:\n",
        "\n",
        "<p align=\"center\">\n",
        "<img src=\"https://raw.githubusercontent.com/RodrigoMarquesP/Image_classification_with_CNNs_using_VGGNet/main/files/dropout.gif\" width=500>\n",
        "</p>\n",
        "\n",
        "\n",
        "The consequences are:\n",
        "\n",
        "1.   As there are always some turned off neurons, the rest of them needs to take responsability for the results of the network;\n",
        "2.   As the turned off neurons always change, every neuron ends up taking responsability for the result;\n",
        "\n",
        "Using dropout layers requires more time for training but helps the network be generalist (to not overfit).\n",
        "\n",
        "\n",
        "\n",
        "\n"
      ]
    },
    {
      "cell_type": "markdown",
      "metadata": {
        "id": "RRsBqSJoMHSz"
      },
      "source": [
        "## ***Results delivering***\n",
        "\n",
        "<p align=\"center\">\n",
        "<img src=\"https://raw.githubusercontent.com/RodrigoMarquesP/Image_classification_with_CNNs_using_VGGNet/main/files/deliver_results.gif\">\n",
        "</p>\n",
        "\n",
        "The convolution and pooling operations can be repeated (CONV->POOL->CONV->POOL->...CONV->POOL->) to form what is called **feature learning** segmentation. However, how to use these feature representations to predict the input image class?\n",
        "\n",
        "Now that we are acting above the features instead of just pixels, we can use dense layers to output the probability distribution of each class. The [softmax activation](https://www.tensorflow.org/api_docs/python/tf/keras/activations/softmax) of the last dense layer will give us a number between 0 and 1 for each label, being the predicted probability of it. Thus, we can take the argument as the network prediction."
      ]
    },
    {
      "cell_type": "markdown",
      "metadata": {
        "id": "27UZQBDlM_im"
      },
      "source": [
        "# ***The implementation***\n",
        "\n",
        "Before even starting the project, go to the run option in the toolbar and set the environment to GPU to accelerate the computations. After that, let's import our dependencies:"
      ]
    },
    {
      "cell_type": "code",
      "metadata": {
        "id": "q5VsdLEAMWU7"
      },
      "source": [
        "# ensuring the tensorflow version\n",
        "%tensorflow_version 2.x\n",
        "\n",
        "import tensorflow as tf\n",
        "import numpy as np\n",
        "import matplotlib.pyplot as plt\n",
        "from sklearn.metrics import classification_report\n",
        "\n",
        "# to configure the figure's format\n",
        "%matplotlib inline\n",
        "%config InlineBackend.figure_format = 'svg'\n",
        "\n",
        "# to change the plot's style\n",
        "plt.style.use('fivethirtyeight')"
      ],
      "execution_count": null,
      "outputs": []
    },
    {
      "cell_type": "markdown",
      "metadata": {
        "id": "tSJ-_G3zbsFJ"
      },
      "source": [
        "## ***The dataset: fashion MNIST***\n",
        "\n",
        "**Fashion MNIST** is a standard dataset for deep learning computer vision applications. **MNIST** is a hand-writing digit widely known dataset, and the **Fashion MNIST** is its \"clothes version\".\n",
        "\n",
        "It contains 70 thousand images of ten different classes, where 60 thousand are for training and 10 thousand for testing. The classes are:\n",
        "\n",
        "Label | Class \n",
        "--- | --- \n",
        "0 | T-shirt/top\n",
        "1 | Trouser\n",
        "2 | Pullover\n",
        "3 | Dress\n",
        "4 | Coat\n",
        "5 | Sandal\n",
        "6 | Shirt\n",
        "7 | Sneaker\n",
        "8 | Bag\n",
        "9 | Ankle boot\n",
        "\n",
        "And they look like this:\n",
        "\n",
        "<p align=\"center\">\n",
        "<img src=\"https://raw.githubusercontent.com/RodrigoMarquesP/Image_classification_with_CNNs_using_VGGNet/main/files/dataset_view.png\" width=400>\n",
        "</p>\n",
        "\n",
        "We can load it directly from [tf.keras.datasets](https://www.tensorflow.org/api_docs/python/tf/keras/datasets):\n",
        "\n"
      ]
    },
    {
      "cell_type": "code",
      "metadata": {
        "id": "ZSU02WkpwI0T",
        "outputId": "2ad3b99a-be6c-4a53-b6be-cda9c0f7445d",
        "colab": {
          "base_uri": "https://localhost:8080/",
          "height": 516
        }
      },
      "source": [
        "(X_train, y_train), (X_test, y_test) = tf.keras.datasets.fashion_mnist.load_data()\n",
        "\n",
        "# We can look at the image and its corresponding array\n",
        "plt.imshow(X_train[0], cmap=plt.cm.binary)\n",
        "print(X_train[0][10:][:5])  # a slice of the image"
      ],
      "execution_count": null,
      "outputs": [
        {
          "output_type": "stream",
          "text": [
            "[[  0   0   0   0   0   0   0   0   0   0   0   0   0 193 228 218 213 198\n",
            "  180 212 210 211 213 223 220 243 202   0]\n",
            " [  0   0   0   0   0   0   0   0   0   1   3   0  12 219 220 212 218 192\n",
            "  169 227 208 218 224 212 226 197 209  52]\n",
            " [  0   0   0   0   0   0   0   0   0   0   6   0  99 244 222 220 218 203\n",
            "  198 221 215 213 222 220 245 119 167  56]\n",
            " [  0   0   0   0   0   0   0   0   0   4   0   0  55 236 228 230 228 240\n",
            "  232 213 218 223 234 217 217 209  92   0]\n",
            " [  0   0   1   4   6   7   2   0   0   0   0   0 237 226 217 223 222 219\n",
            "  222 221 216 223 229 215 218 255  77   0]]\n"
          ],
          "name": "stdout"
        },
        {
          "output_type": "display_data",
          "data": {
            "text/plain": [
              "<Figure size 432x288 with 1 Axes>"
            ],
            "image/svg+xml": "<?xml version=\"1.0\" encoding=\"utf-8\" standalone=\"no\"?>\n<!DOCTYPE svg PUBLIC \"-//W3C//DTD SVG 1.1//EN\"\n  \"http://www.w3.org/Graphics/SVG/1.1/DTD/svg11.dtd\">\n<!-- Created with matplotlib (https://matplotlib.org/) -->\n<svg height=\"245.018125pt\" version=\"1.1\" viewBox=\"0 0 248.065 245.018125\" width=\"248.065pt\" xmlns=\"http://www.w3.org/2000/svg\" xmlns:xlink=\"http://www.w3.org/1999/xlink\">\n <defs>\n  <style type=\"text/css\">\n*{stroke-linecap:butt;stroke-linejoin:round;}\n  </style>\n </defs>\n <g id=\"figure_1\">\n  <g id=\"patch_1\">\n   <path d=\"M 0 245.018125 \nL 248.065 245.018125 \nL 248.065 0 \nL 0 0 \nz\n\" style=\"fill:none;\"/>\n  </g>\n  <g id=\"axes_1\">\n   <g id=\"patch_2\">\n    <path d=\"M 23.425 224.64 \nL 240.865 224.64 \nL 240.865 7.2 \nL 23.425 7.2 \nz\n\" style=\"fill:#f0f0f0;\"/>\n   </g>\n   <g clip-path=\"url(#p4f10321068)\">\n    <image height=\"218\" id=\"image7b9d62b5b1\" transform=\"scale(1 -1)translate(0 -218)\" width=\"218\" x=\"23.425\" xlink:href=\"data:image/png;base64,\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\" y=\"-6.64\"/>\n   </g>\n   <g id=\"matplotlib.axis_1\">\n    <g id=\"xtick_1\">\n     <g id=\"line2d_1\">\n      <path clip-path=\"url(#p4f10321068)\" d=\"M 27.307857 224.64 \nL 27.307857 7.2 \n\" style=\"fill:none;stroke:#cbcbcb;\"/>\n     </g>\n     <g id=\"line2d_2\"/>\n     <g id=\"text_1\">\n      <!-- 0 -->\n      <defs>\n       <path d=\"M 31.78125 66.40625 \nQ 24.171875 66.40625 20.328125 58.90625 \nQ 16.5 51.421875 16.5 36.375 \nQ 16.5 21.390625 20.328125 13.890625 \nQ 24.171875 6.390625 31.78125 6.390625 \nQ 39.453125 6.390625 43.28125 13.890625 \nQ 47.125 21.390625 47.125 36.375 \nQ 47.125 51.421875 43.28125 58.90625 \nQ 39.453125 66.40625 31.78125 66.40625 \nz\nM 31.78125 74.21875 \nQ 44.046875 74.21875 50.515625 64.515625 \nQ 56.984375 54.828125 56.984375 36.375 \nQ 56.984375 17.96875 50.515625 8.265625 \nQ 44.046875 -1.421875 31.78125 -1.421875 \nQ 19.53125 -1.421875 13.0625 8.265625 \nQ 6.59375 17.96875 6.59375 36.375 \nQ 6.59375 54.828125 13.0625 64.515625 \nQ 19.53125 74.21875 31.78125 74.21875 \nz\n\" id=\"DejaVuSans-48\"/>\n      </defs>\n      <g transform=\"translate(24.126607 235.738437)scale(0.1 -0.1)\">\n       <use xlink:href=\"#DejaVuSans-48\"/>\n      </g>\n     </g>\n    </g>\n    <g id=\"xtick_2\">\n     <g id=\"line2d_3\">\n      <path clip-path=\"url(#p4f10321068)\" d=\"M 66.136429 224.64 \nL 66.136429 7.2 \n\" style=\"fill:none;stroke:#cbcbcb;\"/>\n     </g>\n     <g id=\"line2d_4\"/>\n     <g id=\"text_2\">\n      <!-- 5 -->\n      <defs>\n       <path d=\"M 10.796875 72.90625 \nL 49.515625 72.90625 \nL 49.515625 64.59375 \nL 19.828125 64.59375 \nL 19.828125 46.734375 \nQ 21.96875 47.46875 24.109375 47.828125 \nQ 26.265625 48.1875 28.421875 48.1875 \nQ 40.625 48.1875 47.75 41.5 \nQ 54.890625 34.8125 54.890625 23.390625 \nQ 54.890625 11.625 47.5625 5.09375 \nQ 40.234375 -1.421875 26.90625 -1.421875 \nQ 22.3125 -1.421875 17.546875 -0.640625 \nQ 12.796875 0.140625 7.71875 1.703125 \nL 7.71875 11.625 \nQ 12.109375 9.234375 16.796875 8.0625 \nQ 21.484375 6.890625 26.703125 6.890625 \nQ 35.15625 6.890625 40.078125 11.328125 \nQ 45.015625 15.765625 45.015625 23.390625 \nQ 45.015625 31 40.078125 35.4375 \nQ 35.15625 39.890625 26.703125 39.890625 \nQ 22.75 39.890625 18.8125 39.015625 \nQ 14.890625 38.140625 10.796875 36.28125 \nz\n\" id=\"DejaVuSans-53\"/>\n      </defs>\n      <g transform=\"translate(62.955179 235.738437)scale(0.1 -0.1)\">\n       <use xlink:href=\"#DejaVuSans-53\"/>\n      </g>\n     </g>\n    </g>\n    <g id=\"xtick_3\">\n     <g id=\"line2d_5\">\n      <path clip-path=\"url(#p4f10321068)\" d=\"M 104.965 224.64 \nL 104.965 7.2 \n\" style=\"fill:none;stroke:#cbcbcb;\"/>\n     </g>\n     <g id=\"line2d_6\"/>\n     <g id=\"text_3\">\n      <!-- 10 -->\n      <defs>\n       <path d=\"M 12.40625 8.296875 \nL 28.515625 8.296875 \nL 28.515625 63.921875 \nL 10.984375 60.40625 \nL 10.984375 69.390625 \nL 28.421875 72.90625 \nL 38.28125 72.90625 \nL 38.28125 8.296875 \nL 54.390625 8.296875 \nL 54.390625 0 \nL 12.40625 0 \nz\n\" id=\"DejaVuSans-49\"/>\n      </defs>\n      <g transform=\"translate(98.6025 235.738437)scale(0.1 -0.1)\">\n       <use xlink:href=\"#DejaVuSans-49\"/>\n       <use x=\"63.623047\" xlink:href=\"#DejaVuSans-48\"/>\n      </g>\n     </g>\n    </g>\n    <g id=\"xtick_4\">\n     <g id=\"line2d_7\">\n      <path clip-path=\"url(#p4f10321068)\" d=\"M 143.793571 224.64 \nL 143.793571 7.2 \n\" style=\"fill:none;stroke:#cbcbcb;\"/>\n     </g>\n     <g id=\"line2d_8\"/>\n     <g id=\"text_4\">\n      <!-- 15 -->\n      <g transform=\"translate(137.431071 235.738437)scale(0.1 -0.1)\">\n       <use xlink:href=\"#DejaVuSans-49\"/>\n       <use x=\"63.623047\" xlink:href=\"#DejaVuSans-53\"/>\n      </g>\n     </g>\n    </g>\n    <g id=\"xtick_5\">\n     <g id=\"line2d_9\">\n      <path clip-path=\"url(#p4f10321068)\" d=\"M 182.622143 224.64 \nL 182.622143 7.2 \n\" style=\"fill:none;stroke:#cbcbcb;\"/>\n     </g>\n     <g id=\"line2d_10\"/>\n     <g id=\"text_5\">\n      <!-- 20 -->\n      <defs>\n       <path d=\"M 19.1875 8.296875 \nL 53.609375 8.296875 \nL 53.609375 0 \nL 7.328125 0 \nL 7.328125 8.296875 \nQ 12.9375 14.109375 22.625 23.890625 \nQ 32.328125 33.6875 34.8125 36.53125 \nQ 39.546875 41.84375 41.421875 45.53125 \nQ 43.3125 49.21875 43.3125 52.78125 \nQ 43.3125 58.59375 39.234375 62.25 \nQ 35.15625 65.921875 28.609375 65.921875 \nQ 23.96875 65.921875 18.8125 64.3125 \nQ 13.671875 62.703125 7.8125 59.421875 \nL 7.8125 69.390625 \nQ 13.765625 71.78125 18.9375 73 \nQ 24.125 74.21875 28.421875 74.21875 \nQ 39.75 74.21875 46.484375 68.546875 \nQ 53.21875 62.890625 53.21875 53.421875 \nQ 53.21875 48.921875 51.53125 44.890625 \nQ 49.859375 40.875 45.40625 35.40625 \nQ 44.1875 33.984375 37.640625 27.21875 \nQ 31.109375 20.453125 19.1875 8.296875 \nz\n\" id=\"DejaVuSans-50\"/>\n      </defs>\n      <g transform=\"translate(176.259643 235.738437)scale(0.1 -0.1)\">\n       <use xlink:href=\"#DejaVuSans-50\"/>\n       <use x=\"63.623047\" xlink:href=\"#DejaVuSans-48\"/>\n      </g>\n     </g>\n    </g>\n    <g id=\"xtick_6\">\n     <g id=\"line2d_11\">\n      <path clip-path=\"url(#p4f10321068)\" d=\"M 221.450714 224.64 \nL 221.450714 7.2 \n\" style=\"fill:none;stroke:#cbcbcb;\"/>\n     </g>\n     <g id=\"line2d_12\"/>\n     <g id=\"text_6\">\n      <!-- 25 -->\n      <g transform=\"translate(215.088214 235.738437)scale(0.1 -0.1)\">\n       <use xlink:href=\"#DejaVuSans-50\"/>\n       <use x=\"63.623047\" xlink:href=\"#DejaVuSans-53\"/>\n      </g>\n     </g>\n    </g>\n   </g>\n   <g id=\"matplotlib.axis_2\">\n    <g id=\"ytick_1\">\n     <g id=\"line2d_13\">\n      <path clip-path=\"url(#p4f10321068)\" d=\"M 23.425 11.082857 \nL 240.865 11.082857 \n\" style=\"fill:none;stroke:#cbcbcb;\"/>\n     </g>\n     <g id=\"line2d_14\"/>\n     <g id=\"text_7\">\n      <!-- 0 -->\n      <g transform=\"translate(13.5625 14.882076)scale(0.1 -0.1)\">\n       <use xlink:href=\"#DejaVuSans-48\"/>\n      </g>\n     </g>\n    </g>\n    <g id=\"ytick_2\">\n     <g id=\"line2d_15\">\n      <path clip-path=\"url(#p4f10321068)\" d=\"M 23.425 49.911429 \nL 240.865 49.911429 \n\" style=\"fill:none;stroke:#cbcbcb;\"/>\n     </g>\n     <g id=\"line2d_16\"/>\n     <g id=\"text_8\">\n      <!-- 5 -->\n      <g transform=\"translate(13.5625 53.710647)scale(0.1 -0.1)\">\n       <use xlink:href=\"#DejaVuSans-53\"/>\n      </g>\n     </g>\n    </g>\n    <g id=\"ytick_3\">\n     <g id=\"line2d_17\">\n      <path clip-path=\"url(#p4f10321068)\" d=\"M 23.425 88.74 \nL 240.865 88.74 \n\" style=\"fill:none;stroke:#cbcbcb;\"/>\n     </g>\n     <g id=\"line2d_18\"/>\n     <g id=\"text_9\">\n      <!-- 10 -->\n      <g transform=\"translate(7.2 92.539219)scale(0.1 -0.1)\">\n       <use xlink:href=\"#DejaVuSans-49\"/>\n       <use x=\"63.623047\" xlink:href=\"#DejaVuSans-48\"/>\n      </g>\n     </g>\n    </g>\n    <g id=\"ytick_4\">\n     <g id=\"line2d_19\">\n      <path clip-path=\"url(#p4f10321068)\" d=\"M 23.425 127.568571 \nL 240.865 127.568571 \n\" style=\"fill:none;stroke:#cbcbcb;\"/>\n     </g>\n     <g id=\"line2d_20\"/>\n     <g id=\"text_10\">\n      <!-- 15 -->\n      <g transform=\"translate(7.2 131.36779)scale(0.1 -0.1)\">\n       <use xlink:href=\"#DejaVuSans-49\"/>\n       <use x=\"63.623047\" xlink:href=\"#DejaVuSans-53\"/>\n      </g>\n     </g>\n    </g>\n    <g id=\"ytick_5\">\n     <g id=\"line2d_21\">\n      <path clip-path=\"url(#p4f10321068)\" d=\"M 23.425 166.397143 \nL 240.865 166.397143 \n\" style=\"fill:none;stroke:#cbcbcb;\"/>\n     </g>\n     <g id=\"line2d_22\"/>\n     <g id=\"text_11\">\n      <!-- 20 -->\n      <g transform=\"translate(7.2 170.196362)scale(0.1 -0.1)\">\n       <use xlink:href=\"#DejaVuSans-50\"/>\n       <use x=\"63.623047\" xlink:href=\"#DejaVuSans-48\"/>\n      </g>\n     </g>\n    </g>\n    <g id=\"ytick_6\">\n     <g id=\"line2d_23\">\n      <path clip-path=\"url(#p4f10321068)\" d=\"M 23.425 205.225714 \nL 240.865 205.225714 \n\" style=\"fill:none;stroke:#cbcbcb;\"/>\n     </g>\n     <g id=\"line2d_24\"/>\n     <g id=\"text_12\">\n      <!-- 25 -->\n      <g transform=\"translate(7.2 209.024933)scale(0.1 -0.1)\">\n       <use xlink:href=\"#DejaVuSans-50\"/>\n       <use x=\"63.623047\" xlink:href=\"#DejaVuSans-53\"/>\n      </g>\n     </g>\n    </g>\n   </g>\n   <g id=\"patch_3\">\n    <path d=\"M 23.425 224.64 \nL 23.425 7.2 \n\" style=\"fill:none;stroke:#f0f0f0;stroke-linecap:square;stroke-linejoin:miter;stroke-width:3;\"/>\n   </g>\n   <g id=\"patch_4\">\n    <path d=\"M 240.865 224.64 \nL 240.865 7.2 \n\" style=\"fill:none;stroke:#f0f0f0;stroke-linecap:square;stroke-linejoin:miter;stroke-width:3;\"/>\n   </g>\n   <g id=\"patch_5\">\n    <path d=\"M 23.425 224.64 \nL 240.865 224.64 \n\" style=\"fill:none;stroke:#f0f0f0;stroke-linecap:square;stroke-linejoin:miter;stroke-width:3;\"/>\n   </g>\n   <g id=\"patch_6\">\n    <path d=\"M 23.425 7.2 \nL 240.865 7.2 \n\" style=\"fill:none;stroke:#f0f0f0;stroke-linecap:square;stroke-linejoin:miter;stroke-width:3;\"/>\n   </g>\n  </g>\n </g>\n <defs>\n  <clipPath id=\"p4f10321068\">\n   <rect height=\"217.44\" width=\"217.44\" x=\"23.425\" y=\"7.2\"/>\n  </clipPath>\n </defs>\n</svg>\n"
          },
          "metadata": {
            "tags": [],
            "needs_background": "light"
          }
        }
      ]
    },
    {
      "cell_type": "markdown",
      "metadata": {
        "id": "zZxbQRi5gcCM"
      },
      "source": [
        "## ***Data preprocessing***\n",
        "\n",
        "This dataset is already clean and balanced. Thereby we don't need to work on those topics. However, we can see that the data is in (0, 255) scale. Such magnitude can diverge the training process, which can be easily solved by normalizing the data. Another preparation that we need is to use the float32 type instead of float64 (the default) because of the TensorFlow requirements."
      ]
    },
    {
      "cell_type": "code",
      "metadata": {
        "id": "_9oFvfBIli-g"
      },
      "source": [
        "X_train = (X_train/255.).astype(\"float32\")\n",
        "X_test = (X_test/255.).astype(\"float32\")"
      ],
      "execution_count": null,
      "outputs": []
    },
    {
      "cell_type": "markdown",
      "metadata": {
        "id": "pfvWgCuWoMhO"
      },
      "source": [
        "To inject our data into the network, we need to put it on the 4-dimensional shape that TensorFlow requires:\n",
        "\n",
        "\n",
        "```\n",
        "(Number os instances, width, height, channels)\n",
        "```\n",
        "\n",
        "Which in our case is:\n",
        "\n",
        "```\n",
        "(Number os instances, 28, 28, 1)\n",
        "```\n"
      ]
    },
    {
      "cell_type": "code",
      "metadata": {
        "id": "mqjtjZ1doXc2"
      },
      "source": [
        "X_train = X_train.reshape((X_train.shape[0], 28, 28, 1))\n",
        "X_test = X_test.reshape((X_test.shape[0], 28, 28, 1))"
      ],
      "execution_count": null,
      "outputs": []
    },
    {
      "cell_type": "markdown",
      "metadata": {
        "id": "_XtJmJDKpEVu"
      },
      "source": [
        "## ***The model***\n",
        "\n",
        "Now it is time to bring together everything we talked about and build the model. This project will use an adapted version of the VGGNet architecture, designed by [Adrian Rosebrook](https://www.linkedin.com/in/adrian-rosebrock-59b8732a/). Let's take a look at it:\n",
        "\n",
        "<p align=\"center\">\n",
        "<img src=\"https://raw.githubusercontent.com/RodrigoMarquesP/Image_classification_with_CNNs_using_VGGNet/main/files/model_architecture.png\" width=1000>\n",
        "</p>\n",
        "\n",
        "For simplicity and better understanding, we will build the model with [tf.keras.Sequential](https://www.tensorflow.org/api_docs/python/tf/keras/Sequential):\n",
        "\n",
        "\n",
        "\n",
        "\n",
        "\n"
      ]
    },
    {
      "cell_type": "code",
      "metadata": {
        "id": "Ix6Cs9rNlrTx"
      },
      "source": [
        "model = tf.keras.Sequential()\n",
        "\n",
        "# First convolutional and pooling set\n",
        "model.add(tf.keras.layers.Conv2D(32, (3, 3), padding=\"same\", activation='relu', input_shape=(28, 28, 1)))\n",
        "model.add(tf.keras.layers.BatchNormalization(axis=1))\n",
        "model.add(tf.keras.layers.Conv2D(32, (3, 3), padding=\"same\", activation='relu'))\n",
        "model.add(tf.keras.layers.BatchNormalization(axis=1))\n",
        "model.add(tf.keras.layers.MaxPooling2D(pool_size=(2, 2)))\n",
        "model.add(tf.keras.layers.Dropout(0.25))\n",
        "\n",
        "# Second onvolutional and pooling set\n",
        "model.add(tf.keras.layers.Conv2D(64, (3, 3), padding=\"same\", activation='relu'))\n",
        "model.add(tf.keras.layers.BatchNormalization(axis=1))\n",
        "model.add(tf.keras.layers.Conv2D(64, (3, 3), padding=\"same\", activation='relu'))\n",
        "model.add(tf.keras.layers.BatchNormalization(axis=1))\n",
        "model.add(tf.keras.layers.MaxPooling2D(pool_size=(2, 2)))\n",
        "model.add(tf.keras.layers.Dropout(0.25))\n",
        "\n",
        "# Classification set\n",
        "model.add(tf.keras.layers.Flatten())\n",
        "model.add(tf.keras.layers.Dense(512, activation='relu'))\n",
        "model.add(tf.keras.layers.BatchNormalization())\n",
        "model.add(tf.keras.layers.Dropout(0.5))\n",
        "model.add(tf.keras.layers.Dense(10, activation='softmax'))  # 10 neurons because we have 10 labels"
      ],
      "execution_count": null,
      "outputs": []
    },
    {
      "cell_type": "markdown",
      "metadata": {
        "id": "1I3zv90qg-0y"
      },
      "source": [
        "We can take a look at the model's structure."
      ]
    },
    {
      "cell_type": "code",
      "metadata": {
        "id": "zeZl9TEWgwQU",
        "outputId": "aa8e7165-d4ae-4880-be67-c42377f77893",
        "colab": {
          "base_uri": "https://localhost:8080/"
        }
      },
      "source": [
        "model.summary()"
      ],
      "execution_count": null,
      "outputs": [
        {
          "output_type": "stream",
          "text": [
            "Model: \"sequential\"\n",
            "_________________________________________________________________\n",
            "Layer (type)                 Output Shape              Param #   \n",
            "=================================================================\n",
            "conv2d (Conv2D)              (None, 28, 28, 32)        320       \n",
            "_________________________________________________________________\n",
            "batch_normalization (BatchNo (None, 28, 28, 32)        112       \n",
            "_________________________________________________________________\n",
            "conv2d_1 (Conv2D)            (None, 28, 28, 32)        9248      \n",
            "_________________________________________________________________\n",
            "batch_normalization_1 (Batch (None, 28, 28, 32)        112       \n",
            "_________________________________________________________________\n",
            "max_pooling2d (MaxPooling2D) (None, 14, 14, 32)        0         \n",
            "_________________________________________________________________\n",
            "dropout (Dropout)            (None, 14, 14, 32)        0         \n",
            "_________________________________________________________________\n",
            "conv2d_2 (Conv2D)            (None, 14, 14, 64)        18496     \n",
            "_________________________________________________________________\n",
            "batch_normalization_2 (Batch (None, 14, 14, 64)        56        \n",
            "_________________________________________________________________\n",
            "conv2d_3 (Conv2D)            (None, 14, 14, 64)        36928     \n",
            "_________________________________________________________________\n",
            "batch_normalization_3 (Batch (None, 14, 14, 64)        56        \n",
            "_________________________________________________________________\n",
            "max_pooling2d_1 (MaxPooling2 (None, 7, 7, 64)          0         \n",
            "_________________________________________________________________\n",
            "dropout_1 (Dropout)          (None, 7, 7, 64)          0         \n",
            "_________________________________________________________________\n",
            "flatten (Flatten)            (None, 3136)              0         \n",
            "_________________________________________________________________\n",
            "dense (Dense)                (None, 512)               1606144   \n",
            "_________________________________________________________________\n",
            "batch_normalization_4 (Batch (None, 512)               2048      \n",
            "_________________________________________________________________\n",
            "dropout_2 (Dropout)          (None, 512)               0         \n",
            "_________________________________________________________________\n",
            "dense_1 (Dense)              (None, 10)                5130      \n",
            "=================================================================\n",
            "Total params: 1,678,650\n",
            "Trainable params: 1,677,458\n",
            "Non-trainable params: 1,192\n",
            "_________________________________________________________________\n"
          ],
          "name": "stdout"
        }
      ]
    },
    {
      "cell_type": "markdown",
      "metadata": {
        "id": "niKFITEShRcR"
      },
      "source": [
        "Now we can already compile our model, chosing the optimizer and the loss function:\n",
        "\n",
        "\n",
        "*   As we maintained integer labels, we need to use [sparse_categorical_crossentropy](https://www.tensorflow.org/api_docs/python/tf/keras/losses/sparse_categorical_crossentropy) loss.\n",
        "*   A good optimizer to try is [Adam](https://www.tensorflow.org/api_docs/python/tf/keras/optimizers/Adam), but feel free to try any other. You can find the full list at [the TensorFlow website](https://www.tensorflow.org/api_docs/python/tf/keras/optimizers/)."
      ]
    },
    {
      "cell_type": "code",
      "metadata": {
        "id": "DTlM1pxQizE1"
      },
      "source": [
        "model.compile(optimizer='adam',\n",
        "              loss=tf.keras.losses.sparse_categorical_crossentropy,\n",
        "              metrics=['accuracy'])"
      ],
      "execution_count": null,
      "outputs": []
    },
    {
      "cell_type": "markdown",
      "metadata": {
        "id": "_wpKygMVjjLJ"
      },
      "source": [
        "The last step is to fit the model."
      ]
    },
    {
      "cell_type": "code",
      "metadata": {
        "id": "CYIDze4rl8Vd",
        "outputId": "be236fac-3945-4468-9318-9b3f790b11b9",
        "colab": {
          "base_uri": "https://localhost:8080/"
        }
      },
      "source": [
        "history = model.fit(X_train, y_train, epochs=20, validation_split=0.2)"
      ],
      "execution_count": null,
      "outputs": [
        {
          "output_type": "stream",
          "text": [
            "Epoch 1/20\n",
            "1500/1500 [==============================] - 8s 5ms/step - loss: 0.5135 - accuracy: 0.8215 - val_loss: 0.3084 - val_accuracy: 0.8882\n",
            "Epoch 2/20\n",
            "1500/1500 [==============================] - 8s 5ms/step - loss: 0.3269 - accuracy: 0.8821 - val_loss: 0.2533 - val_accuracy: 0.9069\n",
            "Epoch 3/20\n",
            "1500/1500 [==============================] - 8s 5ms/step - loss: 0.2873 - accuracy: 0.8969 - val_loss: 0.2469 - val_accuracy: 0.9082\n",
            "Epoch 4/20\n",
            "1500/1500 [==============================] - 8s 5ms/step - loss: 0.2662 - accuracy: 0.9043 - val_loss: 0.2265 - val_accuracy: 0.9210\n",
            "Epoch 5/20\n",
            "1500/1500 [==============================] - 8s 5ms/step - loss: 0.2481 - accuracy: 0.9091 - val_loss: 0.2160 - val_accuracy: 0.9212\n",
            "Epoch 6/20\n",
            "1500/1500 [==============================] - 8s 5ms/step - loss: 0.2377 - accuracy: 0.9146 - val_loss: 0.2618 - val_accuracy: 0.9066\n",
            "Epoch 7/20\n",
            "1500/1500 [==============================] - 8s 5ms/step - loss: 0.2249 - accuracy: 0.9193 - val_loss: 0.2100 - val_accuracy: 0.9245\n",
            "Epoch 8/20\n",
            "1500/1500 [==============================] - 8s 5ms/step - loss: 0.2055 - accuracy: 0.9247 - val_loss: 0.1833 - val_accuracy: 0.9335\n",
            "Epoch 9/20\n",
            "1500/1500 [==============================] - 8s 5ms/step - loss: 0.1947 - accuracy: 0.9295 - val_loss: 0.1988 - val_accuracy: 0.9287\n",
            "Epoch 10/20\n",
            "1500/1500 [==============================] - 8s 5ms/step - loss: 0.1848 - accuracy: 0.9326 - val_loss: 0.2125 - val_accuracy: 0.9254\n",
            "Epoch 11/20\n",
            "1500/1500 [==============================] - 8s 5ms/step - loss: 0.1734 - accuracy: 0.9374 - val_loss: 0.1831 - val_accuracy: 0.9342\n",
            "Epoch 12/20\n",
            "1500/1500 [==============================] - 8s 5ms/step - loss: 0.1639 - accuracy: 0.9396 - val_loss: 0.1763 - val_accuracy: 0.9359\n",
            "Epoch 13/20\n",
            "1500/1500 [==============================] - 8s 5ms/step - loss: 0.1532 - accuracy: 0.9441 - val_loss: 0.1870 - val_accuracy: 0.9345\n",
            "Epoch 14/20\n",
            "1500/1500 [==============================] - 8s 5ms/step - loss: 0.1610 - accuracy: 0.9410 - val_loss: 0.1945 - val_accuracy: 0.9336\n",
            "Epoch 15/20\n",
            "1500/1500 [==============================] - 8s 5ms/step - loss: 0.1449 - accuracy: 0.9470 - val_loss: 0.1835 - val_accuracy: 0.9370\n",
            "Epoch 16/20\n",
            "1500/1500 [==============================] - 8s 5ms/step - loss: 0.1371 - accuracy: 0.9496 - val_loss: 0.1801 - val_accuracy: 0.9379\n",
            "Epoch 17/20\n",
            "1500/1500 [==============================] - 8s 5ms/step - loss: 0.1277 - accuracy: 0.9529 - val_loss: 0.1877 - val_accuracy: 0.9344\n",
            "Epoch 18/20\n",
            "1500/1500 [==============================] - 8s 5ms/step - loss: 0.1259 - accuracy: 0.9534 - val_loss: 0.1815 - val_accuracy: 0.9375\n",
            "Epoch 19/20\n",
            "1500/1500 [==============================] - 8s 5ms/step - loss: 0.1182 - accuracy: 0.9567 - val_loss: 0.2047 - val_accuracy: 0.9350\n",
            "Epoch 20/20\n",
            "1500/1500 [==============================] - 8s 5ms/step - loss: 0.1131 - accuracy: 0.9582 - val_loss: 0.1909 - val_accuracy: 0.9384\n"
          ],
          "name": "stdout"
        }
      ]
    },
    {
      "cell_type": "markdown",
      "metadata": {
        "id": "AmdnuNJynRkz"
      },
      "source": [
        "## ***Results evaluation***\n",
        "\n",
        "To see the training performance, we can plot the history list returned by the fit() function."
      ]
    },
    {
      "cell_type": "code",
      "metadata": {
        "id": "kfiiUyLNoUk-",
        "outputId": "b1d447e0-59d7-48bc-f688-5b298da82b52",
        "colab": {
          "base_uri": "https://localhost:8080/",
          "height": 441
        }
      },
      "source": [
        "loss = history.history['loss']\n",
        "acc = history.history['accuracy']\n",
        "\n",
        "fig, ax = plt.subplots(1, 2, figsize=(10, 5))\n",
        "ax[0].plot(loss, lw=1)\n",
        "ax[0].set_xlabel('Epochs')\n",
        "ax[0].set_ylabel('Loss')\n",
        "ax[1].plot(acc, lw=1)\n",
        "ax[1].set_xlabel('Epochs')\n",
        "ax[1].set_ylabel('Accuracy')\n",
        "plt.show();"
      ],
      "execution_count": null,
      "outputs": [
        {
          "output_type": "display_data",
          "data": {
            "text/plain": [
              "<Figure size 720x360 with 2 Axes>"
            ],
            "image/svg+xml": "<?xml version=\"1.0\" encoding=\"utf-8\" standalone=\"no\"?>\n<!DOCTYPE svg PUBLIC \"-//W3C//DTD SVG 1.1//EN\"\n  \"http://www.w3.org/Graphics/SVG/1.1/DTD/svg11.dtd\">\n<!-- Created with matplotlib (https://matplotlib.org/) -->\n<svg height=\"314.991875pt\" version=\"1.1\" viewBox=\"0 0 682.179375 314.991875\" width=\"682.179375pt\" xmlns=\"http://www.w3.org/2000/svg\" xmlns:xlink=\"http://www.w3.org/1999/xlink\">\n <defs>\n  <style type=\"text/css\">\n*{stroke-linecap:butt;stroke-linejoin:round;}\n  </style>\n </defs>\n <g id=\"figure_1\">\n  <g id=\"patch_1\">\n   <path d=\"M 0 314.991875 \nL 682.179375 314.991875 \nL 682.179375 0 \nL 0 0 \nz\n\" style=\"fill:none;\"/>\n  </g>\n  <g id=\"axes_1\">\n   <g id=\"patch_2\">\n    <path d=\"M 48.579375 279 \nL 333.306648 279 \nL 333.306648 7.2 \nL 48.579375 7.2 \nz\n\" style=\"fill:#f0f0f0;\"/>\n   </g>\n   <g id=\"matplotlib.axis_1\">\n    <g id=\"xtick_1\">\n     <g id=\"line2d_1\">\n      <path clip-path=\"url(#p64143ca1e1)\" d=\"M 61.521524 279 \nL 61.521524 7.2 \n\" style=\"fill:none;stroke:#cbcbcb;\"/>\n     </g>\n     <g id=\"line2d_2\"/>\n     <g id=\"text_1\">\n      <!-- 0.0 -->\n      <defs>\n       <path d=\"M 31.78125 66.40625 \nQ 24.171875 66.40625 20.328125 58.90625 \nQ 16.5 51.421875 16.5 36.375 \nQ 16.5 21.390625 20.328125 13.890625 \nQ 24.171875 6.390625 31.78125 6.390625 \nQ 39.453125 6.390625 43.28125 13.890625 \nQ 47.125 21.390625 47.125 36.375 \nQ 47.125 51.421875 43.28125 58.90625 \nQ 39.453125 66.40625 31.78125 66.40625 \nz\nM 31.78125 74.21875 \nQ 44.046875 74.21875 50.515625 64.515625 \nQ 56.984375 54.828125 56.984375 36.375 \nQ 56.984375 17.96875 50.515625 8.265625 \nQ 44.046875 -1.421875 31.78125 -1.421875 \nQ 19.53125 -1.421875 13.0625 8.265625 \nQ 6.59375 17.96875 6.59375 36.375 \nQ 6.59375 54.828125 13.0625 64.515625 \nQ 19.53125 74.21875 31.78125 74.21875 \nz\n\" id=\"DejaVuSans-48\"/>\n       <path d=\"M 10.6875 12.40625 \nL 21 12.40625 \nL 21 0 \nL 10.6875 0 \nz\n\" id=\"DejaVuSans-46\"/>\n      </defs>\n      <g transform=\"translate(53.569961 290.098438)scale(0.1 -0.1)\">\n       <use xlink:href=\"#DejaVuSans-48\"/>\n       <use x=\"63.623047\" xlink:href=\"#DejaVuSans-46\"/>\n       <use x=\"95.410156\" xlink:href=\"#DejaVuSans-48\"/>\n      </g>\n     </g>\n    </g>\n    <g id=\"xtick_2\">\n     <g id=\"line2d_3\">\n      <path clip-path=\"url(#p64143ca1e1)\" d=\"M 95.57981 279 \nL 95.57981 7.2 \n\" style=\"fill:none;stroke:#cbcbcb;\"/>\n     </g>\n     <g id=\"line2d_4\"/>\n     <g id=\"text_2\">\n      <!-- 2.5 -->\n      <defs>\n       <path d=\"M 19.1875 8.296875 \nL 53.609375 8.296875 \nL 53.609375 0 \nL 7.328125 0 \nL 7.328125 8.296875 \nQ 12.9375 14.109375 22.625 23.890625 \nQ 32.328125 33.6875 34.8125 36.53125 \nQ 39.546875 41.84375 41.421875 45.53125 \nQ 43.3125 49.21875 43.3125 52.78125 \nQ 43.3125 58.59375 39.234375 62.25 \nQ 35.15625 65.921875 28.609375 65.921875 \nQ 23.96875 65.921875 18.8125 64.3125 \nQ 13.671875 62.703125 7.8125 59.421875 \nL 7.8125 69.390625 \nQ 13.765625 71.78125 18.9375 73 \nQ 24.125 74.21875 28.421875 74.21875 \nQ 39.75 74.21875 46.484375 68.546875 \nQ 53.21875 62.890625 53.21875 53.421875 \nQ 53.21875 48.921875 51.53125 44.890625 \nQ 49.859375 40.875 45.40625 35.40625 \nQ 44.1875 33.984375 37.640625 27.21875 \nQ 31.109375 20.453125 19.1875 8.296875 \nz\n\" id=\"DejaVuSans-50\"/>\n       <path d=\"M 10.796875 72.90625 \nL 49.515625 72.90625 \nL 49.515625 64.59375 \nL 19.828125 64.59375 \nL 19.828125 46.734375 \nQ 21.96875 47.46875 24.109375 47.828125 \nQ 26.265625 48.1875 28.421875 48.1875 \nQ 40.625 48.1875 47.75 41.5 \nQ 54.890625 34.8125 54.890625 23.390625 \nQ 54.890625 11.625 47.5625 5.09375 \nQ 40.234375 -1.421875 26.90625 -1.421875 \nQ 22.3125 -1.421875 17.546875 -0.640625 \nQ 12.796875 0.140625 7.71875 1.703125 \nL 7.71875 11.625 \nQ 12.109375 9.234375 16.796875 8.0625 \nQ 21.484375 6.890625 26.703125 6.890625 \nQ 35.15625 6.890625 40.078125 11.328125 \nQ 45.015625 15.765625 45.015625 23.390625 \nQ 45.015625 31 40.078125 35.4375 \nQ 35.15625 39.890625 26.703125 39.890625 \nQ 22.75 39.890625 18.8125 39.015625 \nQ 14.890625 38.140625 10.796875 36.28125 \nz\n\" id=\"DejaVuSans-53\"/>\n      </defs>\n      <g transform=\"translate(87.628247 290.098438)scale(0.1 -0.1)\">\n       <use xlink:href=\"#DejaVuSans-50\"/>\n       <use x=\"63.623047\" xlink:href=\"#DejaVuSans-46\"/>\n       <use x=\"95.410156\" xlink:href=\"#DejaVuSans-53\"/>\n      </g>\n     </g>\n    </g>\n    <g id=\"xtick_3\">\n     <g id=\"line2d_5\">\n      <path clip-path=\"url(#p64143ca1e1)\" d=\"M 129.638096 279 \nL 129.638096 7.2 \n\" style=\"fill:none;stroke:#cbcbcb;\"/>\n     </g>\n     <g id=\"line2d_6\"/>\n     <g id=\"text_3\">\n      <!-- 5.0 -->\n      <g transform=\"translate(121.686534 290.098438)scale(0.1 -0.1)\">\n       <use xlink:href=\"#DejaVuSans-53\"/>\n       <use x=\"63.623047\" xlink:href=\"#DejaVuSans-46\"/>\n       <use x=\"95.410156\" xlink:href=\"#DejaVuSans-48\"/>\n      </g>\n     </g>\n    </g>\n    <g id=\"xtick_4\">\n     <g id=\"line2d_7\">\n      <path clip-path=\"url(#p64143ca1e1)\" d=\"M 163.696382 279 \nL 163.696382 7.2 \n\" style=\"fill:none;stroke:#cbcbcb;\"/>\n     </g>\n     <g id=\"line2d_8\"/>\n     <g id=\"text_4\">\n      <!-- 7.5 -->\n      <defs>\n       <path d=\"M 8.203125 72.90625 \nL 55.078125 72.90625 \nL 55.078125 68.703125 \nL 28.609375 0 \nL 18.3125 0 \nL 43.21875 64.59375 \nL 8.203125 64.59375 \nz\n\" id=\"DejaVuSans-55\"/>\n      </defs>\n      <g transform=\"translate(155.74482 290.098438)scale(0.1 -0.1)\">\n       <use xlink:href=\"#DejaVuSans-55\"/>\n       <use x=\"63.623047\" xlink:href=\"#DejaVuSans-46\"/>\n       <use x=\"95.410156\" xlink:href=\"#DejaVuSans-53\"/>\n      </g>\n     </g>\n    </g>\n    <g id=\"xtick_5\">\n     <g id=\"line2d_9\">\n      <path clip-path=\"url(#p64143ca1e1)\" d=\"M 197.754669 279 \nL 197.754669 7.2 \n\" style=\"fill:none;stroke:#cbcbcb;\"/>\n     </g>\n     <g id=\"line2d_10\"/>\n     <g id=\"text_5\">\n      <!-- 10.0 -->\n      <defs>\n       <path d=\"M 12.40625 8.296875 \nL 28.515625 8.296875 \nL 28.515625 63.921875 \nL 10.984375 60.40625 \nL 10.984375 69.390625 \nL 28.421875 72.90625 \nL 38.28125 72.90625 \nL 38.28125 8.296875 \nL 54.390625 8.296875 \nL 54.390625 0 \nL 12.40625 0 \nz\n\" id=\"DejaVuSans-49\"/>\n      </defs>\n      <g transform=\"translate(186.621856 290.098438)scale(0.1 -0.1)\">\n       <use xlink:href=\"#DejaVuSans-49\"/>\n       <use x=\"63.623047\" xlink:href=\"#DejaVuSans-48\"/>\n       <use x=\"127.246094\" xlink:href=\"#DejaVuSans-46\"/>\n       <use x=\"159.033203\" xlink:href=\"#DejaVuSans-48\"/>\n      </g>\n     </g>\n    </g>\n    <g id=\"xtick_6\">\n     <g id=\"line2d_11\">\n      <path clip-path=\"url(#p64143ca1e1)\" d=\"M 231.812955 279 \nL 231.812955 7.2 \n\" style=\"fill:none;stroke:#cbcbcb;\"/>\n     </g>\n     <g id=\"line2d_12\"/>\n     <g id=\"text_6\">\n      <!-- 12.5 -->\n      <g transform=\"translate(220.680142 290.098438)scale(0.1 -0.1)\">\n       <use xlink:href=\"#DejaVuSans-49\"/>\n       <use x=\"63.623047\" xlink:href=\"#DejaVuSans-50\"/>\n       <use x=\"127.246094\" xlink:href=\"#DejaVuSans-46\"/>\n       <use x=\"159.033203\" xlink:href=\"#DejaVuSans-53\"/>\n      </g>\n     </g>\n    </g>\n    <g id=\"xtick_7\">\n     <g id=\"line2d_13\">\n      <path clip-path=\"url(#p64143ca1e1)\" d=\"M 265.871241 279 \nL 265.871241 7.2 \n\" style=\"fill:none;stroke:#cbcbcb;\"/>\n     </g>\n     <g id=\"line2d_14\"/>\n     <g id=\"text_7\">\n      <!-- 15.0 -->\n      <g transform=\"translate(254.738429 290.098438)scale(0.1 -0.1)\">\n       <use xlink:href=\"#DejaVuSans-49\"/>\n       <use x=\"63.623047\" xlink:href=\"#DejaVuSans-53\"/>\n       <use x=\"127.246094\" xlink:href=\"#DejaVuSans-46\"/>\n       <use x=\"159.033203\" xlink:href=\"#DejaVuSans-48\"/>\n      </g>\n     </g>\n    </g>\n    <g id=\"xtick_8\">\n     <g id=\"line2d_15\">\n      <path clip-path=\"url(#p64143ca1e1)\" d=\"M 299.929527 279 \nL 299.929527 7.2 \n\" style=\"fill:none;stroke:#cbcbcb;\"/>\n     </g>\n     <g id=\"line2d_16\"/>\n     <g id=\"text_8\">\n      <!-- 17.5 -->\n      <g transform=\"translate(288.796715 290.098438)scale(0.1 -0.1)\">\n       <use xlink:href=\"#DejaVuSans-49\"/>\n       <use x=\"63.623047\" xlink:href=\"#DejaVuSans-55\"/>\n       <use x=\"127.246094\" xlink:href=\"#DejaVuSans-46\"/>\n       <use x=\"159.033203\" xlink:href=\"#DejaVuSans-53\"/>\n      </g>\n     </g>\n    </g>\n    <g id=\"text_9\">\n     <!-- Epochs -->\n     <defs>\n      <path d=\"M 9.8125 72.90625 \nL 55.90625 72.90625 \nL 55.90625 64.59375 \nL 19.671875 64.59375 \nL 19.671875 43.015625 \nL 54.390625 43.015625 \nL 54.390625 34.71875 \nL 19.671875 34.71875 \nL 19.671875 8.296875 \nL 56.78125 8.296875 \nL 56.78125 0 \nL 9.8125 0 \nz\n\" id=\"DejaVuSans-69\"/>\n      <path d=\"M 18.109375 8.203125 \nL 18.109375 -20.796875 \nL 9.078125 -20.796875 \nL 9.078125 54.6875 \nL 18.109375 54.6875 \nL 18.109375 46.390625 \nQ 20.953125 51.265625 25.265625 53.625 \nQ 29.59375 56 35.59375 56 \nQ 45.5625 56 51.78125 48.09375 \nQ 58.015625 40.1875 58.015625 27.296875 \nQ 58.015625 14.40625 51.78125 6.484375 \nQ 45.5625 -1.421875 35.59375 -1.421875 \nQ 29.59375 -1.421875 25.265625 0.953125 \nQ 20.953125 3.328125 18.109375 8.203125 \nz\nM 48.6875 27.296875 \nQ 48.6875 37.203125 44.609375 42.84375 \nQ 40.53125 48.484375 33.40625 48.484375 \nQ 26.265625 48.484375 22.1875 42.84375 \nQ 18.109375 37.203125 18.109375 27.296875 \nQ 18.109375 17.390625 22.1875 11.75 \nQ 26.265625 6.109375 33.40625 6.109375 \nQ 40.53125 6.109375 44.609375 11.75 \nQ 48.6875 17.390625 48.6875 27.296875 \nz\n\" id=\"DejaVuSans-112\"/>\n      <path d=\"M 30.609375 48.390625 \nQ 23.390625 48.390625 19.1875 42.75 \nQ 14.984375 37.109375 14.984375 27.296875 \nQ 14.984375 17.484375 19.15625 11.84375 \nQ 23.34375 6.203125 30.609375 6.203125 \nQ 37.796875 6.203125 41.984375 11.859375 \nQ 46.1875 17.53125 46.1875 27.296875 \nQ 46.1875 37.015625 41.984375 42.703125 \nQ 37.796875 48.390625 30.609375 48.390625 \nz\nM 30.609375 56 \nQ 42.328125 56 49.015625 48.375 \nQ 55.71875 40.765625 55.71875 27.296875 \nQ 55.71875 13.875 49.015625 6.21875 \nQ 42.328125 -1.421875 30.609375 -1.421875 \nQ 18.84375 -1.421875 12.171875 6.21875 \nQ 5.515625 13.875 5.515625 27.296875 \nQ 5.515625 40.765625 12.171875 48.375 \nQ 18.84375 56 30.609375 56 \nz\n\" id=\"DejaVuSans-111\"/>\n      <path d=\"M 48.78125 52.59375 \nL 48.78125 44.1875 \nQ 44.96875 46.296875 41.140625 47.34375 \nQ 37.3125 48.390625 33.40625 48.390625 \nQ 24.65625 48.390625 19.8125 42.84375 \nQ 14.984375 37.3125 14.984375 27.296875 \nQ 14.984375 17.28125 19.8125 11.734375 \nQ 24.65625 6.203125 33.40625 6.203125 \nQ 37.3125 6.203125 41.140625 7.25 \nQ 44.96875 8.296875 48.78125 10.40625 \nL 48.78125 2.09375 \nQ 45.015625 0.34375 40.984375 -0.53125 \nQ 36.96875 -1.421875 32.421875 -1.421875 \nQ 20.0625 -1.421875 12.78125 6.34375 \nQ 5.515625 14.109375 5.515625 27.296875 \nQ 5.515625 40.671875 12.859375 48.328125 \nQ 20.21875 56 33.015625 56 \nQ 37.15625 56 41.109375 55.140625 \nQ 45.0625 54.296875 48.78125 52.59375 \nz\n\" id=\"DejaVuSans-99\"/>\n      <path d=\"M 54.890625 33.015625 \nL 54.890625 0 \nL 45.90625 0 \nL 45.90625 32.71875 \nQ 45.90625 40.484375 42.875 44.328125 \nQ 39.84375 48.1875 33.796875 48.1875 \nQ 26.515625 48.1875 22.3125 43.546875 \nQ 18.109375 38.921875 18.109375 30.90625 \nL 18.109375 0 \nL 9.078125 0 \nL 9.078125 75.984375 \nL 18.109375 75.984375 \nL 18.109375 46.1875 \nQ 21.34375 51.125 25.703125 53.5625 \nQ 30.078125 56 35.796875 56 \nQ 45.21875 56 50.046875 50.171875 \nQ 54.890625 44.34375 54.890625 33.015625 \nz\n\" id=\"DejaVuSans-104\"/>\n      <path d=\"M 44.28125 53.078125 \nL 44.28125 44.578125 \nQ 40.484375 46.53125 36.375 47.5 \nQ 32.28125 48.484375 27.875 48.484375 \nQ 21.1875 48.484375 17.84375 46.4375 \nQ 14.5 44.390625 14.5 40.28125 \nQ 14.5 37.15625 16.890625 35.375 \nQ 19.28125 33.59375 26.515625 31.984375 \nL 29.59375 31.296875 \nQ 39.15625 29.25 43.1875 25.515625 \nQ 47.21875 21.78125 47.21875 15.09375 \nQ 47.21875 7.46875 41.1875 3.015625 \nQ 35.15625 -1.421875 24.609375 -1.421875 \nQ 20.21875 -1.421875 15.453125 -0.5625 \nQ 10.6875 0.296875 5.421875 2 \nL 5.421875 11.28125 \nQ 10.40625 8.6875 15.234375 7.390625 \nQ 20.0625 6.109375 24.8125 6.109375 \nQ 31.15625 6.109375 34.5625 8.28125 \nQ 37.984375 10.453125 37.984375 14.40625 \nQ 37.984375 18.0625 35.515625 20.015625 \nQ 33.0625 21.96875 24.703125 23.78125 \nL 21.578125 24.515625 \nQ 13.234375 26.265625 9.515625 29.90625 \nQ 5.8125 33.546875 5.8125 39.890625 \nQ 5.8125 47.609375 11.28125 51.796875 \nQ 16.75 56 26.8125 56 \nQ 31.78125 56 36.171875 55.265625 \nQ 40.578125 54.546875 44.28125 53.078125 \nz\n\" id=\"DejaVuSans-115\"/>\n     </defs>\n     <g transform=\"translate(169.444261 305.29625)scale(0.12 -0.12)\">\n      <use xlink:href=\"#DejaVuSans-69\"/>\n      <use x=\"63.183594\" xlink:href=\"#DejaVuSans-112\"/>\n      <use x=\"126.660156\" xlink:href=\"#DejaVuSans-111\"/>\n      <use x=\"187.841797\" xlink:href=\"#DejaVuSans-99\"/>\n      <use x=\"242.822266\" xlink:href=\"#DejaVuSans-104\"/>\n      <use x=\"306.201172\" xlink:href=\"#DejaVuSans-115\"/>\n     </g>\n    </g>\n   </g>\n   <g id=\"matplotlib.axis_2\">\n    <g id=\"ytick_1\">\n     <g id=\"line2d_17\">\n      <path clip-path=\"url(#p64143ca1e1)\" d=\"M 48.579375 274.752368 \nL 333.306648 274.752368 \n\" style=\"fill:none;stroke:#cbcbcb;\"/>\n     </g>\n     <g id=\"line2d_18\"/>\n     <g id=\"text_10\">\n      <!-- 0.10 -->\n      <g transform=\"translate(22.81375 278.551587)scale(0.1 -0.1)\">\n       <use xlink:href=\"#DejaVuSans-48\"/>\n       <use x=\"63.623047\" xlink:href=\"#DejaVuSans-46\"/>\n       <use x=\"95.410156\" xlink:href=\"#DejaVuSans-49\"/>\n       <use x=\"159.033203\" xlink:href=\"#DejaVuSans-48\"/>\n      </g>\n     </g>\n    </g>\n    <g id=\"ytick_2\">\n     <g id=\"line2d_19\">\n      <path clip-path=\"url(#p64143ca1e1)\" d=\"M 48.579375 243.890604 \nL 333.306648 243.890604 \n\" style=\"fill:none;stroke:#cbcbcb;\"/>\n     </g>\n     <g id=\"line2d_20\"/>\n     <g id=\"text_11\">\n      <!-- 0.15 -->\n      <g transform=\"translate(22.81375 247.689822)scale(0.1 -0.1)\">\n       <use xlink:href=\"#DejaVuSans-48\"/>\n       <use x=\"63.623047\" xlink:href=\"#DejaVuSans-46\"/>\n       <use x=\"95.410156\" xlink:href=\"#DejaVuSans-49\"/>\n       <use x=\"159.033203\" xlink:href=\"#DejaVuSans-53\"/>\n      </g>\n     </g>\n    </g>\n    <g id=\"ytick_3\">\n     <g id=\"line2d_21\">\n      <path clip-path=\"url(#p64143ca1e1)\" d=\"M 48.579375 213.028839 \nL 333.306648 213.028839 \n\" style=\"fill:none;stroke:#cbcbcb;\"/>\n     </g>\n     <g id=\"line2d_22\"/>\n     <g id=\"text_12\">\n      <!-- 0.20 -->\n      <g transform=\"translate(22.81375 216.828058)scale(0.1 -0.1)\">\n       <use xlink:href=\"#DejaVuSans-48\"/>\n       <use x=\"63.623047\" xlink:href=\"#DejaVuSans-46\"/>\n       <use x=\"95.410156\" xlink:href=\"#DejaVuSans-50\"/>\n       <use x=\"159.033203\" xlink:href=\"#DejaVuSans-48\"/>\n      </g>\n     </g>\n    </g>\n    <g id=\"ytick_4\">\n     <g id=\"line2d_23\">\n      <path clip-path=\"url(#p64143ca1e1)\" d=\"M 48.579375 182.167075 \nL 333.306648 182.167075 \n\" style=\"fill:none;stroke:#cbcbcb;\"/>\n     </g>\n     <g id=\"line2d_24\"/>\n     <g id=\"text_13\">\n      <!-- 0.25 -->\n      <g transform=\"translate(22.81375 185.966294)scale(0.1 -0.1)\">\n       <use xlink:href=\"#DejaVuSans-48\"/>\n       <use x=\"63.623047\" xlink:href=\"#DejaVuSans-46\"/>\n       <use x=\"95.410156\" xlink:href=\"#DejaVuSans-50\"/>\n       <use x=\"159.033203\" xlink:href=\"#DejaVuSans-53\"/>\n      </g>\n     </g>\n    </g>\n    <g id=\"ytick_5\">\n     <g id=\"line2d_25\">\n      <path clip-path=\"url(#p64143ca1e1)\" d=\"M 48.579375 151.30531 \nL 333.306648 151.30531 \n\" style=\"fill:none;stroke:#cbcbcb;\"/>\n     </g>\n     <g id=\"line2d_26\"/>\n     <g id=\"text_14\">\n      <!-- 0.30 -->\n      <defs>\n       <path d=\"M 40.578125 39.3125 \nQ 47.65625 37.796875 51.625 33 \nQ 55.609375 28.21875 55.609375 21.1875 \nQ 55.609375 10.40625 48.1875 4.484375 \nQ 40.765625 -1.421875 27.09375 -1.421875 \nQ 22.515625 -1.421875 17.65625 -0.515625 \nQ 12.796875 0.390625 7.625 2.203125 \nL 7.625 11.71875 \nQ 11.71875 9.328125 16.59375 8.109375 \nQ 21.484375 6.890625 26.8125 6.890625 \nQ 36.078125 6.890625 40.9375 10.546875 \nQ 45.796875 14.203125 45.796875 21.1875 \nQ 45.796875 27.640625 41.28125 31.265625 \nQ 36.765625 34.90625 28.71875 34.90625 \nL 20.21875 34.90625 \nL 20.21875 43.015625 \nL 29.109375 43.015625 \nQ 36.375 43.015625 40.234375 45.921875 \nQ 44.09375 48.828125 44.09375 54.296875 \nQ 44.09375 59.90625 40.109375 62.90625 \nQ 36.140625 65.921875 28.71875 65.921875 \nQ 24.65625 65.921875 20.015625 65.03125 \nQ 15.375 64.15625 9.8125 62.3125 \nL 9.8125 71.09375 \nQ 15.4375 72.65625 20.34375 73.4375 \nQ 25.25 74.21875 29.59375 74.21875 \nQ 40.828125 74.21875 47.359375 69.109375 \nQ 53.90625 64.015625 53.90625 55.328125 \nQ 53.90625 49.265625 50.4375 45.09375 \nQ 46.96875 40.921875 40.578125 39.3125 \nz\n\" id=\"DejaVuSans-51\"/>\n      </defs>\n      <g transform=\"translate(22.81375 155.104529)scale(0.1 -0.1)\">\n       <use xlink:href=\"#DejaVuSans-48\"/>\n       <use x=\"63.623047\" xlink:href=\"#DejaVuSans-46\"/>\n       <use x=\"95.410156\" xlink:href=\"#DejaVuSans-51\"/>\n       <use x=\"159.033203\" xlink:href=\"#DejaVuSans-48\"/>\n      </g>\n     </g>\n    </g>\n    <g id=\"ytick_6\">\n     <g id=\"line2d_27\">\n      <path clip-path=\"url(#p64143ca1e1)\" d=\"M 48.579375 120.443546 \nL 333.306648 120.443546 \n\" style=\"fill:none;stroke:#cbcbcb;\"/>\n     </g>\n     <g id=\"line2d_28\"/>\n     <g id=\"text_15\">\n      <!-- 0.35 -->\n      <g transform=\"translate(22.81375 124.242765)scale(0.1 -0.1)\">\n       <use xlink:href=\"#DejaVuSans-48\"/>\n       <use x=\"63.623047\" xlink:href=\"#DejaVuSans-46\"/>\n       <use x=\"95.410156\" xlink:href=\"#DejaVuSans-51\"/>\n       <use x=\"159.033203\" xlink:href=\"#DejaVuSans-53\"/>\n      </g>\n     </g>\n    </g>\n    <g id=\"ytick_7\">\n     <g id=\"line2d_29\">\n      <path clip-path=\"url(#p64143ca1e1)\" d=\"M 48.579375 89.581782 \nL 333.306648 89.581782 \n\" style=\"fill:none;stroke:#cbcbcb;\"/>\n     </g>\n     <g id=\"line2d_30\"/>\n     <g id=\"text_16\">\n      <!-- 0.40 -->\n      <defs>\n       <path d=\"M 37.796875 64.3125 \nL 12.890625 25.390625 \nL 37.796875 25.390625 \nz\nM 35.203125 72.90625 \nL 47.609375 72.90625 \nL 47.609375 25.390625 \nL 58.015625 25.390625 \nL 58.015625 17.1875 \nL 47.609375 17.1875 \nL 47.609375 0 \nL 37.796875 0 \nL 37.796875 17.1875 \nL 4.890625 17.1875 \nL 4.890625 26.703125 \nz\n\" id=\"DejaVuSans-52\"/>\n      </defs>\n      <g transform=\"translate(22.81375 93.381)scale(0.1 -0.1)\">\n       <use xlink:href=\"#DejaVuSans-48\"/>\n       <use x=\"63.623047\" xlink:href=\"#DejaVuSans-46\"/>\n       <use x=\"95.410156\" xlink:href=\"#DejaVuSans-52\"/>\n       <use x=\"159.033203\" xlink:href=\"#DejaVuSans-48\"/>\n      </g>\n     </g>\n    </g>\n    <g id=\"ytick_8\">\n     <g id=\"line2d_31\">\n      <path clip-path=\"url(#p64143ca1e1)\" d=\"M 48.579375 58.720017 \nL 333.306648 58.720017 \n\" style=\"fill:none;stroke:#cbcbcb;\"/>\n     </g>\n     <g id=\"line2d_32\"/>\n     <g id=\"text_17\">\n      <!-- 0.45 -->\n      <g transform=\"translate(22.81375 62.519236)scale(0.1 -0.1)\">\n       <use xlink:href=\"#DejaVuSans-48\"/>\n       <use x=\"63.623047\" xlink:href=\"#DejaVuSans-46\"/>\n       <use x=\"95.410156\" xlink:href=\"#DejaVuSans-52\"/>\n       <use x=\"159.033203\" xlink:href=\"#DejaVuSans-53\"/>\n      </g>\n     </g>\n    </g>\n    <g id=\"ytick_9\">\n     <g id=\"line2d_33\">\n      <path clip-path=\"url(#p64143ca1e1)\" d=\"M 48.579375 27.858253 \nL 333.306648 27.858253 \n\" style=\"fill:none;stroke:#cbcbcb;\"/>\n     </g>\n     <g id=\"line2d_34\"/>\n     <g id=\"text_18\">\n      <!-- 0.50 -->\n      <g transform=\"translate(22.81375 31.657471)scale(0.1 -0.1)\">\n       <use xlink:href=\"#DejaVuSans-48\"/>\n       <use x=\"63.623047\" xlink:href=\"#DejaVuSans-46\"/>\n       <use x=\"95.410156\" xlink:href=\"#DejaVuSans-53\"/>\n       <use x=\"159.033203\" xlink:href=\"#DejaVuSans-48\"/>\n      </g>\n     </g>\n    </g>\n    <g id=\"text_19\">\n     <!-- Loss -->\n     <defs>\n      <path d=\"M 9.8125 72.90625 \nL 19.671875 72.90625 \nL 19.671875 8.296875 \nL 55.171875 8.296875 \nL 55.171875 0 \nL 9.8125 0 \nz\n\" id=\"DejaVuSans-76\"/>\n     </defs>\n     <g transform=\"translate(16.318125 156.260625)rotate(-90)scale(0.12 -0.12)\">\n      <use xlink:href=\"#DejaVuSans-76\"/>\n      <use x=\"53.962891\" xlink:href=\"#DejaVuSans-111\"/>\n      <use x=\"115.144531\" xlink:href=\"#DejaVuSans-115\"/>\n      <use x=\"167.244141\" xlink:href=\"#DejaVuSans-115\"/>\n     </g>\n    </g>\n   </g>\n   <g id=\"line2d_35\">\n    <path clip-path=\"url(#p64143ca1e1)\" d=\"M 61.521524 19.554545 \nL 75.144838 134.730576 \nL 88.768153 159.171061 \nL 102.391467 172.191331 \nL 116.014782 183.330552 \nL 129.638096 189.78449 \nL 143.261411 197.630685 \nL 156.884725 209.660935 \nL 170.50804 216.288991 \nL 184.131354 222.404369 \nL 197.754669 229.467238 \nL 211.377983 235.328884 \nL 225.001298 241.931822 \nL 238.624612 237.101679 \nL 252.247927 247.044752 \nL 265.871241 251.827712 \nL 279.494556 257.651197 \nL 293.11787 258.782217 \nL 306.741184 263.544772 \nL 320.364499 266.645455 \n\" style=\"fill:none;stroke:#008fd5;\"/>\n   </g>\n   <g id=\"patch_3\">\n    <path d=\"M 48.579375 279 \nL 48.579375 7.2 \n\" style=\"fill:none;stroke:#f0f0f0;stroke-linecap:square;stroke-linejoin:miter;stroke-width:3;\"/>\n   </g>\n   <g id=\"patch_4\">\n    <path d=\"M 333.306648 279 \nL 333.306648 7.2 \n\" style=\"fill:none;stroke:#f0f0f0;stroke-linecap:square;stroke-linejoin:miter;stroke-width:3;\"/>\n   </g>\n   <g id=\"patch_5\">\n    <path d=\"M 48.579375 279 \nL 333.306648 279 \n\" style=\"fill:none;stroke:#f0f0f0;stroke-linecap:square;stroke-linejoin:miter;stroke-width:3;\"/>\n   </g>\n   <g id=\"patch_6\">\n    <path d=\"M 48.579375 7.2 \nL 333.306648 7.2 \n\" style=\"fill:none;stroke:#f0f0f0;stroke-linecap:square;stroke-linejoin:miter;stroke-width:3;\"/>\n   </g>\n  </g>\n  <g id=\"axes_2\">\n   <g id=\"patch_7\">\n    <path d=\"M 390.252102 279 \nL 674.979375 279 \nL 674.979375 7.2 \nL 390.252102 7.2 \nz\n\" style=\"fill:#f0f0f0;\"/>\n   </g>\n   <g id=\"matplotlib.axis_3\">\n    <g id=\"xtick_9\">\n     <g id=\"line2d_36\">\n      <path clip-path=\"url(#pda88b64cc8)\" d=\"M 403.194251 279 \nL 403.194251 7.2 \n\" style=\"fill:none;stroke:#cbcbcb;\"/>\n     </g>\n     <g id=\"line2d_37\"/>\n     <g id=\"text_20\">\n      <!-- 0.0 -->\n      <g transform=\"translate(395.242689 290.098438)scale(0.1 -0.1)\">\n       <use xlink:href=\"#DejaVuSans-48\"/>\n       <use x=\"63.623047\" xlink:href=\"#DejaVuSans-46\"/>\n       <use x=\"95.410156\" xlink:href=\"#DejaVuSans-48\"/>\n      </g>\n     </g>\n    </g>\n    <g id=\"xtick_10\">\n     <g id=\"line2d_38\">\n      <path clip-path=\"url(#pda88b64cc8)\" d=\"M 437.252537 279 \nL 437.252537 7.2 \n\" style=\"fill:none;stroke:#cbcbcb;\"/>\n     </g>\n     <g id=\"line2d_39\"/>\n     <g id=\"text_21\">\n      <!-- 2.5 -->\n      <g transform=\"translate(429.300975 290.098438)scale(0.1 -0.1)\">\n       <use xlink:href=\"#DejaVuSans-50\"/>\n       <use x=\"63.623047\" xlink:href=\"#DejaVuSans-46\"/>\n       <use x=\"95.410156\" xlink:href=\"#DejaVuSans-53\"/>\n      </g>\n     </g>\n    </g>\n    <g id=\"xtick_11\">\n     <g id=\"line2d_40\">\n      <path clip-path=\"url(#pda88b64cc8)\" d=\"M 471.310823 279 \nL 471.310823 7.2 \n\" style=\"fill:none;stroke:#cbcbcb;\"/>\n     </g>\n     <g id=\"line2d_41\"/>\n     <g id=\"text_22\">\n      <!-- 5.0 -->\n      <g transform=\"translate(463.359261 290.098438)scale(0.1 -0.1)\">\n       <use xlink:href=\"#DejaVuSans-53\"/>\n       <use x=\"63.623047\" xlink:href=\"#DejaVuSans-46\"/>\n       <use x=\"95.410156\" xlink:href=\"#DejaVuSans-48\"/>\n      </g>\n     </g>\n    </g>\n    <g id=\"xtick_12\">\n     <g id=\"line2d_42\">\n      <path clip-path=\"url(#pda88b64cc8)\" d=\"M 505.36911 279 \nL 505.36911 7.2 \n\" style=\"fill:none;stroke:#cbcbcb;\"/>\n     </g>\n     <g id=\"line2d_43\"/>\n     <g id=\"text_23\">\n      <!-- 7.5 -->\n      <g transform=\"translate(497.417547 290.098438)scale(0.1 -0.1)\">\n       <use xlink:href=\"#DejaVuSans-55\"/>\n       <use x=\"63.623047\" xlink:href=\"#DejaVuSans-46\"/>\n       <use x=\"95.410156\" xlink:href=\"#DejaVuSans-53\"/>\n      </g>\n     </g>\n    </g>\n    <g id=\"xtick_13\">\n     <g id=\"line2d_44\">\n      <path clip-path=\"url(#pda88b64cc8)\" d=\"M 539.427396 279 \nL 539.427396 7.2 \n\" style=\"fill:none;stroke:#cbcbcb;\"/>\n     </g>\n     <g id=\"line2d_45\"/>\n     <g id=\"text_24\">\n      <!-- 10.0 -->\n      <g transform=\"translate(528.294583 290.098438)scale(0.1 -0.1)\">\n       <use xlink:href=\"#DejaVuSans-49\"/>\n       <use x=\"63.623047\" xlink:href=\"#DejaVuSans-48\"/>\n       <use x=\"127.246094\" xlink:href=\"#DejaVuSans-46\"/>\n       <use x=\"159.033203\" xlink:href=\"#DejaVuSans-48\"/>\n      </g>\n     </g>\n    </g>\n    <g id=\"xtick_14\">\n     <g id=\"line2d_46\">\n      <path clip-path=\"url(#pda88b64cc8)\" d=\"M 573.485682 279 \nL 573.485682 7.2 \n\" style=\"fill:none;stroke:#cbcbcb;\"/>\n     </g>\n     <g id=\"line2d_47\"/>\n     <g id=\"text_25\">\n      <!-- 12.5 -->\n      <g transform=\"translate(562.35287 290.098438)scale(0.1 -0.1)\">\n       <use xlink:href=\"#DejaVuSans-49\"/>\n       <use x=\"63.623047\" xlink:href=\"#DejaVuSans-50\"/>\n       <use x=\"127.246094\" xlink:href=\"#DejaVuSans-46\"/>\n       <use x=\"159.033203\" xlink:href=\"#DejaVuSans-53\"/>\n      </g>\n     </g>\n    </g>\n    <g id=\"xtick_15\">\n     <g id=\"line2d_48\">\n      <path clip-path=\"url(#pda88b64cc8)\" d=\"M 607.543968 279 \nL 607.543968 7.2 \n\" style=\"fill:none;stroke:#cbcbcb;\"/>\n     </g>\n     <g id=\"line2d_49\"/>\n     <g id=\"text_26\">\n      <!-- 15.0 -->\n      <g transform=\"translate(596.411156 290.098438)scale(0.1 -0.1)\">\n       <use xlink:href=\"#DejaVuSans-49\"/>\n       <use x=\"63.623047\" xlink:href=\"#DejaVuSans-53\"/>\n       <use x=\"127.246094\" xlink:href=\"#DejaVuSans-46\"/>\n       <use x=\"159.033203\" xlink:href=\"#DejaVuSans-48\"/>\n      </g>\n     </g>\n    </g>\n    <g id=\"xtick_16\">\n     <g id=\"line2d_50\">\n      <path clip-path=\"url(#pda88b64cc8)\" d=\"M 641.602255 279 \nL 641.602255 7.2 \n\" style=\"fill:none;stroke:#cbcbcb;\"/>\n     </g>\n     <g id=\"line2d_51\"/>\n     <g id=\"text_27\">\n      <!-- 17.5 -->\n      <g transform=\"translate(630.469442 290.098438)scale(0.1 -0.1)\">\n       <use xlink:href=\"#DejaVuSans-49\"/>\n       <use x=\"63.623047\" xlink:href=\"#DejaVuSans-55\"/>\n       <use x=\"127.246094\" xlink:href=\"#DejaVuSans-46\"/>\n       <use x=\"159.033203\" xlink:href=\"#DejaVuSans-53\"/>\n      </g>\n     </g>\n    </g>\n    <g id=\"text_28\">\n     <!-- Epochs -->\n     <g transform=\"translate(511.116989 305.29625)scale(0.12 -0.12)\">\n      <use xlink:href=\"#DejaVuSans-69\"/>\n      <use x=\"63.183594\" xlink:href=\"#DejaVuSans-112\"/>\n      <use x=\"126.660156\" xlink:href=\"#DejaVuSans-111\"/>\n      <use x=\"187.841797\" xlink:href=\"#DejaVuSans-99\"/>\n      <use x=\"242.822266\" xlink:href=\"#DejaVuSans-104\"/>\n      <use x=\"306.201172\" xlink:href=\"#DejaVuSans-115\"/>\n     </g>\n    </g>\n   </g>\n   <g id=\"matplotlib.axis_4\">\n    <g id=\"ytick_10\">\n     <g id=\"line2d_52\">\n      <path clip-path=\"url(#pda88b64cc8)\" d=\"M 390.252102 269.356194 \nL 674.979375 269.356194 \n\" style=\"fill:none;stroke:#cbcbcb;\"/>\n     </g>\n     <g id=\"line2d_53\"/>\n     <g id=\"text_29\">\n      <!-- 0.82 -->\n      <defs>\n       <path d=\"M 31.78125 34.625 \nQ 24.75 34.625 20.71875 30.859375 \nQ 16.703125 27.09375 16.703125 20.515625 \nQ 16.703125 13.921875 20.71875 10.15625 \nQ 24.75 6.390625 31.78125 6.390625 \nQ 38.8125 6.390625 42.859375 10.171875 \nQ 46.921875 13.96875 46.921875 20.515625 \nQ 46.921875 27.09375 42.890625 30.859375 \nQ 38.875 34.625 31.78125 34.625 \nz\nM 21.921875 38.8125 \nQ 15.578125 40.375 12.03125 44.71875 \nQ 8.5 49.078125 8.5 55.328125 \nQ 8.5 64.0625 14.71875 69.140625 \nQ 20.953125 74.21875 31.78125 74.21875 \nQ 42.671875 74.21875 48.875 69.140625 \nQ 55.078125 64.0625 55.078125 55.328125 \nQ 55.078125 49.078125 51.53125 44.71875 \nQ 48 40.375 41.703125 38.8125 \nQ 48.828125 37.15625 52.796875 32.3125 \nQ 56.78125 27.484375 56.78125 20.515625 \nQ 56.78125 9.90625 50.3125 4.234375 \nQ 43.84375 -1.421875 31.78125 -1.421875 \nQ 19.734375 -1.421875 13.25 4.234375 \nQ 6.78125 9.90625 6.78125 20.515625 \nQ 6.78125 27.484375 10.78125 32.3125 \nQ 14.796875 37.15625 21.921875 38.8125 \nz\nM 18.3125 54.390625 \nQ 18.3125 48.734375 21.84375 45.5625 \nQ 25.390625 42.390625 31.78125 42.390625 \nQ 38.140625 42.390625 41.71875 45.5625 \nQ 45.3125 48.734375 45.3125 54.390625 \nQ 45.3125 60.0625 41.71875 63.234375 \nQ 38.140625 66.40625 31.78125 66.40625 \nQ 25.390625 66.40625 21.84375 63.234375 \nQ 18.3125 60.0625 18.3125 54.390625 \nz\n\" id=\"DejaVuSans-56\"/>\n      </defs>\n      <g transform=\"translate(364.486477 273.155413)scale(0.1 -0.1)\">\n       <use xlink:href=\"#DejaVuSans-48\"/>\n       <use x=\"63.623047\" xlink:href=\"#DejaVuSans-46\"/>\n       <use x=\"95.410156\" xlink:href=\"#DejaVuSans-56\"/>\n       <use x=\"159.033203\" xlink:href=\"#DejaVuSans-50\"/>\n      </g>\n     </g>\n    </g>\n    <g id=\"ytick_11\">\n     <g id=\"line2d_54\">\n      <path clip-path=\"url(#pda88b64cc8)\" d=\"M 390.252102 233.213081 \nL 674.979375 233.213081 \n\" style=\"fill:none;stroke:#cbcbcb;\"/>\n     </g>\n     <g id=\"line2d_55\"/>\n     <g id=\"text_30\">\n      <!-- 0.84 -->\n      <g transform=\"translate(364.486477 237.0123)scale(0.1 -0.1)\">\n       <use xlink:href=\"#DejaVuSans-48\"/>\n       <use x=\"63.623047\" xlink:href=\"#DejaVuSans-46\"/>\n       <use x=\"95.410156\" xlink:href=\"#DejaVuSans-56\"/>\n       <use x=\"159.033203\" xlink:href=\"#DejaVuSans-52\"/>\n      </g>\n     </g>\n    </g>\n    <g id=\"ytick_12\">\n     <g id=\"line2d_56\">\n      <path clip-path=\"url(#pda88b64cc8)\" d=\"M 390.252102 197.069969 \nL 674.979375 197.069969 \n\" style=\"fill:none;stroke:#cbcbcb;\"/>\n     </g>\n     <g id=\"line2d_57\"/>\n     <g id=\"text_31\">\n      <!-- 0.86 -->\n      <defs>\n       <path d=\"M 33.015625 40.375 \nQ 26.375 40.375 22.484375 35.828125 \nQ 18.609375 31.296875 18.609375 23.390625 \nQ 18.609375 15.53125 22.484375 10.953125 \nQ 26.375 6.390625 33.015625 6.390625 \nQ 39.65625 6.390625 43.53125 10.953125 \nQ 47.40625 15.53125 47.40625 23.390625 \nQ 47.40625 31.296875 43.53125 35.828125 \nQ 39.65625 40.375 33.015625 40.375 \nz\nM 52.59375 71.296875 \nL 52.59375 62.3125 \nQ 48.875 64.0625 45.09375 64.984375 \nQ 41.3125 65.921875 37.59375 65.921875 \nQ 27.828125 65.921875 22.671875 59.328125 \nQ 17.53125 52.734375 16.796875 39.40625 \nQ 19.671875 43.65625 24.015625 45.921875 \nQ 28.375 48.1875 33.59375 48.1875 \nQ 44.578125 48.1875 50.953125 41.515625 \nQ 57.328125 34.859375 57.328125 23.390625 \nQ 57.328125 12.15625 50.6875 5.359375 \nQ 44.046875 -1.421875 33.015625 -1.421875 \nQ 20.359375 -1.421875 13.671875 8.265625 \nQ 6.984375 17.96875 6.984375 36.375 \nQ 6.984375 53.65625 15.1875 63.9375 \nQ 23.390625 74.21875 37.203125 74.21875 \nQ 40.921875 74.21875 44.703125 73.484375 \nQ 48.484375 72.75 52.59375 71.296875 \nz\n\" id=\"DejaVuSans-54\"/>\n      </defs>\n      <g transform=\"translate(364.486477 200.869188)scale(0.1 -0.1)\">\n       <use xlink:href=\"#DejaVuSans-48\"/>\n       <use x=\"63.623047\" xlink:href=\"#DejaVuSans-46\"/>\n       <use x=\"95.410156\" xlink:href=\"#DejaVuSans-56\"/>\n       <use x=\"159.033203\" xlink:href=\"#DejaVuSans-54\"/>\n      </g>\n     </g>\n    </g>\n    <g id=\"ytick_13\">\n     <g id=\"line2d_58\">\n      <path clip-path=\"url(#pda88b64cc8)\" d=\"M 390.252102 160.926856 \nL 674.979375 160.926856 \n\" style=\"fill:none;stroke:#cbcbcb;\"/>\n     </g>\n     <g id=\"line2d_59\"/>\n     <g id=\"text_32\">\n      <!-- 0.88 -->\n      <g transform=\"translate(364.486477 164.726075)scale(0.1 -0.1)\">\n       <use xlink:href=\"#DejaVuSans-48\"/>\n       <use x=\"63.623047\" xlink:href=\"#DejaVuSans-46\"/>\n       <use x=\"95.410156\" xlink:href=\"#DejaVuSans-56\"/>\n       <use x=\"159.033203\" xlink:href=\"#DejaVuSans-56\"/>\n      </g>\n     </g>\n    </g>\n    <g id=\"ytick_14\">\n     <g id=\"line2d_60\">\n      <path clip-path=\"url(#pda88b64cc8)\" d=\"M 390.252102 124.783744 \nL 674.979375 124.783744 \n\" style=\"fill:none;stroke:#cbcbcb;\"/>\n     </g>\n     <g id=\"line2d_61\"/>\n     <g id=\"text_33\">\n      <!-- 0.90 -->\n      <defs>\n       <path d=\"M 10.984375 1.515625 \nL 10.984375 10.5 \nQ 14.703125 8.734375 18.5 7.8125 \nQ 22.3125 6.890625 25.984375 6.890625 \nQ 35.75 6.890625 40.890625 13.453125 \nQ 46.046875 20.015625 46.78125 33.40625 \nQ 43.953125 29.203125 39.59375 26.953125 \nQ 35.25 24.703125 29.984375 24.703125 \nQ 19.046875 24.703125 12.671875 31.3125 \nQ 6.296875 37.9375 6.296875 49.421875 \nQ 6.296875 60.640625 12.9375 67.421875 \nQ 19.578125 74.21875 30.609375 74.21875 \nQ 43.265625 74.21875 49.921875 64.515625 \nQ 56.59375 54.828125 56.59375 36.375 \nQ 56.59375 19.140625 48.40625 8.859375 \nQ 40.234375 -1.421875 26.421875 -1.421875 \nQ 22.703125 -1.421875 18.890625 -0.6875 \nQ 15.09375 0.046875 10.984375 1.515625 \nz\nM 30.609375 32.421875 \nQ 37.25 32.421875 41.125 36.953125 \nQ 45.015625 41.5 45.015625 49.421875 \nQ 45.015625 57.28125 41.125 61.84375 \nQ 37.25 66.40625 30.609375 66.40625 \nQ 23.96875 66.40625 20.09375 61.84375 \nQ 16.21875 57.28125 16.21875 49.421875 \nQ 16.21875 41.5 20.09375 36.953125 \nQ 23.96875 32.421875 30.609375 32.421875 \nz\n\" id=\"DejaVuSans-57\"/>\n      </defs>\n      <g transform=\"translate(364.486477 128.582962)scale(0.1 -0.1)\">\n       <use xlink:href=\"#DejaVuSans-48\"/>\n       <use x=\"63.623047\" xlink:href=\"#DejaVuSans-46\"/>\n       <use x=\"95.410156\" xlink:href=\"#DejaVuSans-57\"/>\n       <use x=\"159.033203\" xlink:href=\"#DejaVuSans-48\"/>\n      </g>\n     </g>\n    </g>\n    <g id=\"ytick_15\">\n     <g id=\"line2d_62\">\n      <path clip-path=\"url(#pda88b64cc8)\" d=\"M 390.252102 88.640631 \nL 674.979375 88.640631 \n\" style=\"fill:none;stroke:#cbcbcb;\"/>\n     </g>\n     <g id=\"line2d_63\"/>\n     <g id=\"text_34\">\n      <!-- 0.92 -->\n      <g transform=\"translate(364.486477 92.43985)scale(0.1 -0.1)\">\n       <use xlink:href=\"#DejaVuSans-48\"/>\n       <use x=\"63.623047\" xlink:href=\"#DejaVuSans-46\"/>\n       <use x=\"95.410156\" xlink:href=\"#DejaVuSans-57\"/>\n       <use x=\"159.033203\" xlink:href=\"#DejaVuSans-50\"/>\n      </g>\n     </g>\n    </g>\n    <g id=\"ytick_16\">\n     <g id=\"line2d_64\">\n      <path clip-path=\"url(#pda88b64cc8)\" d=\"M 390.252102 52.497518 \nL 674.979375 52.497518 \n\" style=\"fill:none;stroke:#cbcbcb;\"/>\n     </g>\n     <g id=\"line2d_65\"/>\n     <g id=\"text_35\">\n      <!-- 0.94 -->\n      <g transform=\"translate(364.486477 56.296737)scale(0.1 -0.1)\">\n       <use xlink:href=\"#DejaVuSans-48\"/>\n       <use x=\"63.623047\" xlink:href=\"#DejaVuSans-46\"/>\n       <use x=\"95.410156\" xlink:href=\"#DejaVuSans-57\"/>\n       <use x=\"159.033203\" xlink:href=\"#DejaVuSans-52\"/>\n      </g>\n     </g>\n    </g>\n    <g id=\"ytick_17\">\n     <g id=\"line2d_66\">\n      <path clip-path=\"url(#pda88b64cc8)\" d=\"M 390.252102 16.354406 \nL 674.979375 16.354406 \n\" style=\"fill:none;stroke:#cbcbcb;\"/>\n     </g>\n     <g id=\"line2d_67\"/>\n     <g id=\"text_36\">\n      <!-- 0.96 -->\n      <g transform=\"translate(364.486477 20.153624)scale(0.1 -0.1)\">\n       <use xlink:href=\"#DejaVuSans-48\"/>\n       <use x=\"63.623047\" xlink:href=\"#DejaVuSans-46\"/>\n       <use x=\"95.410156\" xlink:href=\"#DejaVuSans-57\"/>\n       <use x=\"159.033203\" xlink:href=\"#DejaVuSans-54\"/>\n      </g>\n     </g>\n    </g>\n    <g id=\"text_37\">\n     <!-- Accuracy -->\n     <defs>\n      <path d=\"M 34.1875 63.1875 \nL 20.796875 26.90625 \nL 47.609375 26.90625 \nz\nM 28.609375 72.90625 \nL 39.796875 72.90625 \nL 67.578125 0 \nL 57.328125 0 \nL 50.6875 18.703125 \nL 17.828125 18.703125 \nL 11.1875 0 \nL 0.78125 0 \nz\n\" id=\"DejaVuSans-65\"/>\n      <path d=\"M 8.5 21.578125 \nL 8.5 54.6875 \nL 17.484375 54.6875 \nL 17.484375 21.921875 \nQ 17.484375 14.15625 20.5 10.265625 \nQ 23.53125 6.390625 29.59375 6.390625 \nQ 36.859375 6.390625 41.078125 11.03125 \nQ 45.3125 15.671875 45.3125 23.6875 \nL 45.3125 54.6875 \nL 54.296875 54.6875 \nL 54.296875 0 \nL 45.3125 0 \nL 45.3125 8.40625 \nQ 42.046875 3.421875 37.71875 1 \nQ 33.40625 -1.421875 27.6875 -1.421875 \nQ 18.265625 -1.421875 13.375 4.4375 \nQ 8.5 10.296875 8.5 21.578125 \nz\nM 31.109375 56 \nz\n\" id=\"DejaVuSans-117\"/>\n      <path d=\"M 41.109375 46.296875 \nQ 39.59375 47.171875 37.8125 47.578125 \nQ 36.03125 48 33.890625 48 \nQ 26.265625 48 22.1875 43.046875 \nQ 18.109375 38.09375 18.109375 28.8125 \nL 18.109375 0 \nL 9.078125 0 \nL 9.078125 54.6875 \nL 18.109375 54.6875 \nL 18.109375 46.1875 \nQ 20.953125 51.171875 25.484375 53.578125 \nQ 30.03125 56 36.53125 56 \nQ 37.453125 56 38.578125 55.875 \nQ 39.703125 55.765625 41.0625 55.515625 \nz\n\" id=\"DejaVuSans-114\"/>\n      <path d=\"M 34.28125 27.484375 \nQ 23.390625 27.484375 19.1875 25 \nQ 14.984375 22.515625 14.984375 16.5 \nQ 14.984375 11.71875 18.140625 8.90625 \nQ 21.296875 6.109375 26.703125 6.109375 \nQ 34.1875 6.109375 38.703125 11.40625 \nQ 43.21875 16.703125 43.21875 25.484375 \nL 43.21875 27.484375 \nz\nM 52.203125 31.203125 \nL 52.203125 0 \nL 43.21875 0 \nL 43.21875 8.296875 \nQ 40.140625 3.328125 35.546875 0.953125 \nQ 30.953125 -1.421875 24.3125 -1.421875 \nQ 15.921875 -1.421875 10.953125 3.296875 \nQ 6 8.015625 6 15.921875 \nQ 6 25.140625 12.171875 29.828125 \nQ 18.359375 34.515625 30.609375 34.515625 \nL 43.21875 34.515625 \nL 43.21875 35.40625 \nQ 43.21875 41.609375 39.140625 45 \nQ 35.0625 48.390625 27.6875 48.390625 \nQ 23 48.390625 18.546875 47.265625 \nQ 14.109375 46.140625 10.015625 43.890625 \nL 10.015625 52.203125 \nQ 14.9375 54.109375 19.578125 55.046875 \nQ 24.21875 56 28.609375 56 \nQ 40.484375 56 46.34375 49.84375 \nQ 52.203125 43.703125 52.203125 31.203125 \nz\n\" id=\"DejaVuSans-97\"/>\n      <path d=\"M 32.171875 -5.078125 \nQ 28.375 -14.84375 24.75 -17.8125 \nQ 21.140625 -20.796875 15.09375 -20.796875 \nL 7.90625 -20.796875 \nL 7.90625 -13.28125 \nL 13.1875 -13.28125 \nQ 16.890625 -13.28125 18.9375 -11.515625 \nQ 21 -9.765625 23.484375 -3.21875 \nL 25.09375 0.875 \nL 2.984375 54.6875 \nL 12.5 54.6875 \nL 29.59375 11.921875 \nL 46.6875 54.6875 \nL 56.203125 54.6875 \nz\n\" id=\"DejaVuSans-121\"/>\n     </defs>\n     <g transform=\"translate(357.990852 170.49375)rotate(-90)scale(0.12 -0.12)\">\n      <use xlink:href=\"#DejaVuSans-65\"/>\n      <use x=\"66.658203\" xlink:href=\"#DejaVuSans-99\"/>\n      <use x=\"121.638672\" xlink:href=\"#DejaVuSans-99\"/>\n      <use x=\"176.619141\" xlink:href=\"#DejaVuSans-117\"/>\n      <use x=\"239.998047\" xlink:href=\"#DejaVuSans-114\"/>\n      <use x=\"281.111328\" xlink:href=\"#DejaVuSans-97\"/>\n      <use x=\"342.390625\" xlink:href=\"#DejaVuSans-99\"/>\n      <use x=\"397.371094\" xlink:href=\"#DejaVuSans-121\"/>\n     </g>\n    </g>\n   </g>\n   <g id=\"line2d_68\">\n    <path clip-path=\"url(#pda88b64cc8)\" d=\"M 403.194251 266.645455 \nL 416.817566 157.199607 \nL 430.44088 130.318177 \nL 444.064194 117.065693 \nL 457.687509 108.406387 \nL 471.310823 98.391705 \nL 484.934138 89.883092 \nL 498.557452 80.20728 \nL 512.180767 71.547974 \nL 525.804081 65.825299 \nL 539.427396 57.203693 \nL 553.05071 53.28815 \nL 566.674025 45.156 \nL 580.297339 50.615097 \nL 593.920654 39.809788 \nL 607.543968 35.141318 \nL 621.167283 29.117472 \nL 634.790597 28.364437 \nL 648.413912 22.302998 \nL 662.037226 19.554545 \n\" style=\"fill:none;stroke:#008fd5;\"/>\n   </g>\n   <g id=\"patch_8\">\n    <path d=\"M 390.252102 279 \nL 390.252102 7.2 \n\" style=\"fill:none;stroke:#f0f0f0;stroke-linecap:square;stroke-linejoin:miter;stroke-width:3;\"/>\n   </g>\n   <g id=\"patch_9\">\n    <path d=\"M 674.979375 279 \nL 674.979375 7.2 \n\" style=\"fill:none;stroke:#f0f0f0;stroke-linecap:square;stroke-linejoin:miter;stroke-width:3;\"/>\n   </g>\n   <g id=\"patch_10\">\n    <path d=\"M 390.252102 279 \nL 674.979375 279 \n\" style=\"fill:none;stroke:#f0f0f0;stroke-linecap:square;stroke-linejoin:miter;stroke-width:3;\"/>\n   </g>\n   <g id=\"patch_11\">\n    <path d=\"M 390.252102 7.2 \nL 674.979375 7.2 \n\" style=\"fill:none;stroke:#f0f0f0;stroke-linecap:square;stroke-linejoin:miter;stroke-width:3;\"/>\n   </g>\n  </g>\n </g>\n <defs>\n  <clipPath id=\"p64143ca1e1\">\n   <rect height=\"271.8\" width=\"284.727273\" x=\"48.579375\" y=\"7.2\"/>\n  </clipPath>\n  <clipPath id=\"pda88b64cc8\">\n   <rect height=\"271.8\" width=\"284.727273\" x=\"390.252102\" y=\"7.2\"/>\n  </clipPath>\n </defs>\n</svg>\n"
          },
          "metadata": {
            "tags": [],
            "needs_background": "light"
          }
        }
      ]
    },
    {
      "cell_type": "markdown",
      "metadata": {
        "id": "vFalO0u-oE9y"
      },
      "source": [
        "Apparently, our network learned its task well. However, we need to evaluate its results in a set of images that it has never seen before: the test set. For doing so, we need to predict using *X_test* and then compare the predictions with *y_test*."
      ]
    },
    {
      "cell_type": "code",
      "metadata": {
        "id": "eWToB1i2xEtx",
        "outputId": "e1473367-0c00-4b14-e19f-99031351f857",
        "colab": {
          "base_uri": "https://localhost:8080/"
        }
      },
      "source": [
        "y_pred = model.predict(X_test)\n",
        "\n",
        "# As every prediction is a vector of probabilities,\n",
        "# we shall take the argmax for having the actual labels\n",
        "y_pred = np.argmax(y_pred, axis=1)\n",
        "\n",
        "# we can better visualize the performance with the classification_report\n",
        "named_labels = ['T-shirt/top',\n",
        "                'Trouser', 'Pullover',\n",
        "                'Dress',\n",
        "                'Coat',\n",
        "                'Sandal',\n",
        "                'Shirt',\n",
        "                'Sneaker',\n",
        "                'Bag',\n",
        "                'Ankle boot']\n",
        "\n",
        "print(classification_report(y_test, y_pred, target_names=named_labels))\n"
      ],
      "execution_count": null,
      "outputs": [
        {
          "output_type": "stream",
          "text": [
            "              precision    recall  f1-score   support\n",
            "\n",
            " T-shirt/top       0.92      0.84      0.88      1000\n",
            "     Trouser       0.99      0.99      0.99      1000\n",
            "    Pullover       0.88      0.92      0.90      1000\n",
            "       Dress       0.93      0.94      0.93      1000\n",
            "        Coat       0.91      0.87      0.89      1000\n",
            "      Sandal       0.99      0.99      0.99      1000\n",
            "       Shirt       0.77      0.83      0.80      1000\n",
            "     Sneaker       0.95      0.99      0.97      1000\n",
            "         Bag       0.98      0.98      0.98      1000\n",
            "  Ankle boot       0.98      0.96      0.97      1000\n",
            "\n",
            "    accuracy                           0.93     10000\n",
            "   macro avg       0.93      0.93      0.93     10000\n",
            "weighted avg       0.93      0.93      0.93     10000\n",
            "\n"
          ],
          "name": "stdout"
        }
      ]
    },
    {
      "cell_type": "markdown",
      "metadata": {
        "id": "rQcAqxI4128R"
      },
      "source": [
        "We reach 93% accuracy, which means that 93% of the time, our neural network can tell the right clothe it sees in the images. The network actually learned to identify our classes, WONDERFULL.\n",
        "\n",
        "It isn't the sky, but it is pretty close, so let's celebrate.\n",
        "\n",
        "<p align=\"center\">\n",
        "<img src=\"https://raw.githubusercontent.com/RodrigoMarquesP/Image_classification_with_CNNs_using_VGGNet/main/files/celebration.gif\">\n",
        "</p>"
      ]
    }
  ]
}